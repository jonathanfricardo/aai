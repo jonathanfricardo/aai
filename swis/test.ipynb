{
 "cells": [
  {
   "cell_type": "code",
   "execution_count": 1,
   "metadata": {},
   "outputs": [
    {
     "name": "stderr",
     "output_type": "stream",
     "text": [
      "/Users/jonathanricardo/anaconda3/lib/python3.11/site-packages/transformers/utils/generic.py:441: UserWarning: torch.utils._pytree._register_pytree_node is deprecated. Please use torch.utils._pytree.register_pytree_node instead.\n",
      "  _torch_pytree._register_pytree_node(\n"
     ]
    }
   ],
   "source": [
    "from ultralytics import YOLO\n",
    "\n",
    "model = YOLO('best.pt')"
   ]
  },
  {
   "cell_type": "code",
   "execution_count": 2,
   "metadata": {},
   "outputs": [
    {
     "name": "stdout",
     "output_type": "stream",
     "text": [
      "\n",
      "image 1/1 /Users/jonathanricardo/Library/CloudStorage/OneDrive-HvA/Semester 4 - AI/Logboek AAI/minor-logboek-aai-2023-jonathan/swis/Fridge_2.jpg: 384x640 1 apple, 1 butter, 1 heavy_cream, 3 spinachs, 1 tomato, 460.3ms\n",
      "Speed: 3.5ms preprocess, 460.3ms inference, 8.8ms postprocess per image at shape (1, 3, 384, 640)\n",
      "Results saved to \u001b[1mruns/detect/predict2\u001b[0m\n"
     ]
    },
    {
     "data": {
      "text/plain": [
       "[ultralytics.engine.results.Results object with attributes:\n",
       " \n",
       " boxes: ultralytics.engine.results.Boxes object\n",
       " keypoints: None\n",
       " masks: None\n",
       " names: {0: 'apple', 1: 'banana', 2: 'beef', 3: 'blueberries', 4: 'bread', 5: 'butter', 6: 'carrot', 7: 'cheese', 8: 'chicken', 9: 'chicken_breast', 10: 'chocolate', 11: 'corn', 12: 'eggs', 13: 'flour', 14: 'goat_cheese', 15: 'green_beans', 16: 'ground_beef', 17: 'ham', 18: 'heavy_cream', 19: 'lime', 20: 'milk', 21: 'mushrooms', 22: 'onion', 23: 'potato', 24: 'shrimp', 25: 'spinach', 26: 'strawberries', 27: 'sugar', 28: 'sweet_potato', 29: 'tomato'}\n",
       " obb: None\n",
       " orig_img: array([[[200, 206, 213],\n",
       "         [200, 206, 213],\n",
       "         [200, 206, 213],\n",
       "         ...,\n",
       "         [222, 222, 228],\n",
       "         [221, 221, 227],\n",
       "         [221, 221, 227]],\n",
       " \n",
       "        [[190, 196, 203],\n",
       "         [193, 199, 206],\n",
       "         [198, 204, 211],\n",
       "         ...,\n",
       "         [222, 222, 228],\n",
       "         [221, 221, 227],\n",
       "         [221, 221, 227]],\n",
       " \n",
       "        [[180, 183, 191],\n",
       "         [181, 184, 192],\n",
       "         [184, 187, 195],\n",
       "         ...,\n",
       "         [222, 222, 228],\n",
       "         [221, 221, 227],\n",
       "         [221, 221, 227]],\n",
       " \n",
       "        ...,\n",
       " \n",
       "        [[  9, 177, 118],\n",
       "         [  2, 167,  99],\n",
       "         [  0, 160,  84],\n",
       "         ...,\n",
       "         [206, 216, 223],\n",
       "         [208, 218, 225],\n",
       "         [213, 221, 228]],\n",
       " \n",
       "        [[  0, 184, 142],\n",
       "         [  4, 177, 125],\n",
       "         [  7, 177, 105],\n",
       "         ...,\n",
       "         [204, 216, 222],\n",
       "         [208, 218, 225],\n",
       "         [211, 221, 228]],\n",
       " \n",
       "        [[  0, 175, 110],\n",
       "         [  0, 185, 133],\n",
       "         [  6, 200, 157],\n",
       "         ...,\n",
       "         [204, 216, 222],\n",
       "         [208, 218, 225],\n",
       "         [211, 221, 228]]], dtype=uint8)\n",
       " orig_shape: (336, 600)\n",
       " path: '/Users/jonathanricardo/Library/CloudStorage/OneDrive-HvA/Semester 4 - AI/Logboek AAI/minor-logboek-aai-2023-jonathan/swis/Fridge_2.jpg'\n",
       " probs: None\n",
       " save_dir: 'runs/detect/predict2'\n",
       " speed: {'preprocess': 3.4928321838378906, 'inference': 460.2799415588379, 'postprocess': 8.841991424560547}]"
      ]
     },
     "execution_count": 2,
     "metadata": {},
     "output_type": "execute_result"
    },
    {
     "ename": "",
     "evalue": "",
     "output_type": "error",
     "traceback": [
      "\u001b[1;31mThe Kernel crashed while executing code in the current cell or a previous cell. \n",
      "\u001b[1;31mPlease review the code in the cell(s) to identify a possible cause of the failure. \n",
      "\u001b[1;31mClick <a href='https://aka.ms/vscodeJupyterKernelCrash'>here</a> for more info. \n",
      "\u001b[1;31mView Jupyter <a href='command:jupyter.viewOutput'>log</a> for further details."
     ]
    }
   ],
   "source": [
    "model.predict(\"Fridge_2.jpg\", imgsz=640, conf=0.5, save=True, show=True)"
   ]
  }
 ],
 "metadata": {
  "kernelspec": {
   "display_name": "base",
   "language": "python",
   "name": "python3"
  },
  "language_info": {
   "codemirror_mode": {
    "name": "ipython",
    "version": 3
   },
   "file_extension": ".py",
   "mimetype": "text/x-python",
   "name": "python",
   "nbconvert_exporter": "python",
   "pygments_lexer": "ipython3",
   "version": "3.11.5"
  }
 },
 "nbformat": 4,
 "nbformat_minor": 2
}
