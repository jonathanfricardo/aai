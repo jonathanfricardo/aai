{
 "cells": [
  {
   "cell_type": "markdown",
   "metadata": {},
   "source": [
    "# Numba Basics\n",
    "\n",
    "Numba is a just-in-time compiler of Python functions.  It translates a Python function when it is called into a machine code equivalent that runs anywhere from 2x (simple NumPy operations) to 100x (complex Python loops) faster.  In this notebook, we show some basic examples of using Numba."
   ]
  },
  {
   "cell_type": "markdown",
   "metadata": {},
   "source": [
    "<font color=\"lightblue\">\n",
    "\n",
    "Waarom Numba veel sneller is:\n",
    "\n",
    "1. Just-In-Time (JIT) Compilatie:\n",
    "    - Numba gebruikt JIT-compilatie om Python-functies tijdens de uitvoering te vertalen naar efficiënte machinecode. Dit vermindert de interpretatie-overhead van de Python-tussenlaag aanzienlijk.\n",
    "\n",
    "2. Optimalisaties:\n",
    "    - Numba voert verschillende optimalisaties uit tijdens de compilatie, zoals loop-unrolling en vectorisatie, wat resulteert in snellere uitvoer.\n",
    "\n",
    "3. Gebruik van LLVM:\n",
    "    - Numba maakt gebruik van de LLVM (Low-Level Virtual Machine) compiler-infrastructuur, die bekend staat om zijn vermogen om zeer efficiënte machinecode te genereren.\n",
    "\n",
    "4. Efficiënte verwerking van numerieke arrays:\n",
    "    - Numba is speciaal ontworpen om goed samen te werken met NumPy, een populaire bibliotheek voor numerieke berekeningen in Python. Het kan NumPy-arraybewerkingen versnellen door ze te compileren naar geoptimaliseerde machinecode.\n",
    "\n",
    "</font>"
   ]
  },
  {
   "cell_type": "markdown",
   "metadata": {},
   "source": [
    "<font color=\"lightblue\">\n",
    "\n",
    "1. Decorators voor JIT-compilatie:\n",
    "\n",
    "    - Numba biedt decorators zoals @jit en @njit (no Python mode) die gebruikt kunnen worden om functies aan te geven die gecompileerd moeten worden. Bijvoorbeeld:\n",
    "\n",
    "2. No Python Mode (@njit):\n",
    "\n",
    "    - Door gebruik te maken van de @njit decorator, zorgt Numba ervoor dat de functie geen gebruik maakt van de Python-interpreter, wat extra snelheid oplevert omdat het volledig in machinecode wordt uitgevoerd.\n",
    "\n",
    "3. Compatibiliteit met NumPy:\n",
    "\n",
    "    - Numba kan veel NumPy-functies versnellen. Het compileert NumPy-bewerkingen direct naar efficiënte machinecode.\n",
    "\n",
    "4. Parallelisatie:\n",
    "\n",
    "    - Numba ondersteunt ook parallelle uitvoering met de @jit(parallel=True) decorator, die automatisch vectorisatie en parallelisatie van loops kan toepassen.\n",
    "\n",
    "#### Samenvatting:\n",
    "\n",
    "Numba versnelt Python-code door gebruik te maken van JIT-compilatie en optimalisaties via de LLVM-infrastructuur. Het biedt een eenvoudige manier om Python-functies te compileren naar machinecode door middel van decorators, wat leidt tot aanzienlijke prestatieverbeteringen, vooral bij numerieke en wetenschappelijke berekeningen met NumPy. Door de overhead van de Python-interpreter te verminderen en efficiënte machinecode te genereren, maakt Numba het mogelijk om Python-code uit te voeren met snelheden die dicht bij die van gecompileerde talen zoals C en Fortran liggen.\n",
    "\n",
    "</font>"
   ]
  },
  {
   "cell_type": "code",
   "execution_count": 1,
   "metadata": {},
   "outputs": [],
   "source": [
    "import numpy as np\n",
    "import numba\n",
    "from numba import jit"
   ]
  },
  {
   "cell_type": "markdown",
   "metadata": {},
   "source": [
    "Let's check which version of Numba we have:"
   ]
  },
  {
   "cell_type": "code",
   "execution_count": 2,
   "metadata": {},
   "outputs": [
    {
     "name": "stdout",
     "output_type": "stream",
     "text": [
      "0.59.1\n"
     ]
    }
   ],
   "source": [
    "print(numba.__version__)"
   ]
  },
  {
   "cell_type": "markdown",
   "metadata": {},
   "source": [
    "Numba uses Python *decorators* to transform Python functions into functions that compile themselves.  The most common Numba decorator is `@jit`, which creates a normal function for execution on the CPU.\n",
    "\n",
    "Numba works best on numerical functions that make use of NumPy arrays.  Here's an example:"
   ]
  },
  {
   "cell_type": "code",
   "execution_count": 3,
   "metadata": {},
   "outputs": [],
   "source": [
    "@jit(nopython=True)\n",
    "def go_fast(a): # Function is compiled to machine code when called the first time\n",
    "    trace = 0.0\n",
    "    # assuming square input matrix\n",
    "    for i in range(a.shape[0]):   # Numba likes loops\n",
    "        trace += np.tanh(a[i, i]) # Numba likes NumPy functions\n",
    "    return a + trace              # Numba likes NumPy broadcasting"
   ]
  },
  {
   "cell_type": "markdown",
   "metadata": {},
   "source": [
    "The `nopython=True` option requires that the function be fully compiled (so that the Python interpreter calls are completely removed), otherwise an exception is raised.  These exceptions usually indicate places in the function that need to be modified in order to achieve better-than-Python performance.  We strongly recommend always using `nopython=True`.\n",
    "\n",
    "The function has not yet been compiled.  To do that, we need to call the function:"
   ]
  },
  {
   "cell_type": "code",
   "execution_count": 4,
   "metadata": {},
   "outputs": [
    {
     "data": {
      "text/plain": [
       "array([[  9.,  10.,  11.,  12.,  13.,  14.,  15.,  16.,  17.,  18.],\n",
       "       [ 19.,  20.,  21.,  22.,  23.,  24.,  25.,  26.,  27.,  28.],\n",
       "       [ 29.,  30.,  31.,  32.,  33.,  34.,  35.,  36.,  37.,  38.],\n",
       "       [ 39.,  40.,  41.,  42.,  43.,  44.,  45.,  46.,  47.,  48.],\n",
       "       [ 49.,  50.,  51.,  52.,  53.,  54.,  55.,  56.,  57.,  58.],\n",
       "       [ 59.,  60.,  61.,  62.,  63.,  64.,  65.,  66.,  67.,  68.],\n",
       "       [ 69.,  70.,  71.,  72.,  73.,  74.,  75.,  76.,  77.,  78.],\n",
       "       [ 79.,  80.,  81.,  82.,  83.,  84.,  85.,  86.,  87.,  88.],\n",
       "       [ 89.,  90.,  91.,  92.,  93.,  94.,  95.,  96.,  97.,  98.],\n",
       "       [ 99., 100., 101., 102., 103., 104., 105., 106., 107., 108.]])"
      ]
     },
     "execution_count": 4,
     "metadata": {},
     "output_type": "execute_result"
    }
   ],
   "source": [
    "x = np.arange(100).reshape(10, 10)\n",
    "go_fast(x)"
   ]
  },
  {
   "cell_type": "markdown",
   "metadata": {},
   "source": [
    "This first time the function was called, a new version of the function was compiled and executed.  If we call it again, the previously generated function executions without another compilation step."
   ]
  },
  {
   "cell_type": "code",
   "execution_count": 5,
   "metadata": {},
   "outputs": [
    {
     "data": {
      "text/plain": [
       "array([[  9.,  11.,  13.,  15.,  17.,  19.,  21.,  23.,  25.,  27.],\n",
       "       [ 29.,  31.,  33.,  35.,  37.,  39.,  41.,  43.,  45.,  47.],\n",
       "       [ 49.,  51.,  53.,  55.,  57.,  59.,  61.,  63.,  65.,  67.],\n",
       "       [ 69.,  71.,  73.,  75.,  77.,  79.,  81.,  83.,  85.,  87.],\n",
       "       [ 89.,  91.,  93.,  95.,  97.,  99., 101., 103., 105., 107.],\n",
       "       [109., 111., 113., 115., 117., 119., 121., 123., 125., 127.],\n",
       "       [129., 131., 133., 135., 137., 139., 141., 143., 145., 147.],\n",
       "       [149., 151., 153., 155., 157., 159., 161., 163., 165., 167.],\n",
       "       [169., 171., 173., 175., 177., 179., 181., 183., 185., 187.],\n",
       "       [189., 191., 193., 195., 197., 199., 201., 203., 205., 207.]])"
      ]
     },
     "execution_count": 5,
     "metadata": {},
     "output_type": "execute_result"
    }
   ],
   "source": [
    "go_fast(2*x)"
   ]
  },
  {
   "cell_type": "markdown",
   "metadata": {},
   "source": [
    "To benchmark Numba-compiled functions, it is important to time them without including the compilation step, since the compilation of a given function will only happen once for each set of input types, but the function will be called many times.\n",
    "\n",
    "In a notebook, the `%timeit` magic function is the best to use because it runs the function many times in a loop to get a more accurate estimate of the execution time of short functions."
   ]
  },
  {
   "cell_type": "code",
   "execution_count": 6,
   "metadata": {},
   "outputs": [
    {
     "name": "stdout",
     "output_type": "stream",
     "text": [
      "955 ns ± 9.48 ns per loop (mean ± std. dev. of 7 runs, 1,000,000 loops each)\n"
     ]
    }
   ],
   "source": [
    "%timeit go_fast(x)"
   ]
  },
  {
   "cell_type": "markdown",
   "metadata": {},
   "source": [
    "Let's compare to the uncompiled function.  Numba-compiled function have a special `.py_func` attribute which is the original uncompiled Python function.  We should first verify we get the same results:"
   ]
  },
  {
   "cell_type": "code",
   "execution_count": 14,
   "metadata": {},
   "outputs": [],
   "source": [
    "np.testing.assert_array_equal(go_fast(x), go_fast.py_func(x))"
   ]
  },
  {
   "cell_type": "markdown",
   "metadata": {},
   "source": [
    "And test the speed of the Python version:"
   ]
  },
  {
   "cell_type": "code",
   "execution_count": 8,
   "metadata": {},
   "outputs": [
    {
     "name": "stdout",
     "output_type": "stream",
     "text": [
      "19.6 µs ± 237 ns per loop (mean ± std. dev. of 7 runs, 10,000 loops each)\n"
     ]
    }
   ],
   "source": [
    "%timeit go_fast.py_func(x)"
   ]
  },
  {
   "cell_type": "markdown",
   "metadata": {},
   "source": [
    "The original Python function is more than 20x slower than the Numba-compiled version.  However, the Numba function used explicit loops, which are very fast in Numba and not very fast in Python.  Our example function is so simple, we can create an alternate version of `go_fast` using only NumPy array expressions:"
   ]
  },
  {
   "cell_type": "code",
   "execution_count": 9,
   "metadata": {},
   "outputs": [],
   "source": [
    "def go_numpy(a):\n",
    "    return a + np.tanh(np.diagonal(a)).sum()"
   ]
  },
  {
   "cell_type": "code",
   "execution_count": 10,
   "metadata": {},
   "outputs": [],
   "source": [
    "np.testing.assert_array_equal(go_numpy(x), go_fast(x))"
   ]
  },
  {
   "cell_type": "code",
   "execution_count": 11,
   "metadata": {},
   "outputs": [
    {
     "name": "stdout",
     "output_type": "stream",
     "text": [
      "7.14 µs ± 98 ns per loop (mean ± std. dev. of 7 runs, 100,000 loops each)\n"
     ]
    }
   ],
   "source": [
    "%timeit go_numpy(x)"
   ]
  },
  {
   "cell_type": "markdown",
   "metadata": {},
   "source": [
    "The NumPy version is more than 2x faster than Python, but still 10x slower than Numba."
   ]
  },
  {
   "cell_type": "markdown",
   "metadata": {},
   "source": []
  },
  {
   "cell_type": "markdown",
   "metadata": {},
   "source": [
    "### Supported Python Features\n",
    "\n",
    "Numba works best when used with NumPy arrays, but Numba also supports other data types out of the box:\n",
    "\n",
    "* `int`, `float`\n",
    "* `tuple`, `namedtuple`\n",
    "* `list` (with some restrictions)\n",
    "* ... and others.  See the [Reference Manual](https://numba.pydata.org/numba-doc/latest/reference/pysupported.html) for more details.\n",
    "\n",
    "In particular, tuples are useful for returning multiple values from functions:"
   ]
  },
  {
   "cell_type": "code",
   "execution_count": 12,
   "metadata": {},
   "outputs": [],
   "source": [
    "import random\n",
    "\n",
    "@jit(nopython=True)\n",
    "def spherical_to_cartesian(r, theta, phi):\n",
    "    '''Convert spherical coordinates (physics convention) to cartesian coordinates'''\n",
    "    sin_theta = np.sin(theta)\n",
    "    x = r * sin_theta * np.cos(phi)\n",
    "    y = r * sin_theta * np.sin(phi)\n",
    "    z = r * np.cos(theta)\n",
    "    \n",
    "    return x, y, z # return a tuple\n",
    "    \n",
    "@jit(nopython=True)\n",
    "def random_directions(n, r):\n",
    "    '''Return ``n`` 3-vectors in random directions with radius ``r``'''\n",
    "    out = np.empty(shape=(n,3), dtype=np.float64)\n",
    "    \n",
    "    for i in range(n):\n",
    "        # Pick directions randomly in solid angle\n",
    "        phi = random.uniform(0, 2*np.pi)\n",
    "        theta = np.arccos(random.uniform(-1, 1))\n",
    "        # unpack a tuple\n",
    "        x, y, z = spherical_to_cartesian(r, theta, phi)\n",
    "        out[i] = x, y, z\n",
    "    \n",
    "    return out"
   ]
  },
  {
   "cell_type": "code",
   "execution_count": 13,
   "metadata": {},
   "outputs": [
    {
     "data": {
      "text/plain": [
       "array([[-0.76022916,  0.64964351, -0.00386411],\n",
       "       [ 0.08776373,  0.66349698,  0.74301365],\n",
       "       [-0.90196726,  0.32804554,  0.28078674],\n",
       "       [-0.12496695,  0.85378695,  0.50540193],\n",
       "       [-0.41744933,  0.10235328,  0.90291742],\n",
       "       [-0.73379928,  0.66708681,  0.12858384],\n",
       "       [-0.09300244, -0.98296102, -0.15855027],\n",
       "       [ 0.08307089,  0.19024318,  0.97821611],\n",
       "       [-0.08838357,  0.09152243,  0.99187297],\n",
       "       [ 0.91267943,  0.04452   ,  0.40624406]])"
      ]
     },
     "execution_count": 13,
     "metadata": {},
     "output_type": "execute_result"
    }
   ],
   "source": [
    "random_directions(10, 1.0)"
   ]
  },
  {
   "cell_type": "markdown",
   "metadata": {},
   "source": [
    "When Numba is translating Python to machine code, it uses the [LLVM](https://llvm.org/) library to do most of the optimization and final code generation.  This automatically enables a wide range of optimizations that you don't even have to think about.  If we were to inspect the output of the compiler for the previous random directions example, we would find that:\n",
    "\n",
    "* The function body for `spherical_to_cartesian()` was inlined directly into the body of the for loop in `random_directions`, eliminating the overhead of making a function call.\n",
    "* The separate calls to `sin()` and `cos()` were combined into a single, faster call to an internal `sincos()` function.\n",
    "\n",
    "These kinds of cross-function optimizations are one of the reasons that Numba can sometimes outperform compiled NumPy code."
   ]
  },
  {
   "cell_type": "code",
   "execution_count": null,
   "metadata": {},
   "outputs": [],
   "source": []
  }
 ],
 "metadata": {
  "kernelspec": {
   "display_name": "Python 3 (ipykernel)",
   "language": "python",
   "name": "python3"
  },
  "language_info": {
   "codemirror_mode": {
    "name": "ipython",
    "version": 3
   },
   "file_extension": ".py",
   "mimetype": "text/x-python",
   "name": "python",
   "nbconvert_exporter": "python",
   "pygments_lexer": "ipython3",
   "version": "3.11.7"
  }
 },
 "nbformat": 4,
 "nbformat_minor": 2
}
