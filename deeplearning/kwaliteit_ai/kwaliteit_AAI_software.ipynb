{
 "cells": [
  {
   "cell_type": "markdown",
   "metadata": {},
   "source": [
    "# Reflectie op mijn Notebooks\n",
    "\n",
    "In dit notebook, schrijf ik een korte reflectie over de kwaliteit van mijn werk. Hier bruik ik 2 notebooks voor, namelijk: [Melanoma](machinelearning/personal/Melanoma/melanoma_binary.ipynb) en [Neural Network from scratch](python_nn\\NN_from_scratch\\NN_from_scratch.ipynb) voor."
   ]
  },
  {
   "cell_type": "markdown",
   "metadata": {},
   "source": [
    "# Melanoma\n",
    "\n",
    "Dit notebook is een van de persoonlijke opdrachten voor machine learning. Hierin heb een bineary classification probleem mee opgelost.\n",
    "\n",
    "In het begin geef ik altijd een inleiding van het notebook. Wat is het probleem, wat is het doel en hoe ik het ga aanpakken. Dit heb ik ook gedaan.\n",
    "\n",
    "Daarna import ik alle nodige libraries voordat ik aan de slag ga. Ik volg altijd het zelfde stappen plan: Visualizatie, Data cleaning, Training/Testing, Verbeteren en Evalueren. Hierma laat ik uitgebreid zien hoe ik werk en wat mij opvalt.\n",
    "\n",
    "Wel ben ik vergeten om een referentie naar de dataset te geven van Kaggle. Dit is slordig van mij, en in de toekomst moet ik er voor zorgen dat dit wel vermeld staat. Zodat andere mensen ook gebruik kunnen maken van mijn notebook.\n",
    "\n",
    "Mijn gitignore zorgt ervoor dat geen een dataset in mijn gitlab komt.\n",
    "\n",
    "Voor en na elk code block, maak ik aantekeningen over wat er gebeurd is. Wat mij opvalt of wat er interessant is. Dit is vooral belangrijk bij het verbeteren van een model. Als je duidelijk begrijpt wat er gebeurd, waarom en hoe, is het een stuk makkelijker om een model dus ook te verbeteren.\n",
    "\n",
    "Aan het einde van mijn notebook geef ik ook nog een korte samenvatting over wat ik gedaan heb, en of het succesvol was."
   ]
  },
  {
   "cell_type": "markdown",
   "metadata": {},
   "source": [
    "# Neural Network\n",
    "\n",
    "##### Inleiding en Conclusies in Notebooks\n",
    "In mijn notitieboekje heb ik gezorgd voor een heldere inleiding waarin ik het doel van het project en de structuur van het neurale netwerk uitleg. Dit omvat het ontwerp van de basislaag (Layer klasse), de specifieke Dense en Activation lagen, en de implementatie van de Tanh activatiefunctie. De conclusie van het experiment toont de resultaten van het netwerk dat getraind is op het XOR probleem, waarbij ik de fout tijdens elke epoch heb gelogd.\n",
    "\n",
    "##### Aantekeningen in Markdown (LaTeX voor Formules)\n",
    "Ik heb gebruik gemaakt van markdown en LaTeX om formules en uitleg duidelijk weer te geven. Dit helpt bij het visualiseren en begrijpen van de wiskundige basis van de backpropagation algoritmes en activatiefuncties. De notatie is consistent en zorgt voor een academisch niveau van documentatie, wat essentieel is voor de reproduceerbaarheid en het begrip van de methodologie.\n",
    "\n",
    "##### Code Kwaliteit\n",
    "De code is modulair opgebouwd met duidelijke scheiding van verantwoordelijkheden tussen verschillende lagen en functies. De basislaag (Layer klasse) biedt een sjabloon voor de inherente structuur die alle specifieke lagen erven. Dit bevordert hergebruik en eenvoud in het uitbreiden van het netwerk met nieuwe soorten lagen. De Dense en Activation lagen zijn goed gedocumenteerd en de methoden zijn duidelijk benoemd.\n",
    "\n",
    "Voor het trainen van het netwerk heb ik een standaard iteratieve benadering gebruikt, waarbij forward en backward passes netjes zijn gescheiden. Dit maakt het makkelijk om te debuggen en te begrijpen welke delen van het netwerk welke resultaten produceren.\n",
    "\n",
    "Over het algemeen ben ik tevreden met de huidige staat van mijn neurale netwerk ontwerp en implementatie. Het voldoet aan de waarden van duidelijke documentatie, goed gestructureerde code en gebruik van LaTeX voor formules, wat essentieel is voor een academisch en professioneel niveau van werken."
   ]
  }
 ],
 "metadata": {
  "language_info": {
   "name": "python"
  }
 },
 "nbformat": 4,
 "nbformat_minor": 2
}
