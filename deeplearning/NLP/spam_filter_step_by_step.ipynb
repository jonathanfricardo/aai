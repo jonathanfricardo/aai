{
 "cells": [
  {
   "cell_type": "markdown",
   "metadata": {},
   "source": [
    "# Spam Filter"
   ]
  },
  {
   "cell_type": "markdown",
   "metadata": {},
   "source": [
    "In dit notebook maken we een spamfilter."
   ]
  },
  {
   "cell_type": "markdown",
   "metadata": {},
   "source": [
    "## Verover de data"
   ]
  },
  {
   "cell_type": "markdown",
   "metadata": {},
   "source": [
    "We maken gebruik van publieke data van Apache Spamassassin. Deze data gaan we downloaden van het internet. Zorg dat hieronder bij `SPAM_PATH` de naam van de map staat waar je het resultaat wilt opslaan."
   ]
  },
  {
   "cell_type": "code",
   "execution_count": 1,
   "metadata": {},
   "outputs": [
    {
     "name": "stderr",
     "output_type": "stream",
     "text": [
      "C:\\Users\\Jonathan\\AppData\\Local\\Temp\\ipykernel_18344\\852822296.py:6: DeprecationWarning: \n",
      "Pyarrow will become a required dependency of pandas in the next major release of pandas (pandas 3.0),\n",
      "(to allow more performant data types, such as the Arrow string type, and better interoperability with other libraries)\n",
      "but was not found to be installed on your system.\n",
      "If this would cause problems for you,\n",
      "please provide us feedback at https://github.com/pandas-dev/pandas/issues/54466\n",
      "        \n",
      "  import pandas as pd\n"
     ]
    }
   ],
   "source": [
    "import os\n",
    "import tarfile\n",
    "from six.moves import urllib\n",
    "\n",
    "import numpy as np\n",
    "import pandas as pd\n",
    "\n",
    "from sklearn.model_selection import train_test_split\n",
    "\n"
   ]
  },
  {
   "cell_type": "code",
   "execution_count": 2,
   "metadata": {},
   "outputs": [],
   "source": [
    "DOWNLOAD_ROOT = \"http://spamassassin.apache.org/old/publiccorpus/\"\n",
    "HAM_URL = DOWNLOAD_ROOT + \"20030228_easy_ham.tar.bz2\"\n",
    "SPAM_URL = DOWNLOAD_ROOT + \"20030228_spam.tar.bz2\"\n",
    "\n",
    "# verander onderstaande url in de map waarin je het resultaat wilt opslaan\n",
    "SPAM_PATH = \"NLP\""
   ]
  },
  {
   "cell_type": "code",
   "execution_count": null,
   "metadata": {},
   "outputs": [],
   "source": []
  },
  {
   "cell_type": "markdown",
   "metadata": {},
   "source": [
    "We maken een pythonfunctie om de bestanden van internet te halen. Zoek uit wat deze functie doet."
   ]
  },
  {
   "cell_type": "code",
   "execution_count": 3,
   "metadata": {},
   "outputs": [],
   "source": [
    "def fetch_spam_data(spam_path=SPAM_PATH):\n",
    "    if not os.path.isdir(spam_path):# als de map nog niet bestaat...\n",
    "        os.makedirs(spam_path)\n",
    "    \n",
    "    for filename, url in ((\"ham.tar.bz2\", HAM_URL), (\"spam.tar.bz2\", SPAM_URL)):\n",
    "        path = os.path.join(spam_path, filename)\n",
    "        \n",
    "        if not os.path.isfile(path): # als het bestand nog niet bestaat...\n",
    "            urllib.request.urlretrieve(url, path)\n",
    "        \n",
    "        tar_bz2_file = tarfile.open(path)\n",
    "        tar_bz2_file.extractall(path=SPAM_PATH)\n",
    "        tar_bz2_file.close()"
   ]
  },
  {
   "cell_type": "markdown",
   "metadata": {},
   "source": [
    "Na het aanroepen van de functie moet er een map `easy_ham` en een map `spam` zijn toegevoegd binnen `SPAM_PATH`. Roep de functie aan en controleer dat dit het geval is."
   ]
  },
  {
   "cell_type": "code",
   "execution_count": 4,
   "metadata": {},
   "outputs": [],
   "source": [
    "fetch_spam_data()"
   ]
  },
  {
   "cell_type": "markdown",
   "metadata": {},
   "source": [
    "Om makkelijk bij de bestanden te kunnen, maken we voor beide categorieën een lijst met bestandsnamen.\n",
    "\n",
    "De methode `os.listdir()` geeft je een lijst van bestandsnamen in een map. Die kunnen we eventueel sorteren met `sorted()`. We gebruiken deze functies om zowel voor ham als voor spam een lijst te maken van alle bestandsnamen waarvan de lengte groter is dan 20 tekens."
   ]
  },
  {
   "cell_type": "code",
   "execution_count": 5,
   "metadata": {},
   "outputs": [],
   "source": [
    "HAM_DIR = os.path.join(SPAM_PATH, \"easy_ham\")\n",
    "SPAM_DIR = os.path.join(SPAM_PATH, \"spam\")\n",
    "\n",
    "ham_filenames = [name for name in sorted(os.listdir(HAM_DIR)) if len(name) > 20]\n",
    "spam_filenames = [name for name in sorted(os.listdir(SPAM_DIR)) if len(name) > 20]"
   ]
  },
  {
   "cell_type": "markdown",
   "metadata": {},
   "source": [
    "Hoeveel bestanden met spam zijn er?"
   ]
  },
  {
   "cell_type": "code",
   "execution_count": 6,
   "metadata": {},
   "outputs": [
    {
     "name": "stdout",
     "output_type": "stream",
     "text": [
      "500\n"
     ]
    }
   ],
   "source": [
    "print(len(spam_filenames))"
   ]
  },
  {
   "cell_type": "markdown",
   "metadata": {},
   "source": [
    "Hoeveel bestanden zonder spam (met ham) zijn er?"
   ]
  },
  {
   "cell_type": "code",
   "execution_count": 7,
   "metadata": {},
   "outputs": [
    {
     "name": "stdout",
     "output_type": "stream",
     "text": [
      "2500\n"
     ]
    }
   ],
   "source": [
    "print(len(ham_filenames))"
   ]
  },
  {
   "cell_type": "markdown",
   "metadata": {},
   "source": [
    "Laten we eens zo'n bestand bekijken, bijvoorbeeld het 4e bestand zonder spam."
   ]
  },
  {
   "cell_type": "code",
   "execution_count": 8,
   "metadata": {
    "pycharm": {
     "is_executing": true
    }
   },
   "outputs": [
    {
     "name": "stdout",
     "output_type": "stream",
     "text": [
      "['From irregulars-admin@tb.tf  Thu Aug 22 14:23:39 2002\\n', 'Return-Path: <irregulars-admin@tb.tf>\\n', 'Delivered-To: zzzz@localhost.netnoteinc.com\\n', 'Received: from localhost (localhost [127.0.0.1])\\n', '\\tby phobos.labs.netnoteinc.com (Postfix) with ESMTP id 9DAE147C66\\n', '\\tfor <zzzz@localhost>; Thu, 22 Aug 2002 09:23:38 -0400 (EDT)\\n', 'Received: from phobos [127.0.0.1]\\n', '\\tby localhost with IMAP (fetchmail-5.9.0)\\n', '\\tfor zzzz@localhost (single-drop); Thu, 22 Aug 2002 14:23:38 +0100 (IST)\\n', 'Received: from web.tb.tf (route-64-131-126-36.telocity.com\\n', '    [64.131.126.36]) by dogma.slashnull.org (8.11.6/8.11.6) with ESMTP id\\n', '    g7MDGOZ07922 for <zzzz-irr@spamassassin.taint.org>; Thu, 22 Aug 2002 14:16:24 +0100\\n', 'Received: from web.tb.tf (localhost.localdomain [127.0.0.1]) by web.tb.tf\\n', '    (8.11.6/8.11.6) with ESMTP id g7MDP9I16418; Thu, 22 Aug 2002 09:25:09\\n', '    -0400\\n', 'Received: from red.harvee.home (red [192.168.25.1] (may be forged)) by\\n', '    web.tb.tf (8.11.6/8.11.6) with ESMTP id g7MDO4I16408 for\\n', '    <irregulars@tb.tf>; Thu, 22 Aug 2002 09:24:04 -0400\\n', 'Received: from prserv.net (out4.prserv.net [32.97.166.34]) by\\n', '    red.harvee.home (8.11.6/8.11.6) with ESMTP id g7MDFBD29237 for\\n', '    <irregulars@tb.tf>; Thu, 22 Aug 2002 09:15:12 -0400\\n', 'Received: from [209.202.248.109]\\n', '    (slip-32-103-249-10.ma.us.prserv.net[32.103.249.10]) by prserv.net (out4)\\n', '    with ESMTP id <2002082213150220405qu8jce>; Thu, 22 Aug 2002 13:15:07 +0000\\n', 'MIME-Version: 1.0\\n', 'X-Sender: @ (Unverified)\\n', 'Message-Id: <p04330137b98a941c58a8@[209.202.248.109]>\\n', 'To: undisclosed-recipient: ;\\n', 'From: Monty Solomon <monty@roscom.com>\\n', 'Content-Type: text/plain; charset=\"us-ascii\"\\n', \"Subject: [IRR] Klez: The Virus That  Won't Die\\n\", 'Sender: irregulars-admin@tb.tf\\n', 'Errors-To: irregulars-admin@tb.tf\\n', 'X-Beenthere: irregulars@tb.tf\\n', 'X-Mailman-Version: 2.0.6\\n', 'Precedence: bulk\\n', 'List-Help: <mailto:irregulars-request@tb.tf?subject=help>\\n', 'List-Post: <mailto:irregulars@tb.tf>\\n', 'List-Subscribe: <http://tb.tf/mailman/listinfo/irregulars>,\\n', '    <mailto:irregulars-request@tb.tf?subject=subscribe>\\n', 'List-Id: New home of the TBTF Irregulars mailing list <irregulars.tb.tf>\\n', 'List-Unsubscribe: <http://tb.tf/mailman/listinfo/irregulars>,\\n', '    <mailto:irregulars-request@tb.tf?subject=unsubscribe>\\n', 'List-Archive: <http://tb.tf/mailman/private/irregulars/>\\n', 'Date: Thu, 22 Aug 2002 09:15:25 -0400\\n', '\\n', \"Klez: The Virus That Won't Die\\n\", ' \\n', 'Already the most prolific virus ever, Klez continues to wreak havoc.\\n', '\\n', 'Andrew Brandt\\n', '>>From the September 2002 issue of PC World magazine\\n', 'Posted Thursday, August 01, 2002\\n', '\\n', '\\n', 'The Klez worm is approaching its seventh month of wriggling across \\n', 'the Web, making it one of the most persistent viruses ever. And \\n', 'experts warn that it may be a harbinger of new viruses that use a \\n', 'combination of pernicious approaches to go from PC to PC.\\n', '\\n', 'Antivirus software makers Symantec and McAfee both report more than \\n', '2000 new infections daily, with no sign of letup at press time. The \\n', 'British security firm MessageLabs estimates that 1 in every 300 \\n', 'e-mail messages holds a variation of the Klez virus, and says that \\n', \"Klez has already surpassed last summer's SirCam as the most prolific \\n\", 'virus ever.\\n', '\\n', \"And some newer Klez variants aren't merely nuisances--they can carry \\n\", 'other viruses in them that corrupt your data.\\n', '\\n', '...\\n', '\\n', 'http://www.pcworld.com/news/article/0,aid,103259,00.asp\\n', '_______________________________________________\\n', 'Irregulars mailing list\\n', 'Irregulars@tb.tf\\n', 'http://tb.tf/mailman/listinfo/irregulars\\n', '\\n']\n"
     ]
    }
   ],
   "source": [
    "with open(os.path.join(SPAM_PATH, 'easy_ham', ham_filenames[3])) as myfile:\n",
    "    lines = myfile.readlines()\n",
    "print(lines)"
   ]
  },
  {
   "cell_type": "markdown",
   "metadata": {},
   "source": [
    "Hierboven zie je de ruwe tekst van de e-mail. We kunnen dit iets leesbaarder maken door te zorgen dat elke nieuwe regel in het bestand ook op een eigen regel wordt afgedrukt. Bekijk vervolgens de tekst. Wat valt je op?"
   ]
  },
  {
   "cell_type": "code",
   "execution_count": 9,
   "metadata": {
    "pycharm": {
     "is_executing": true
    }
   },
   "outputs": [
    {
     "name": "stdout",
     "output_type": "stream",
     "text": [
      "From irregulars-admin@tb.tf  Thu Aug 22 14:23:39 2002\n",
      "\n",
      "Return-Path: <irregulars-admin@tb.tf>\n",
      "\n",
      "Delivered-To: zzzz@localhost.netnoteinc.com\n",
      "\n",
      "Received: from localhost (localhost [127.0.0.1])\n",
      "\n",
      "\tby phobos.labs.netnoteinc.com (Postfix) with ESMTP id 9DAE147C66\n",
      "\n",
      "\tfor <zzzz@localhost>; Thu, 22 Aug 2002 09:23:38 -0400 (EDT)\n",
      "\n",
      "Received: from phobos [127.0.0.1]\n",
      "\n",
      "\tby localhost with IMAP (fetchmail-5.9.0)\n",
      "\n",
      "\tfor zzzz@localhost (single-drop); Thu, 22 Aug 2002 14:23:38 +0100 (IST)\n",
      "\n",
      "Received: from web.tb.tf (route-64-131-126-36.telocity.com\n",
      "\n",
      "    [64.131.126.36]) by dogma.slashnull.org (8.11.6/8.11.6) with ESMTP id\n",
      "\n",
      "    g7MDGOZ07922 for <zzzz-irr@spamassassin.taint.org>; Thu, 22 Aug 2002 14:16:24 +0100\n",
      "\n",
      "Received: from web.tb.tf (localhost.localdomain [127.0.0.1]) by web.tb.tf\n",
      "\n",
      "    (8.11.6/8.11.6) with ESMTP id g7MDP9I16418; Thu, 22 Aug 2002 09:25:09\n",
      "\n",
      "    -0400\n",
      "\n",
      "Received: from red.harvee.home (red [192.168.25.1] (may be forged)) by\n",
      "\n",
      "    web.tb.tf (8.11.6/8.11.6) with ESMTP id g7MDO4I16408 for\n",
      "\n",
      "    <irregulars@tb.tf>; Thu, 22 Aug 2002 09:24:04 -0400\n",
      "\n",
      "Received: from prserv.net (out4.prserv.net [32.97.166.34]) by\n",
      "\n",
      "    red.harvee.home (8.11.6/8.11.6) with ESMTP id g7MDFBD29237 for\n",
      "\n",
      "    <irregulars@tb.tf>; Thu, 22 Aug 2002 09:15:12 -0400\n",
      "\n",
      "Received: from [209.202.248.109]\n",
      "\n",
      "    (slip-32-103-249-10.ma.us.prserv.net[32.103.249.10]) by prserv.net (out4)\n",
      "\n",
      "    with ESMTP id <2002082213150220405qu8jce>; Thu, 22 Aug 2002 13:15:07 +0000\n",
      "\n",
      "MIME-Version: 1.0\n",
      "\n",
      "X-Sender: @ (Unverified)\n",
      "\n",
      "Message-Id: <p04330137b98a941c58a8@[209.202.248.109]>\n",
      "\n",
      "To: undisclosed-recipient: ;\n",
      "\n",
      "From: Monty Solomon <monty@roscom.com>\n",
      "\n",
      "Content-Type: text/plain; charset=\"us-ascii\"\n",
      "\n",
      "Subject: [IRR] Klez: The Virus That  Won't Die\n",
      "\n",
      "Sender: irregulars-admin@tb.tf\n",
      "\n",
      "Errors-To: irregulars-admin@tb.tf\n",
      "\n",
      "X-Beenthere: irregulars@tb.tf\n",
      "\n",
      "X-Mailman-Version: 2.0.6\n",
      "\n",
      "Precedence: bulk\n",
      "\n",
      "List-Help: <mailto:irregulars-request@tb.tf?subject=help>\n",
      "\n",
      "List-Post: <mailto:irregulars@tb.tf>\n",
      "\n",
      "List-Subscribe: <http://tb.tf/mailman/listinfo/irregulars>,\n",
      "\n",
      "    <mailto:irregulars-request@tb.tf?subject=subscribe>\n",
      "\n",
      "List-Id: New home of the TBTF Irregulars mailing list <irregulars.tb.tf>\n",
      "\n",
      "List-Unsubscribe: <http://tb.tf/mailman/listinfo/irregulars>,\n",
      "\n",
      "    <mailto:irregulars-request@tb.tf?subject=unsubscribe>\n",
      "\n",
      "List-Archive: <http://tb.tf/mailman/private/irregulars/>\n",
      "\n",
      "Date: Thu, 22 Aug 2002 09:15:25 -0400\n",
      "\n",
      "\n",
      "\n",
      "Klez: The Virus That Won't Die\n",
      "\n",
      " \n",
      "\n",
      "Already the most prolific virus ever, Klez continues to wreak havoc.\n",
      "\n",
      "\n",
      "\n",
      "Andrew Brandt\n",
      "\n",
      ">>From the September 2002 issue of PC World magazine\n",
      "\n",
      "Posted Thursday, August 01, 2002\n",
      "\n",
      "\n",
      "\n",
      "\n",
      "\n",
      "The Klez worm is approaching its seventh month of wriggling across \n",
      "\n",
      "the Web, making it one of the most persistent viruses ever. And \n",
      "\n",
      "experts warn that it may be a harbinger of new viruses that use a \n",
      "\n",
      "combination of pernicious approaches to go from PC to PC.\n",
      "\n",
      "\n",
      "\n",
      "Antivirus software makers Symantec and McAfee both report more than \n",
      "\n",
      "2000 new infections daily, with no sign of letup at press time. The \n",
      "\n",
      "British security firm MessageLabs estimates that 1 in every 300 \n",
      "\n",
      "e-mail messages holds a variation of the Klez virus, and says that \n",
      "\n",
      "Klez has already surpassed last summer's SirCam as the most prolific \n",
      "\n",
      "virus ever.\n",
      "\n",
      "\n",
      "\n",
      "And some newer Klez variants aren't merely nuisances--they can carry \n",
      "\n",
      "other viruses in them that corrupt your data.\n",
      "\n",
      "\n",
      "\n",
      "...\n",
      "\n",
      "\n",
      "\n",
      "http://www.pcworld.com/news/article/0,aid,103259,00.asp\n",
      "\n",
      "_______________________________________________\n",
      "\n",
      "Irregulars mailing list\n",
      "\n",
      "Irregulars@tb.tf\n",
      "\n",
      "http://tb.tf/mailman/listinfo/irregulars\n",
      "\n",
      "\n",
      "\n"
     ]
    }
   ],
   "source": [
    "with open(os.path.join(SPAM_PATH, 'easy_ham', ham_filenames[3])) as myfile:\n",
    "    for line in myfile.readlines():\n",
    "        print(line)"
   ]
  },
  {
   "cell_type": "markdown",
   "metadata": {},
   "source": [
    "Wat we zien, is een e-mail zoals een e-mailprogramma dit ontvangt. Een e-mail bestaat uit een header, waar aan we o.a. kunnen zien wie de afzender en ontvanger zijn en langs welke tussenstations de mail verstuurd is. Na de header volgt een lege regel en dan de inhoud van de e-mail.\n",
    "\n",
    "We kunnen de emails inlezen als tekstbestanden zoals we zojuist hebben gedaan, maar dan zal blijken dat sommig e-mails ander gecodeerd zijn en we niet alle bestanden kunnen openen. In plaats daarvan laten we Python het werk voor ons opknappen door de `email` library te gebruiken."
   ]
  },
  {
   "cell_type": "code",
   "execution_count": 10,
   "metadata": {},
   "outputs": [],
   "source": [
    "import email\n",
    "import email.policy\n",
    "\n",
    "def load_email(is_spam, filename, spam_path=SPAM_PATH):\n",
    "    directory = \"spam\" if is_spam else \"easy_ham\"\n",
    "    with open(os.path.join(spam_path, directory, filename), \"rb\") as f:\n",
    "        return email.parser.BytesParser(policy=email.policy.default).parse(f)"
   ]
  },
  {
   "cell_type": "markdown",
   "metadata": {},
   "source": [
    "We maken met behulp van de functie `load_email` nu een lijst met ham emails en een lijst met spam emails."
   ]
  },
  {
   "cell_type": "code",
   "execution_count": 11,
   "metadata": {},
   "outputs": [],
   "source": [
    "ham_emails = [load_email(is_spam=False, filename=name) for name in ham_filenames]\n",
    "spam_emails = [load_email(is_spam=True, filename=name) for name in spam_filenames]"
   ]
  },
  {
   "cell_type": "markdown",
   "metadata": {},
   "source": [
    "Druk ter controle een ham email en een spam email af. Gebruik hiervoor de methode 'as_string()' van het 'email' object."
   ]
  },
  {
   "cell_type": "code",
   "execution_count": 12,
   "metadata": {},
   "outputs": [
    {
     "name": "stdout",
     "output_type": "stream",
     "text": [
      "Return-Path: <Steve_Burt@cursor-system.com>\n",
      "Delivered-To: zzzz@localhost.netnoteinc.com\n",
      "Received: from localhost (localhost [127.0.0.1])\n",
      "\tby phobos.labs.netnoteinc.com (Postfix) with ESMTP id BE12E43C34\n",
      "\tfor <zzzz@localhost>; Thu, 22 Aug 2002 07:46:38 -0400 (EDT)\n",
      "Received: from phobos [127.0.0.1]\n",
      "\tby localhost with IMAP (fetchmail-5.9.0)\n",
      "\tfor zzzz@localhost (single-drop); Thu, 22 Aug 2002 12:46:38 +0100 (IST)\n",
      "Received: from n20.grp.scd.yahoo.com (n20.grp.scd.yahoo.com    [66.218.66.76])\n",
      " by dogma.slashnull.org (8.11.6/8.11.6) with SMTP id    g7MBkTZ05087 for\n",
      " <zzzz@spamassassin.taint.org>; Thu, 22 Aug 2002 12:46:29 +0100\n",
      "X-Egroups-Return: =?utf-8?q?sentto-2242572-52726-1030016790-zzzz=3Dspamassas?=\n",
      " =?utf-8?q?sin=2Etaint=2Eorg=40returns=2Egroups=2Eyahoo=2Ecom?=\n",
      "Received: from [66.218.67.196] by n20.grp.scd.yahoo.com with NNFMP;\n",
      "    22 Aug 2002 11:46:30 -0000\n",
      "X-Sender: steve.burt@cursor-system.com\n",
      "X-Apparently-To: zzzzteana@yahoogroups.com\n",
      "Received: (EGP: mail-8_1_0_1); 22 Aug 2002 11:46:29 -0000\n",
      "Received: (qmail 11764 invoked from network); 22 Aug 2002 11:46:29 -0000\n",
      "Received: from unknown (66.218.66.217) by m3.grp.scd.yahoo.com with QMQP;\n",
      "    22 Aug 2002 11:46:29 -0000\n",
      "Received: from unknown (HELO mailgateway.cursor-system.com) (62.189.7.27)\n",
      "    by mta2.grp.scd.yahoo.com with SMTP; 22 Aug 2002 11:46:29 -0000\n",
      "Received: from exchange1.cps.local (unverified) by\n",
      "    mailgateway.cursor-system.com (Content Technologies SMTPRS 4.2.10) with\n",
      "    ESMTP id <T5cde81f695ac1d100407d@mailgateway.cursor-system.com> for\n",
      "    <forteana@yahoogroups.com>; Thu, 22 Aug 2002 13:14:10 +0100\n",
      "Received: by exchange1.cps.local with Internet Mail Service (5.5.2653.19)\n",
      "    id <PXX6AT23>; Thu, 22 Aug 2002 12:46:27 +0100\n",
      "Message-Id: <5EC2AD6D2314D14FB64BDA287D25D9EF12B4F6@exchange1.cps.local>\n",
      "To: \"'zzzzteana@yahoogroups.com'\" <zzzzteana@yahoogroups.com>\n",
      "X-Mailer: Internet Mail Service (5.5.2653.19)\n",
      "X-Egroups-From: Steve Burt <steve.burt@cursor-system.com>\n",
      "From: Steve Burt <Steve_Burt@cursor-system.com>\n",
      "X-Yahoo-Profile: pyruse\n",
      "MIME-Version: 1.0\n",
      "Mailing-List: list zzzzteana@yahoogroups.com; contact\n",
      "    forteana-owner@yahoogroups.com\n",
      "Delivered-To: mailing list zzzzteana@yahoogroups.com\n",
      "Precedence: bulk\n",
      "List-Unsubscribe: <mailto:zzzzteana-unsubscribe@yahoogroups.com>\n",
      "Date: Thu, 22 Aug 2002 12:46:18 +0100\n",
      "Subject: [zzzzteana] RE: Alexander\n",
      "Reply-To: zzzzteana@yahoogroups.com\n",
      "Content-Type: text/plain; charset=US-ASCII\n",
      "Content-Transfer-Encoding: 7bit\n",
      "\n",
      "Martin A posted:\n",
      "Tassos Papadopoulos, the Greek sculptor behind the plan, judged that the\n",
      " limestone of Mount Kerdylio, 70 miles east of Salonika and not far from the\n",
      " Mount Athos monastic community, was ideal for the patriotic sculpture. \n",
      " \n",
      " As well as Alexander's granite features, 240 ft high and 170 ft wide, a\n",
      " museum, a restored amphitheatre and car park for admiring crowds are\n",
      "planned\n",
      "---------------------\n",
      "So is this mountain limestone or granite?\n",
      "If it's limestone, it'll weather pretty fast.\n",
      "\n",
      "------------------------ Yahoo! Groups Sponsor ---------------------~-->\n",
      "4 DVDs Free +s&p Join Now\n",
      "http://us.click.yahoo.com/pt6YBB/NXiEAA/mG3HAA/7gSolB/TM\n",
      "---------------------------------------------------------------------~->\n",
      "\n",
      "To unsubscribe from this group, send an email to:\n",
      "forteana-unsubscribe@egroups.com\n",
      "\n",
      " \n",
      "\n",
      "Your use of Yahoo! Groups is subject to http://docs.yahoo.com/info/terms/ \n",
      "\n",
      "\n",
      "\n",
      "\n"
     ]
    }
   ],
   "source": [
    "print(ham_emails[1].as_string())"
   ]
  },
  {
   "cell_type": "code",
   "execution_count": 13,
   "metadata": {},
   "outputs": [
    {
     "name": "stdout",
     "output_type": "stream",
     "text": [
      "Return-Path: <fort@bluemail.dk>\n",
      "Delivered-To: zzzz@localhost.spamassassin.taint.org\n",
      "Received: from localhost (localhost [127.0.0.1])\n",
      "\tby phobos.labs.spamassassin.taint.org (Postfix) with ESMTP id 9367F43F99\n",
      "\tfor <zzzz@localhost>; Thu, 22 Aug 2002 13:28:06 -0400 (EDT)\n",
      "Received: from mail.webnote.net [193.120.211.219]\n",
      "\tby localhost with POP3 (fetchmail-5.9.0)\n",
      "\tfor zzzz@localhost (single-drop); Thu, 22 Aug 2002 18:28:06 +0100 (IST)\n",
      "Received: from smtp.easydns.com (smtp.easydns.com [205.210.42.30])\n",
      "\tby webnote.net (8.9.3/8.9.3) with ESMTP id SAA05963;\n",
      "\tThu, 22 Aug 2002 18:25:04 +0100\n",
      "From: fort@bluemail.dk\n",
      "Received: from bluemail.dk (217-127-249-196.uc.nombres.ttd.es\n",
      " [217.127.249.196])\tby smtp.easydns.com (Postfix) with SMTP\tid 3FBEB2EEF1;\n",
      " Thu, 22 Aug 2002 13:24:37 -0400 (EDT)\n",
      "Reply-To: <fort@bluemail.dk>\n",
      "Message-ID: <000c84d37aae$7338a0a4$3ab55ec5@bjjwxv>\n",
      "To: mike23@hotmail.com\n",
      "Subject: FORTUNE 500 COMPANY HIRING, AT HOME REPS.\n",
      "MiME-Version: 1.0\n",
      "Content-Type: text/plain;\n",
      "\tcharset=\"iso-8859-1\"\n",
      "X-Priority: 3 (Normal)\n",
      "X-MSMail-Priority: Normal\n",
      "X-Mailer: Microsoft Outlook Express 5.00.2919.6700\n",
      "Importance: Normal\n",
      "Date: Thu, 22 Aug 2002 13:24:37 -0400 (EDT)\n",
      "Content-Transfer-Encoding: 8bit\n",
      "\n",
      "Help wanted.  We are a 14 year old fortune 500 company, that is\n",
      "growing at a tremendous rate.  We are looking for individuals who\n",
      "want to work from home.\n",
      "\n",
      "This is an opportunity to make an excellent income.  No experience\n",
      "is required.  We will train you.\n",
      "\n",
      "So if you are looking to be employed from home with a career that has\n",
      "vast opportunities, then go:\n",
      "\n",
      "http://www.basetel.com/wealthnow\n",
      "\n",
      "We are looking for energetic and self motivated people.  If that is you\n",
      "than click on the link and fill out the form, and one of our\n",
      "employement specialist will contact you.\n",
      "\n",
      "To be removed from our link simple go to:\n",
      "\n",
      "http://www.basetel.com/remove.html\n",
      "\n",
      "\n",
      "4139vOLW7-758DoDY1425FRhM1-764SMFc8513fCsLl40\n",
      "\n",
      "\n"
     ]
    }
   ],
   "source": [
    "print(spam_emails[6].as_string())"
   ]
  },
  {
   "cell_type": "markdown",
   "metadata": {},
   "source": [
    "## Maak de data geschikt voor Machine Learning"
   ]
  },
  {
   "cell_type": "markdown",
   "metadata": {},
   "source": [
    "Nu hebben we onze data in de vorm van lijsten met e-mails. Om machine learning toe te kunnen passen hebben we echter getallen nodig. In de volgende stappen passen we de data zo aan dat deze bruikbaar wordt voor machine learning.\n",
    "\n",
    "We werken dit eerst uit op een enkel bestand om het daarna in een functie op alle emails toe te passen.\n",
    "\n",
    "We maken alleen gebruik van de tekst van de e-mails (hoewel er in de headers vast ook allerlei nuttige informatie staat om te bepalen of het om spam gaat)."
   ]
  },
  {
   "cell_type": "code",
   "execution_count": 14,
   "metadata": {
    "pycharm": {
     "is_executing": true
    },
    "scrolled": true
   },
   "outputs": [
    {
     "name": "stdout",
     "output_type": "stream",
     "text": [
      "<HTML><HEAD><TITLE>FREE Motorola Cell Phone with $50 Cash Back!</TITLE>\n",
      "<STYLE></STYLE>\n",
      "</HEAD>\n",
      "<BODY bgColor=#ffffff>\n",
      "<TABLE align=\"center\" border=0 cellPadding=0 cellSpacing=0 width=450>\n",
      "  <TBODY>\n",
      "  <TR>\n",
      "    <TD><IMG height=1 src=\"images/spacer.gif\" width=185></TD>\n",
      "    <TD><IMG height=1 src=\"images/spacer.gif\" width=65></TD>\n",
      "    <TD><IMG height=1 src=\"images/spacer.gif\" width=50></TD>\n",
      "    <TD><IMG height=1 src=\"images/spacer.gif\" width=150></TD></TR>\n",
      "  <TR>\n",
      "    <TD colSpan=2 rowSpan=2><A href=\"http://theadmanager.com/server/c.asp?ad_key=QBFUIEXORXKL&ext=1\"><IMG border=0\n",
      "      height=150\n",
      "      src=\"http://168.143.181.42/htmlemails/images/T193no_option_01.gif\"\n",
      "      width=250></A></TD>\n",
      "    <TD rowSpan=2><A href=\"http://theadmanager.com/server/c.asp?ad_key=QBFUIEXORXKL&ext=1\"><IMG border=0\n",
      "      height=150\n",
      "      src=\"http://168.143.181.42/htmlemails/images/T193no_option_02.gif\"\n",
      "      width=50></A></TD>\n",
      "    <TD><A href=\"http://theadmanager.com/server/c.asp?ad_key=QBFUIEXORXKL&ext=1\"><IMG\n"
     ]
    }
   ],
   "source": [
    "body = spam_emails[13].get_content().strip()\n",
    "print(body[:1000])"
   ]
  },
  {
   "cell_type": "markdown",
   "metadata": {},
   "source": [
    "Sommige e-mails bevatten HTML code. Om deze te verwijderen maken we gebruik van een library met de naam `Beautiful Soup`."
   ]
  },
  {
   "cell_type": "code",
   "execution_count": 15,
   "metadata": {},
   "outputs": [],
   "source": [
    "from bs4 import BeautifulSoup\n",
    "soup = BeautifulSoup(body, 'html.parser')"
   ]
  },
  {
   "cell_type": "code",
   "execution_count": 16,
   "metadata": {
    "pycharm": {
     "is_executing": true
    }
   },
   "outputs": [
    {
     "name": "stdout",
     "output_type": "stream",
     "text": [
      "FREE Motorola Cell Phone with $50 Cash Back!\n",
      "\n",
      "\n",
      "\n",
      "\n",
      "\n",
      "\n",
      "\n",
      "\n",
      "\n",
      "\n",
      "\n",
      "\n",
      "\n",
      "\n",
      "\n",
      "\n",
      "\n",
      "\n",
      "\n",
      "\n",
      "\n",
      "\n",
      "\n",
      "\n",
      "\n",
      "\n",
      "\n",
      "\n",
      "\n",
      "\n",
      "\n",
      "\n",
      "\n",
      "\n",
      "*Free phone\n",
      "      offer subject to VoiceStream Wireless credit approval. Must activate a new\n",
      "      line of service to receive a free phone. A one-time activation fee of $25\n",
      "      applies to all new activations. Coverage not available in all areas. Offer\n",
      "      fulfilled by SimplyWireless.com, a VoiceStream authorized dealer. See site\n",
      "      for additional offer details.\n",
      "      **$50 mail-in rebate is available for new VoiceStream service plans\n",
      "      $29.99 and greater. Rebate ends\n",
      "8/31/02.\n",
      "\n",
      "\n",
      "\n",
      "You are receiving this mailing because you are a\n",
      "member of SendGreatOffers.com and subscribed as:JM@NETNOTEINC.COM\n",
      "To unsubscribe \n",
      "Click Here\n",
      "(http://admanmail.com/subscription.asp?em=JM@NETNOTEINC.COM&l=SGO)\n",
      "or reply to this email with REMOVE in the subject line - you must\n",
      "also include the body of this message to be unsubscribed. Any correspondence about\n",
      "the products/services should be directed to\n",
      "the company in the ad.\n",
      "%EM%JM@NETNOTEINC.COM%/EM%\n",
      "  \n"
     ]
    }
   ],
   "source": [
    "body = soup.get_text()\n",
    "print(body)"
   ]
  },
  {
   "cell_type": "markdown",
   "metadata": {},
   "source": [
    "Spam bevat vaker html dan andere e-mails, dus we willen wel weten of een e-mail html bevat. We tellen we het aantal html-tags met behulp van `Beautiful Soup`."
   ]
  },
  {
   "cell_type": "code",
   "execution_count": 17,
   "metadata": {},
   "outputs": [],
   "source": [
    "nhtml = len(soup.find_all())"
   ]
  },
  {
   "cell_type": "markdown",
   "metadata": {},
   "source": [
    "Om dezelfde reden zijn het aantal links naar websites ook interessant (een link heeft html code `a`). Tel ook deze met `Beautiful Soup` en sla het resultaat op in een variable `nlinks`:"
   ]
  },
  {
   "cell_type": "code",
   "execution_count": 18,
   "metadata": {
    "pycharm": {
     "is_executing": true
    }
   },
   "outputs": [],
   "source": [
    "nlinks = len(soup.find_all(\"a\"))"
   ]
  },
  {
   "cell_type": "markdown",
   "metadata": {},
   "source": [
    "Voeg nu voor elke keer dat een htmltag voorkomt het woord `\" htmltag \"` aan de tekst van de e-mail toe en voeg voor elke keer dat een link voorkomt het woord `\" htmllink \"` toe. Op deze manier coderen we deze informatie in de tekst zelf."
   ]
  },
  {
   "cell_type": "code",
   "execution_count": 19,
   "metadata": {},
   "outputs": [],
   "source": [
    "body = body + nhtml*\" htmltag \" + nlinks*\" linktag \""
   ]
  },
  {
   "cell_type": "markdown",
   "metadata": {},
   "source": [
    "Zet nu alle tekst om naar kleine letters (lowercase)."
   ]
  },
  {
   "cell_type": "code",
   "execution_count": 20,
   "metadata": {},
   "outputs": [
    {
     "name": "stdout",
     "output_type": "stream",
     "text": [
      "free motorola cell phone with $50 cash back!\n",
      "\n",
      "\n",
      "\n",
      "\n",
      "\n",
      "\n",
      "\n",
      "\n",
      "\n",
      "\n",
      "\n",
      "\n",
      "\n",
      "\n",
      "\n",
      "\n",
      "\n",
      "\n",
      "\n",
      "\n",
      "\n",
      "\n",
      "\n",
      "\n",
      "\n",
      "\n",
      "\n",
      "\n",
      "\n",
      "\n",
      "\n",
      "\n",
      "\n",
      "\n",
      "*free phone\n",
      "      offer subject to voicestream wireless credit approval. must activate a new\n",
      "      line of service to receive a free phone. a one-time activation fee of $25\n",
      "      applies to all new activations. coverage not available in all areas. offer\n",
      "      fulfilled by simplywireless.com, a voicestream authorized dealer. see site\n",
      "      for additional offer details.\n",
      "      **$50 mail-in rebate is available for new voicestream service plans\n",
      "      $29.99 and greater. rebate ends\n",
      "8/31/02.\n",
      "\n",
      "\n",
      "\n",
      "you are receiving this mailing because you are a\n",
      "member of sendgreatoffers.com and subscribed as:jm@netnoteinc.com\n",
      "to unsubscribe \n",
      "click here\n",
      "(http://admanmail.com/subscription.asp?em=jm@netnoteinc.com&l=sgo)\n",
      "or reply to this email with remove in the subject line - you must\n",
      "also include the body of this message to be unsubscribed. any correspondence about\n",
      "the products/services should be directed to\n",
      "the company in the ad.\n",
      "%em%jm@netnoteinc.com%/em%\n",
      "   htmltag  htmltag  htmltag  htmltag  htmltag  htmltag  htmltag  htmltag  htmltag  htmltag  htmltag  htmltag  htmltag  htmltag  htmltag  htmltag  htmltag  htmltag  htmltag  htmltag  htmltag  htmltag  htmltag  htmltag  htmltag  htmltag  htmltag  htmltag  htmltag  htmltag  htmltag  htmltag  htmltag  htmltag  htmltag  htmltag  htmltag  htmltag  htmltag  htmltag  htmltag  htmltag  htmltag  htmltag  htmltag  htmltag  htmltag  htmltag  htmltag  htmltag  htmltag  htmltag  htmltag  htmltag  htmltag  htmltag  htmltag  htmltag  htmltag  htmltag  htmltag  htmltag  htmltag  htmltag  htmltag  htmltag  htmltag  htmltag  htmltag  htmltag  htmltag  htmltag  htmltag  htmltag  htmltag  htmltag  htmltag  htmltag  htmltag  linktag  linktag  linktag  linktag  linktag  linktag  linktag  linktag  linktag  linktag  linktag  linktag  linktag  linktag  linktag  linktag \n"
     ]
    }
   ],
   "source": [
    "body = body.lower()\n",
    "print(body)"
   ]
  },
  {
   "cell_type": "markdown",
   "metadata": {},
   "source": [
    "De tekst bevat nu nog onnodige lege regels. Deze kunnen we verwijderen met een zogenaamde reguliere expressie. Zoek uit wat de volgende code doet."
   ]
  },
  {
   "cell_type": "code",
   "execution_count": 21,
   "metadata": {},
   "outputs": [
    {
     "name": "stdout",
     "output_type": "stream",
     "text": [
      "free motorola cell phone with $50 cash back!\n",
      "*free phone\n",
      "      offer subject to voicestream wireless credit approval. must activate a new\n",
      "      line of service to receive a free phone. a one-time activation fee of $25\n",
      "      applies to all new activations. coverage not available in all areas. offer\n",
      "      fulfilled by simplywireless.com, a voicestream authorized dealer. see site\n",
      "      for additional offer details.\n",
      "      **$50 mail-in rebate is available for new voicestream service plans\n",
      "      $29.99 and greater. rebate ends\n",
      "8/31/02.\n",
      "you are receiving this mailing because you are a\n",
      "member of sendgreatoffers.com and subscribed as:jm@netnoteinc.com\n",
      "to unsubscribe\n",
      "click here\n",
      "(http://admanmail.com/subscription.asp?em=jm@netnoteinc.com&l=sgo)\n",
      "or reply to this email with remove in the subject line - you must\n",
      "also include the body of this message to be unsubscribed. any correspondence about\n",
      "the products/services should be directed to\n",
      "the company in the ad.\n",
      "%em%jm@netnoteinc.com%/em%\n",
      "   htmltag  htmltag  htmltag  htmltag  htmltag  htmltag  htmltag  htmltag  htmltag  htmltag  htmltag  htmltag  htmltag  htmltag  htmltag  htmltag  htmltag  htmltag  htmltag  htmltag  htmltag  htmltag  htmltag  htmltag  htmltag  htmltag  htmltag  htmltag  htmltag  htmltag  htmltag  htmltag  htmltag  htmltag  htmltag  htmltag  htmltag  htmltag  htmltag  htmltag  htmltag  htmltag  htmltag  htmltag  htmltag  htmltag  htmltag  htmltag  htmltag  htmltag  htmltag  htmltag  htmltag  htmltag  htmltag  htmltag  htmltag  htmltag  htmltag  htmltag  htmltag  htmltag  htmltag  htmltag  htmltag  htmltag  htmltag  htmltag  htmltag  htmltag  htmltag  htmltag  htmltag  htmltag  htmltag  htmltag  htmltag  htmltag  htmltag  linktag  linktag  linktag  linktag  linktag  linktag  linktag  linktag  linktag  linktag  linktag  linktag  linktag  linktag  linktag  linktag \n"
     ]
    }
   ],
   "source": [
    "import re\n",
    "\n",
    "body = re.sub(r'(\\s*\\n)+', '\\n', body)\n",
    "\n",
    "print(body)"
   ]
  },
  {
   "cell_type": "markdown",
   "metadata": {},
   "source": [
    "Maak nu zelf onderstaande regular expression af, zodat deze alle opeenvolgende spaties en tabs vervangt door een enkele spatie."
   ]
  },
  {
   "cell_type": "code",
   "execution_count": 22,
   "metadata": {},
   "outputs": [
    {
     "name": "stdout",
     "output_type": "stream",
     "text": [
      "free motorola cell phone with $50 cash back! *free phone offer subject to voicestream wireless credit approval. must activate a new line of service to receive a free phone. a one-time activation fee of $25 applies to all new activations. coverage not available in all areas. offer fulfilled by simplywireless.com, a voicestream authorized dealer. see site for additional offer details. **$50 mail-in rebate is available for new voicestream service plans $29.99 and greater. rebate ends 8/31/02. you are receiving this mailing because you are a member of sendgreatoffers.com and subscribed as:jm@netnoteinc.com to unsubscribe click here (http://admanmail.com/subscription.asp?em=jm@netnoteinc.com&l=sgo) or reply to this email with remove in the subject line - you must also include the body of this message to be unsubscribed. any correspondence about the products/services should be directed to the company in the ad. %em%jm@netnoteinc.com%/em% htmltag htmltag htmltag htmltag htmltag htmltag htmltag htmltag htmltag htmltag htmltag htmltag htmltag htmltag htmltag htmltag htmltag htmltag htmltag htmltag htmltag htmltag htmltag htmltag htmltag htmltag htmltag htmltag htmltag htmltag htmltag htmltag htmltag htmltag htmltag htmltag htmltag htmltag htmltag htmltag htmltag htmltag htmltag htmltag htmltag htmltag htmltag htmltag htmltag htmltag htmltag htmltag htmltag htmltag htmltag htmltag htmltag htmltag htmltag htmltag htmltag htmltag htmltag htmltag htmltag htmltag htmltag htmltag htmltag htmltag htmltag htmltag htmltag htmltag htmltag htmltag htmltag htmltag htmltag linktag linktag linktag linktag linktag linktag linktag linktag linktag linktag linktag linktag linktag linktag linktag linktag \n"
     ]
    }
   ],
   "source": [
    "body = re.sub(r\"\\s+\", \" \", body)\n",
    "\n",
    "print(body)"
   ]
  },
  {
   "cell_type": "markdown",
   "metadata": {},
   "source": [
    "Nummers en getallen in tekst zijn lastig omdat er heel veel verschillende van zijn. Het is maar de vraag of bijvoorbeeld een datum iets zegt over spam. We gaan daarom alle getallen vervangen door het woord `\" NUMMMER \"`."
   ]
  },
  {
   "cell_type": "code",
   "execution_count": 23,
   "metadata": {},
   "outputs": [
    {
     "name": "stdout",
     "output_type": "stream",
     "text": [
      "free motorola cell phone with $ NUMMER  cash back! *free phone offer subject to voicestream wireless credit approval. must activate a new line of service to receive a free phone. a one-time activation fee of $ NUMMER  applies to all new activations. coverage not available in all areas. offer fulfilled by simplywireless NUMMER com, a voicestream authorized dealer. see site for additional offer details. **$ NUMMER  mail-in rebate is available for new voicestream service plans $ NUMMER  and greater. rebate ends  NUMMER / NUMMER / NUMMER . you are receiving this mailing because you are a member of sendgreatoffers NUMMER com and subscribed as:jm@netnoteinc NUMMER com to unsubscribe click here (http://admanmail NUMMER com/subscription NUMMER asp?em=jm@netnoteinc NUMMER com&l=sgo) or reply to this email with remove in the subject line - you must also include the body of this message to be unsubscribed. any correspondence about the products/services should be directed to the company in the ad. %em%jm@netnoteinc NUMMER com%/em% htmltag htmltag htmltag htmltag htmltag htmltag htmltag htmltag htmltag htmltag htmltag htmltag htmltag htmltag htmltag htmltag htmltag htmltag htmltag htmltag htmltag htmltag htmltag htmltag htmltag htmltag htmltag htmltag htmltag htmltag htmltag htmltag htmltag htmltag htmltag htmltag htmltag htmltag htmltag htmltag htmltag htmltag htmltag htmltag htmltag htmltag htmltag htmltag htmltag htmltag htmltag htmltag htmltag htmltag htmltag htmltag htmltag htmltag htmltag htmltag htmltag htmltag htmltag htmltag htmltag htmltag htmltag htmltag htmltag htmltag htmltag htmltag htmltag htmltag htmltag htmltag htmltag htmltag htmltag linktag linktag linktag linktag linktag linktag linktag linktag linktag linktag linktag linktag linktag linktag linktag linktag \n"
     ]
    }
   ],
   "source": [
    "body = re.sub(r\"\\b[\\d.]+\\b\", \" NUMMER \", body)\n",
    "\n",
    "print(body)"
   ]
  },
  {
   "cell_type": "markdown",
   "metadata": {},
   "source": [
    "We kunnen met behulp van reguliere expressies ook leestekens verwijderen en e-mailadressen en namen van websites verwijderen. We voegen dit alles samen in een functie:"
   ]
  },
  {
   "cell_type": "code",
   "execution_count": 24,
   "metadata": {},
   "outputs": [
    {
     "name": "stdout",
     "output_type": "stream",
     "text": [
      "free motorola cell phone with NUMMER cash back free phone offer subject to voicestream wireless credit approval must activate a new line of service to receive a free phone a one time activation fee of NUMMER applies to all new activations coverage not available in all areas offer fulfilled by simplywireless NUMMER com a voicestream authorized dealer see site for additional offer details NUMMER mail in rebate is available for new voicestream service plans NUMMER and greater rebate ends NUMMER NUMMER NUMMER you are receiving this mailing because you are a member of sendgreatoffers NUMMER com and subscribed as jm netnoteinc NUMMER com to unsubscribe click here httpaddr NUMMER com subscription NUMMER asp em jm netnoteinc NUMMER com l sgo or reply to this email with remove in the subject line you must also include the body of this message to be unsubscribed any correspondence about the products services should be directed to the company in the ad em jm netnoteinc NUMMER com em htmltag htmltag htmltag htmltag htmltag htmltag htmltag htmltag htmltag htmltag htmltag htmltag htmltag htmltag htmltag htmltag htmltag htmltag htmltag htmltag htmltag htmltag htmltag htmltag htmltag htmltag htmltag htmltag htmltag htmltag htmltag htmltag htmltag htmltag htmltag htmltag htmltag htmltag htmltag htmltag htmltag htmltag htmltag htmltag htmltag htmltag htmltag htmltag htmltag htmltag htmltag htmltag htmltag htmltag htmltag htmltag htmltag htmltag htmltag htmltag htmltag htmltag htmltag htmltag htmltag htmltag htmltag htmltag htmltag htmltag htmltag htmltag htmltag htmltag htmltag htmltag htmltag htmltag htmltag linktag linktag linktag linktag linktag linktag linktag linktag linktag linktag linktag linktag linktag linktag linktag linktag\n"
     ]
    }
   ],
   "source": [
    "def clean_email(text):\n",
    "    #vervang urls door 'httpadr'\n",
    "    text = re.sub(r\"(http|https)://[^\\s]*\", 'httpaddr', text)\n",
    "    \n",
    "    #vervang emailadressen door 'emailadr'\n",
    "    text = re.sub(r\"\\b[^\\s]+@[^\\s]+[.][^\\s]+\\b\", 'emailadr', text)\n",
    "    \n",
    "    # verwijder alle leestekens\n",
    "    text = re.sub(r\"([^\\w\\s]+)|([_-]+)\", \" \", text)\n",
    "    \n",
    "    # vervang alle enters door ' newline '\n",
    "    text = re.sub(r\"\\n\", \" newline \", text)\n",
    "    \n",
    "    # vervang opeenvolgende spaties en tabs door een enkele spatie\n",
    "    text = re.sub(r\"\\s+\", \" \", text)\n",
    "    \n",
    "    #vervang getallen door 'NUMMER'\n",
    "    text = re.sub(r\"\\b[\\d.]+\\b\", \" NUMMER \", text)\n",
    "    \n",
    "    # verwijder onnodige spaties aan begin en eind\n",
    "    text = text.strip(\" \")\n",
    "    \n",
    "    return text\n",
    "\n",
    "body = clean_email(body)\n",
    "print (body)"
   ]
  },
  {
   "cell_type": "markdown",
   "metadata": {},
   "source": [
    "Het resultaat van al onze inspanningen is een lijst met alleen maar woorden gescheiden door spaties.\n",
    "\n",
    "Maak nu een functie `email_to_text()` die als argument een email krijgt en als resultaat de lijst met woorden in de email teruggeeft.\n",
    "\n",
    "Deze functie combineert dus bovenstaande stappen: haal met `Beautiful Soup` de tekst uit de e-mail, tel het aantal html tags en links en voegt hier speciale woorden voor toe. Zet vervolgens alle tekst om naar kleine letter en verwijder getallen en leestekens met behulp van `clean_email()`.\n",
    "\n",
    "Zet deze stappen tussen `try:` en `except:`. Dit deel van de code is al gegeven en zorgt ervoor dat emails die fouten veroorzaken (omdat ze onleesbare tekens of bijvoorbeeld attachments bevatten) worden overgeslagen."
   ]
  },
  {
   "cell_type": "code",
   "execution_count": 25,
   "metadata": {},
   "outputs": [],
   "source": [
    "def email_to_text(email):\n",
    "    try: \n",
    "        \n",
    "        # voeg hier de stappen toe om een lijst met woorden uit een e-mail te halen.\n",
    "        body = clean_email(email.get_content().strip())\n",
    "        \n",
    "        return body\n",
    "    except: # handel onleesbare e-mails (i.v.m. attachment) af\n",
    "        return ''"
   ]
  },
  {
   "cell_type": "markdown",
   "metadata": {},
   "source": [
    "Met behulp van deze functie kunnen we nu onze data in het juist formaat brengen om een classifier te trainen.\n",
    "Maak een vector X met alle emails en een target vector y met de bijbehorende labels. Kies bijvoorbeeld 0 als label voor ham en 1 voor spam."
   ]
  },
  {
   "cell_type": "code",
   "execution_count": 26,
   "metadata": {},
   "outputs": [
    {
     "name": "stdout",
     "output_type": "stream",
     "text": [
      "3000\n"
     ]
    }
   ],
   "source": [
    "X = np.array(ham_emails + spam_emails, dtype=email.message.EmailMessage)\n",
    "y = np.array([0] * len(ham_emails) + [1] * len(spam_emails))\n",
    "\n",
    "print(len(X))"
   ]
  },
  {
   "cell_type": "markdown",
   "metadata": {},
   "source": [
    "Splits de data in een training set en een test set."
   ]
  },
  {
   "cell_type": "code",
   "execution_count": 27,
   "metadata": {},
   "outputs": [],
   "source": [
    "X_train, X_test, y_train, y_test = train_test_split(X, y, test_size=0.2, random_state=42)"
   ]
  },
  {
   "cell_type": "markdown",
   "metadata": {},
   "source": [
    "We willen nu ieder email omzetten naar een vector met getallen. Deze vector bevat een getal voor elk woord dat voorkomt in de dataset. Voor elke email tellen we vervolgens hoe vaak ieder woord voorkomt in die e-mail, dit zijn de features van de e-mails. (Omdat lang niet ieder woord voorkomt in iedere e-mail, zullen heel veel van deze getallen 0 zijn).\n",
    "\n",
    "We hoeven dit gelukkig niet zelf te doen. sklearn geeft ons de `CountVectorizer` die precies dit doet. Zoek uit hoe deze werkt en pas deze toe op `X_train` om een dataset `X_vec_train` van feature vectoren te krijgen.\n",
    "\n",
    "`CountVectorizer` heeft als input een lijst met strings van woorden gescheiden door spaties nodig.\n",
    "Merk ook op dat `CountVectorizer` een optioneel argument preprocessor heeft, dat verwijst naar een functie die de ingevoerde data omzet naar zo'n string. Dit is precies de functie `email_to_text()` die wij zojuist gemaakt hebben."
   ]
  },
  {
   "cell_type": "code",
   "execution_count": 28,
   "metadata": {},
   "outputs": [],
   "source": [
    "from sklearn.feature_extraction.text import CountVectorizer\n",
    "vectorizer = CountVectorizer(preprocessor=email_to_text, min_df = 15)\n",
    "\n",
    "X_vec_train = vectorizer.fit_transform(X_train)"
   ]
  },
  {
   "cell_type": "markdown",
   "metadata": {},
   "source": [
    "Onze features bestaan nu dus uit getallen. `CountVectorizer` heeft een functie `get_feature_names()` die op volgorde de woorden teruggeeft die bij deze features horen. Gebruik deze functie om een Pandas `DataFrame` te maken waarmee we de dataset kunnen bekijken. "
   ]
  },
  {
   "cell_type": "code",
   "execution_count": 29,
   "metadata": {},
   "outputs": [
    {
     "name": "stdout",
     "output_type": "stream",
     "text": [
      "2718\n"
     ]
    }
   ],
   "source": [
    "print(len(vectorizer.get_feature_names_out()))"
   ]
  },
  {
   "cell_type": "code",
   "execution_count": 30,
   "metadata": {},
   "outputs": [
    {
     "data": {
      "text/html": [
       "<div>\n",
       "<style scoped>\n",
       "    .dataframe tbody tr th:only-of-type {\n",
       "        vertical-align: middle;\n",
       "    }\n",
       "\n",
       "    .dataframe tbody tr th {\n",
       "        vertical-align: top;\n",
       "    }\n",
       "\n",
       "    .dataframe thead th {\n",
       "        text-align: right;\n",
       "    }\n",
       "</style>\n",
       "<table border=\"1\" class=\"dataframe\">\n",
       "  <thead>\n",
       "    <tr style=\"text-align: right;\">\n",
       "      <th></th>\n",
       "      <th>0000FF</th>\n",
       "      <th>06T18</th>\n",
       "      <th>10acpi</th>\n",
       "      <th>1st</th>\n",
       "      <th>3rd</th>\n",
       "      <th>AC</th>\n",
       "      <th>AGAIN</th>\n",
       "      <th>ALL</th>\n",
       "      <th>ALSA</th>\n",
       "      <th>AM</th>\n",
       "      <th>...</th>\n",
       "      <th>years</th>\n",
       "      <th>yes</th>\n",
       "      <th>yesterday</th>\n",
       "      <th>yet</th>\n",
       "      <th>you</th>\n",
       "      <th>young</th>\n",
       "      <th>your</th>\n",
       "      <th>yours</th>\n",
       "      <th>yourself</th>\n",
       "      <th>zero</th>\n",
       "    </tr>\n",
       "  </thead>\n",
       "  <tbody>\n",
       "    <tr>\n",
       "      <th>0</th>\n",
       "      <td>0</td>\n",
       "      <td>0</td>\n",
       "      <td>0</td>\n",
       "      <td>0</td>\n",
       "      <td>0</td>\n",
       "      <td>0</td>\n",
       "      <td>0</td>\n",
       "      <td>0</td>\n",
       "      <td>0</td>\n",
       "      <td>0</td>\n",
       "      <td>...</td>\n",
       "      <td>0</td>\n",
       "      <td>0</td>\n",
       "      <td>0</td>\n",
       "      <td>0</td>\n",
       "      <td>0</td>\n",
       "      <td>0</td>\n",
       "      <td>0</td>\n",
       "      <td>0</td>\n",
       "      <td>0</td>\n",
       "      <td>0</td>\n",
       "    </tr>\n",
       "    <tr>\n",
       "      <th>1</th>\n",
       "      <td>0</td>\n",
       "      <td>0</td>\n",
       "      <td>0</td>\n",
       "      <td>0</td>\n",
       "      <td>0</td>\n",
       "      <td>0</td>\n",
       "      <td>0</td>\n",
       "      <td>0</td>\n",
       "      <td>0</td>\n",
       "      <td>0</td>\n",
       "      <td>...</td>\n",
       "      <td>0</td>\n",
       "      <td>0</td>\n",
       "      <td>0</td>\n",
       "      <td>0</td>\n",
       "      <td>0</td>\n",
       "      <td>0</td>\n",
       "      <td>0</td>\n",
       "      <td>0</td>\n",
       "      <td>0</td>\n",
       "      <td>0</td>\n",
       "    </tr>\n",
       "    <tr>\n",
       "      <th>2</th>\n",
       "      <td>0</td>\n",
       "      <td>0</td>\n",
       "      <td>0</td>\n",
       "      <td>0</td>\n",
       "      <td>0</td>\n",
       "      <td>0</td>\n",
       "      <td>0</td>\n",
       "      <td>0</td>\n",
       "      <td>0</td>\n",
       "      <td>0</td>\n",
       "      <td>...</td>\n",
       "      <td>0</td>\n",
       "      <td>0</td>\n",
       "      <td>0</td>\n",
       "      <td>0</td>\n",
       "      <td>0</td>\n",
       "      <td>0</td>\n",
       "      <td>0</td>\n",
       "      <td>0</td>\n",
       "      <td>0</td>\n",
       "      <td>0</td>\n",
       "    </tr>\n",
       "    <tr>\n",
       "      <th>3</th>\n",
       "      <td>0</td>\n",
       "      <td>0</td>\n",
       "      <td>0</td>\n",
       "      <td>0</td>\n",
       "      <td>0</td>\n",
       "      <td>0</td>\n",
       "      <td>0</td>\n",
       "      <td>0</td>\n",
       "      <td>0</td>\n",
       "      <td>0</td>\n",
       "      <td>...</td>\n",
       "      <td>0</td>\n",
       "      <td>0</td>\n",
       "      <td>0</td>\n",
       "      <td>0</td>\n",
       "      <td>1</td>\n",
       "      <td>0</td>\n",
       "      <td>0</td>\n",
       "      <td>0</td>\n",
       "      <td>0</td>\n",
       "      <td>0</td>\n",
       "    </tr>\n",
       "    <tr>\n",
       "      <th>4</th>\n",
       "      <td>0</td>\n",
       "      <td>0</td>\n",
       "      <td>0</td>\n",
       "      <td>0</td>\n",
       "      <td>0</td>\n",
       "      <td>0</td>\n",
       "      <td>0</td>\n",
       "      <td>0</td>\n",
       "      <td>0</td>\n",
       "      <td>0</td>\n",
       "      <td>...</td>\n",
       "      <td>0</td>\n",
       "      <td>0</td>\n",
       "      <td>0</td>\n",
       "      <td>0</td>\n",
       "      <td>3</td>\n",
       "      <td>0</td>\n",
       "      <td>0</td>\n",
       "      <td>0</td>\n",
       "      <td>0</td>\n",
       "      <td>0</td>\n",
       "    </tr>\n",
       "    <tr>\n",
       "      <th>...</th>\n",
       "      <td>...</td>\n",
       "      <td>...</td>\n",
       "      <td>...</td>\n",
       "      <td>...</td>\n",
       "      <td>...</td>\n",
       "      <td>...</td>\n",
       "      <td>...</td>\n",
       "      <td>...</td>\n",
       "      <td>...</td>\n",
       "      <td>...</td>\n",
       "      <td>...</td>\n",
       "      <td>...</td>\n",
       "      <td>...</td>\n",
       "      <td>...</td>\n",
       "      <td>...</td>\n",
       "      <td>...</td>\n",
       "      <td>...</td>\n",
       "      <td>...</td>\n",
       "      <td>...</td>\n",
       "      <td>...</td>\n",
       "      <td>...</td>\n",
       "    </tr>\n",
       "    <tr>\n",
       "      <th>2395</th>\n",
       "      <td>0</td>\n",
       "      <td>0</td>\n",
       "      <td>0</td>\n",
       "      <td>0</td>\n",
       "      <td>0</td>\n",
       "      <td>0</td>\n",
       "      <td>0</td>\n",
       "      <td>0</td>\n",
       "      <td>0</td>\n",
       "      <td>0</td>\n",
       "      <td>...</td>\n",
       "      <td>0</td>\n",
       "      <td>0</td>\n",
       "      <td>0</td>\n",
       "      <td>0</td>\n",
       "      <td>1</td>\n",
       "      <td>0</td>\n",
       "      <td>0</td>\n",
       "      <td>0</td>\n",
       "      <td>0</td>\n",
       "      <td>0</td>\n",
       "    </tr>\n",
       "    <tr>\n",
       "      <th>2396</th>\n",
       "      <td>0</td>\n",
       "      <td>0</td>\n",
       "      <td>0</td>\n",
       "      <td>0</td>\n",
       "      <td>0</td>\n",
       "      <td>0</td>\n",
       "      <td>0</td>\n",
       "      <td>0</td>\n",
       "      <td>0</td>\n",
       "      <td>0</td>\n",
       "      <td>...</td>\n",
       "      <td>0</td>\n",
       "      <td>0</td>\n",
       "      <td>0</td>\n",
       "      <td>0</td>\n",
       "      <td>0</td>\n",
       "      <td>0</td>\n",
       "      <td>0</td>\n",
       "      <td>0</td>\n",
       "      <td>0</td>\n",
       "      <td>0</td>\n",
       "    </tr>\n",
       "    <tr>\n",
       "      <th>2397</th>\n",
       "      <td>0</td>\n",
       "      <td>0</td>\n",
       "      <td>0</td>\n",
       "      <td>0</td>\n",
       "      <td>0</td>\n",
       "      <td>0</td>\n",
       "      <td>0</td>\n",
       "      <td>0</td>\n",
       "      <td>0</td>\n",
       "      <td>0</td>\n",
       "      <td>...</td>\n",
       "      <td>0</td>\n",
       "      <td>0</td>\n",
       "      <td>0</td>\n",
       "      <td>0</td>\n",
       "      <td>0</td>\n",
       "      <td>0</td>\n",
       "      <td>0</td>\n",
       "      <td>0</td>\n",
       "      <td>0</td>\n",
       "      <td>0</td>\n",
       "    </tr>\n",
       "    <tr>\n",
       "      <th>2398</th>\n",
       "      <td>0</td>\n",
       "      <td>0</td>\n",
       "      <td>0</td>\n",
       "      <td>0</td>\n",
       "      <td>0</td>\n",
       "      <td>0</td>\n",
       "      <td>0</td>\n",
       "      <td>0</td>\n",
       "      <td>0</td>\n",
       "      <td>0</td>\n",
       "      <td>...</td>\n",
       "      <td>0</td>\n",
       "      <td>0</td>\n",
       "      <td>0</td>\n",
       "      <td>0</td>\n",
       "      <td>0</td>\n",
       "      <td>0</td>\n",
       "      <td>0</td>\n",
       "      <td>0</td>\n",
       "      <td>0</td>\n",
       "      <td>0</td>\n",
       "    </tr>\n",
       "    <tr>\n",
       "      <th>2399</th>\n",
       "      <td>0</td>\n",
       "      <td>0</td>\n",
       "      <td>0</td>\n",
       "      <td>0</td>\n",
       "      <td>0</td>\n",
       "      <td>0</td>\n",
       "      <td>0</td>\n",
       "      <td>0</td>\n",
       "      <td>0</td>\n",
       "      <td>1</td>\n",
       "      <td>...</td>\n",
       "      <td>0</td>\n",
       "      <td>0</td>\n",
       "      <td>0</td>\n",
       "      <td>0</td>\n",
       "      <td>1</td>\n",
       "      <td>0</td>\n",
       "      <td>0</td>\n",
       "      <td>0</td>\n",
       "      <td>0</td>\n",
       "      <td>0</td>\n",
       "    </tr>\n",
       "  </tbody>\n",
       "</table>\n",
       "<p>2400 rows × 2718 columns</p>\n",
       "</div>"
      ],
      "text/plain": [
       "      0000FF  06T18  10acpi  1st  3rd  AC  AGAIN  ALL  ALSA  AM  ...  years  \\\n",
       "0          0      0       0    0    0   0      0    0     0   0  ...      0   \n",
       "1          0      0       0    0    0   0      0    0     0   0  ...      0   \n",
       "2          0      0       0    0    0   0      0    0     0   0  ...      0   \n",
       "3          0      0       0    0    0   0      0    0     0   0  ...      0   \n",
       "4          0      0       0    0    0   0      0    0     0   0  ...      0   \n",
       "...      ...    ...     ...  ...  ...  ..    ...  ...   ...  ..  ...    ...   \n",
       "2395       0      0       0    0    0   0      0    0     0   0  ...      0   \n",
       "2396       0      0       0    0    0   0      0    0     0   0  ...      0   \n",
       "2397       0      0       0    0    0   0      0    0     0   0  ...      0   \n",
       "2398       0      0       0    0    0   0      0    0     0   0  ...      0   \n",
       "2399       0      0       0    0    0   0      0    0     0   1  ...      0   \n",
       "\n",
       "      yes  yesterday  yet  you  young  your  yours  yourself  zero  \n",
       "0       0          0    0    0      0     0      0         0     0  \n",
       "1       0          0    0    0      0     0      0         0     0  \n",
       "2       0          0    0    0      0     0      0         0     0  \n",
       "3       0          0    0    1      0     0      0         0     0  \n",
       "4       0          0    0    3      0     0      0         0     0  \n",
       "...   ...        ...  ...  ...    ...   ...    ...       ...   ...  \n",
       "2395    0          0    0    1      0     0      0         0     0  \n",
       "2396    0          0    0    0      0     0      0         0     0  \n",
       "2397    0          0    0    0      0     0      0         0     0  \n",
       "2398    0          0    0    0      0     0      0         0     0  \n",
       "2399    0          0    0    1      0     0      0         0     0  \n",
       "\n",
       "[2400 rows x 2718 columns]"
      ]
     },
     "execution_count": 30,
     "metadata": {},
     "output_type": "execute_result"
    }
   ],
   "source": [
    "pd.DataFrame(X_vec_train.toarray(), columns=vectorizer.get_feature_names_out())"
   ]
  },
  {
   "cell_type": "markdown",
   "metadata": {},
   "source": [
    "Zet nu ook de test data in `X_test` om naar features. Let op: hiervoor gebruik je de codering die de vectorizer op basis van `X_train` 'geleerd' heeft. Zoek, als je dat niet al gedaan hebt, in de documentatie het verschil tussen de functies `fit()`, `transform()` en `fit_transform()` op."
   ]
  },
  {
   "cell_type": "code",
   "execution_count": 31,
   "metadata": {},
   "outputs": [
    {
     "data": {
      "text/html": [
       "<div>\n",
       "<style scoped>\n",
       "    .dataframe tbody tr th:only-of-type {\n",
       "        vertical-align: middle;\n",
       "    }\n",
       "\n",
       "    .dataframe tbody tr th {\n",
       "        vertical-align: top;\n",
       "    }\n",
       "\n",
       "    .dataframe thead th {\n",
       "        text-align: right;\n",
       "    }\n",
       "</style>\n",
       "<table border=\"1\" class=\"dataframe\">\n",
       "  <thead>\n",
       "    <tr style=\"text-align: right;\">\n",
       "      <th></th>\n",
       "      <th>0000FF</th>\n",
       "      <th>06T18</th>\n",
       "      <th>10acpi</th>\n",
       "      <th>1st</th>\n",
       "      <th>3rd</th>\n",
       "      <th>AC</th>\n",
       "      <th>AGAIN</th>\n",
       "      <th>ALL</th>\n",
       "      <th>ALSA</th>\n",
       "      <th>AM</th>\n",
       "      <th>...</th>\n",
       "      <th>years</th>\n",
       "      <th>yes</th>\n",
       "      <th>yesterday</th>\n",
       "      <th>yet</th>\n",
       "      <th>you</th>\n",
       "      <th>young</th>\n",
       "      <th>your</th>\n",
       "      <th>yours</th>\n",
       "      <th>yourself</th>\n",
       "      <th>zero</th>\n",
       "    </tr>\n",
       "  </thead>\n",
       "  <tbody>\n",
       "    <tr>\n",
       "      <th>0</th>\n",
       "      <td>0</td>\n",
       "      <td>0</td>\n",
       "      <td>0</td>\n",
       "      <td>0</td>\n",
       "      <td>0</td>\n",
       "      <td>0</td>\n",
       "      <td>0</td>\n",
       "      <td>0</td>\n",
       "      <td>0</td>\n",
       "      <td>0</td>\n",
       "      <td>...</td>\n",
       "      <td>0</td>\n",
       "      <td>0</td>\n",
       "      <td>0</td>\n",
       "      <td>0</td>\n",
       "      <td>1</td>\n",
       "      <td>0</td>\n",
       "      <td>3</td>\n",
       "      <td>0</td>\n",
       "      <td>0</td>\n",
       "      <td>0</td>\n",
       "    </tr>\n",
       "    <tr>\n",
       "      <th>1</th>\n",
       "      <td>0</td>\n",
       "      <td>0</td>\n",
       "      <td>0</td>\n",
       "      <td>0</td>\n",
       "      <td>0</td>\n",
       "      <td>0</td>\n",
       "      <td>0</td>\n",
       "      <td>0</td>\n",
       "      <td>0</td>\n",
       "      <td>0</td>\n",
       "      <td>...</td>\n",
       "      <td>0</td>\n",
       "      <td>0</td>\n",
       "      <td>0</td>\n",
       "      <td>1</td>\n",
       "      <td>2</td>\n",
       "      <td>0</td>\n",
       "      <td>0</td>\n",
       "      <td>0</td>\n",
       "      <td>0</td>\n",
       "      <td>0</td>\n",
       "    </tr>\n",
       "    <tr>\n",
       "      <th>2</th>\n",
       "      <td>0</td>\n",
       "      <td>0</td>\n",
       "      <td>0</td>\n",
       "      <td>0</td>\n",
       "      <td>0</td>\n",
       "      <td>0</td>\n",
       "      <td>0</td>\n",
       "      <td>0</td>\n",
       "      <td>0</td>\n",
       "      <td>0</td>\n",
       "      <td>...</td>\n",
       "      <td>0</td>\n",
       "      <td>0</td>\n",
       "      <td>0</td>\n",
       "      <td>0</td>\n",
       "      <td>2</td>\n",
       "      <td>0</td>\n",
       "      <td>2</td>\n",
       "      <td>0</td>\n",
       "      <td>0</td>\n",
       "      <td>0</td>\n",
       "    </tr>\n",
       "    <tr>\n",
       "      <th>3</th>\n",
       "      <td>0</td>\n",
       "      <td>0</td>\n",
       "      <td>0</td>\n",
       "      <td>0</td>\n",
       "      <td>0</td>\n",
       "      <td>0</td>\n",
       "      <td>0</td>\n",
       "      <td>0</td>\n",
       "      <td>0</td>\n",
       "      <td>0</td>\n",
       "      <td>...</td>\n",
       "      <td>0</td>\n",
       "      <td>0</td>\n",
       "      <td>0</td>\n",
       "      <td>0</td>\n",
       "      <td>0</td>\n",
       "      <td>0</td>\n",
       "      <td>0</td>\n",
       "      <td>0</td>\n",
       "      <td>0</td>\n",
       "      <td>0</td>\n",
       "    </tr>\n",
       "    <tr>\n",
       "      <th>4</th>\n",
       "      <td>0</td>\n",
       "      <td>0</td>\n",
       "      <td>0</td>\n",
       "      <td>0</td>\n",
       "      <td>0</td>\n",
       "      <td>0</td>\n",
       "      <td>0</td>\n",
       "      <td>0</td>\n",
       "      <td>0</td>\n",
       "      <td>0</td>\n",
       "      <td>...</td>\n",
       "      <td>0</td>\n",
       "      <td>0</td>\n",
       "      <td>0</td>\n",
       "      <td>0</td>\n",
       "      <td>8</td>\n",
       "      <td>0</td>\n",
       "      <td>3</td>\n",
       "      <td>0</td>\n",
       "      <td>0</td>\n",
       "      <td>0</td>\n",
       "    </tr>\n",
       "    <tr>\n",
       "      <th>...</th>\n",
       "      <td>...</td>\n",
       "      <td>...</td>\n",
       "      <td>...</td>\n",
       "      <td>...</td>\n",
       "      <td>...</td>\n",
       "      <td>...</td>\n",
       "      <td>...</td>\n",
       "      <td>...</td>\n",
       "      <td>...</td>\n",
       "      <td>...</td>\n",
       "      <td>...</td>\n",
       "      <td>...</td>\n",
       "      <td>...</td>\n",
       "      <td>...</td>\n",
       "      <td>...</td>\n",
       "      <td>...</td>\n",
       "      <td>...</td>\n",
       "      <td>...</td>\n",
       "      <td>...</td>\n",
       "      <td>...</td>\n",
       "      <td>...</td>\n",
       "    </tr>\n",
       "    <tr>\n",
       "      <th>595</th>\n",
       "      <td>0</td>\n",
       "      <td>0</td>\n",
       "      <td>0</td>\n",
       "      <td>0</td>\n",
       "      <td>0</td>\n",
       "      <td>0</td>\n",
       "      <td>0</td>\n",
       "      <td>0</td>\n",
       "      <td>0</td>\n",
       "      <td>0</td>\n",
       "      <td>...</td>\n",
       "      <td>0</td>\n",
       "      <td>0</td>\n",
       "      <td>0</td>\n",
       "      <td>0</td>\n",
       "      <td>4</td>\n",
       "      <td>0</td>\n",
       "      <td>0</td>\n",
       "      <td>0</td>\n",
       "      <td>0</td>\n",
       "      <td>0</td>\n",
       "    </tr>\n",
       "    <tr>\n",
       "      <th>596</th>\n",
       "      <td>0</td>\n",
       "      <td>0</td>\n",
       "      <td>0</td>\n",
       "      <td>0</td>\n",
       "      <td>0</td>\n",
       "      <td>0</td>\n",
       "      <td>0</td>\n",
       "      <td>0</td>\n",
       "      <td>0</td>\n",
       "      <td>0</td>\n",
       "      <td>...</td>\n",
       "      <td>0</td>\n",
       "      <td>0</td>\n",
       "      <td>0</td>\n",
       "      <td>0</td>\n",
       "      <td>7</td>\n",
       "      <td>0</td>\n",
       "      <td>1</td>\n",
       "      <td>0</td>\n",
       "      <td>0</td>\n",
       "      <td>0</td>\n",
       "    </tr>\n",
       "    <tr>\n",
       "      <th>597</th>\n",
       "      <td>0</td>\n",
       "      <td>0</td>\n",
       "      <td>0</td>\n",
       "      <td>0</td>\n",
       "      <td>0</td>\n",
       "      <td>0</td>\n",
       "      <td>0</td>\n",
       "      <td>0</td>\n",
       "      <td>0</td>\n",
       "      <td>0</td>\n",
       "      <td>...</td>\n",
       "      <td>0</td>\n",
       "      <td>0</td>\n",
       "      <td>0</td>\n",
       "      <td>0</td>\n",
       "      <td>0</td>\n",
       "      <td>0</td>\n",
       "      <td>0</td>\n",
       "      <td>0</td>\n",
       "      <td>0</td>\n",
       "      <td>0</td>\n",
       "    </tr>\n",
       "    <tr>\n",
       "      <th>598</th>\n",
       "      <td>0</td>\n",
       "      <td>0</td>\n",
       "      <td>0</td>\n",
       "      <td>0</td>\n",
       "      <td>0</td>\n",
       "      <td>0</td>\n",
       "      <td>0</td>\n",
       "      <td>0</td>\n",
       "      <td>0</td>\n",
       "      <td>0</td>\n",
       "      <td>...</td>\n",
       "      <td>0</td>\n",
       "      <td>0</td>\n",
       "      <td>0</td>\n",
       "      <td>0</td>\n",
       "      <td>1</td>\n",
       "      <td>0</td>\n",
       "      <td>0</td>\n",
       "      <td>0</td>\n",
       "      <td>0</td>\n",
       "      <td>0</td>\n",
       "    </tr>\n",
       "    <tr>\n",
       "      <th>599</th>\n",
       "      <td>0</td>\n",
       "      <td>0</td>\n",
       "      <td>0</td>\n",
       "      <td>0</td>\n",
       "      <td>0</td>\n",
       "      <td>0</td>\n",
       "      <td>0</td>\n",
       "      <td>0</td>\n",
       "      <td>0</td>\n",
       "      <td>0</td>\n",
       "      <td>...</td>\n",
       "      <td>0</td>\n",
       "      <td>0</td>\n",
       "      <td>0</td>\n",
       "      <td>0</td>\n",
       "      <td>3</td>\n",
       "      <td>0</td>\n",
       "      <td>0</td>\n",
       "      <td>0</td>\n",
       "      <td>0</td>\n",
       "      <td>0</td>\n",
       "    </tr>\n",
       "  </tbody>\n",
       "</table>\n",
       "<p>600 rows × 2718 columns</p>\n",
       "</div>"
      ],
      "text/plain": [
       "     0000FF  06T18  10acpi  1st  3rd  AC  AGAIN  ALL  ALSA  AM  ...  years  \\\n",
       "0         0      0       0    0    0   0      0    0     0   0  ...      0   \n",
       "1         0      0       0    0    0   0      0    0     0   0  ...      0   \n",
       "2         0      0       0    0    0   0      0    0     0   0  ...      0   \n",
       "3         0      0       0    0    0   0      0    0     0   0  ...      0   \n",
       "4         0      0       0    0    0   0      0    0     0   0  ...      0   \n",
       "..      ...    ...     ...  ...  ...  ..    ...  ...   ...  ..  ...    ...   \n",
       "595       0      0       0    0    0   0      0    0     0   0  ...      0   \n",
       "596       0      0       0    0    0   0      0    0     0   0  ...      0   \n",
       "597       0      0       0    0    0   0      0    0     0   0  ...      0   \n",
       "598       0      0       0    0    0   0      0    0     0   0  ...      0   \n",
       "599       0      0       0    0    0   0      0    0     0   0  ...      0   \n",
       "\n",
       "     yes  yesterday  yet  you  young  your  yours  yourself  zero  \n",
       "0      0          0    0    1      0     3      0         0     0  \n",
       "1      0          0    1    2      0     0      0         0     0  \n",
       "2      0          0    0    2      0     2      0         0     0  \n",
       "3      0          0    0    0      0     0      0         0     0  \n",
       "4      0          0    0    8      0     3      0         0     0  \n",
       "..   ...        ...  ...  ...    ...   ...    ...       ...   ...  \n",
       "595    0          0    0    4      0     0      0         0     0  \n",
       "596    0          0    0    7      0     1      0         0     0  \n",
       "597    0          0    0    0      0     0      0         0     0  \n",
       "598    0          0    0    1      0     0      0         0     0  \n",
       "599    0          0    0    3      0     0      0         0     0  \n",
       "\n",
       "[600 rows x 2718 columns]"
      ]
     },
     "execution_count": 31,
     "metadata": {},
     "output_type": "execute_result"
    }
   ],
   "source": [
    "X_vec_test = vectorizer.transform(X_test)\n",
    "pd.DataFrame(X_vec_test.toarray(), columns=vectorizer.get_feature_names_out())"
   ]
  },
  {
   "cell_type": "markdown",
   "metadata": {},
   "source": [
    "Train en test nu een classifier of deep learning model op basis van deze data."
   ]
  },
  {
   "cell_type": "code",
   "execution_count": 32,
   "metadata": {},
   "outputs": [
    {
     "name": "stdout",
     "output_type": "stream",
     "text": [
      "[0 0 0 ... 0 0 0]\n"
     ]
    }
   ],
   "source": [
    "print(y_train)\n"
   ]
  },
  {
   "cell_type": "code",
   "execution_count": 33,
   "metadata": {},
   "outputs": [
    {
     "name": "stdout",
     "output_type": "stream",
     "text": [
      "0.955\n"
     ]
    }
   ],
   "source": [
    "# train a classifier\n",
    "from sklearn.linear_model import LogisticRegression\n",
    "from sklearn.metrics import accuracy_score\n",
    "\n",
    "clf = LogisticRegression(max_iter=50000, random_state=42)\n",
    "clf.fit(X_vec_train, y_train)\n",
    "\n",
    "y_pred = clf.predict(X_vec_test)\n",
    "\n",
    "print(accuracy_score(y_test, y_pred))"
   ]
  },
  {
   "cell_type": "code",
   "execution_count": 47,
   "metadata": {},
   "outputs": [
    {
     "name": "stdout",
     "output_type": "stream",
     "text": [
      "Model: \"sequential_4\"\n",
      "_________________________________________________________________\n",
      " Layer (type)                Output Shape              Param #   \n",
      "=================================================================\n",
      " dense_12 (Dense)            (None, 100)               271900    \n",
      "                                                                 \n",
      " dropout_8 (Dropout)         (None, 100)               0         \n",
      "                                                                 \n",
      " dense_13 (Dense)            (None, 1)                 101       \n",
      "                                                                 \n",
      "=================================================================\n",
      "Total params: 272001 (1.04 MB)\n",
      "Trainable params: 272001 (1.04 MB)\n",
      "Non-trainable params: 0 (0.00 Byte)\n",
      "_________________________________________________________________\n"
     ]
    }
   ],
   "source": [
    "# Deep learning model\n",
    "from keras.models import Sequential\n",
    "from keras.layers import Dense, Dropout\n",
    "from keras.optimizers import Adam\n",
    "\n",
    "model = Sequential()\n",
    "model.add(Dense(100, input_dim=X_vec_train.shape[1], activation='relu'))\n",
    "model.add(Dropout(0.5))\n",
    "model.add(Dense(1, activation='sigmoid'))\n",
    "\n",
    "model.compile(loss='binary_crossentropy', optimizer=Adam(learning_rate=0.0001), metrics=['accuracy'])\n",
    "\n",
    "model.summary()\n"
   ]
  },
  {
   "cell_type": "code",
   "execution_count": 48,
   "metadata": {},
   "outputs": [
    {
     "name": "stdout",
     "output_type": "stream",
     "text": [
      "Epoch 1/10\n",
      "38/38 [==============================] - 1s 7ms/step - loss: 0.7801 - accuracy: 0.7329 - val_loss: 0.6059 - val_accuracy: 0.8633\n",
      "Epoch 2/10\n",
      "38/38 [==============================] - 0s 4ms/step - loss: 0.5982 - accuracy: 0.8267 - val_loss: 0.4915 - val_accuracy: 0.8950\n",
      "Epoch 3/10\n",
      "38/38 [==============================] - 0s 4ms/step - loss: 0.4485 - accuracy: 0.8750 - val_loss: 0.4568 - val_accuracy: 0.9017\n",
      "Epoch 4/10\n",
      "38/38 [==============================] - 0s 4ms/step - loss: 0.4070 - accuracy: 0.8967 - val_loss: 0.4110 - val_accuracy: 0.9150\n",
      "Epoch 5/10\n",
      "38/38 [==============================] - 0s 4ms/step - loss: 0.3453 - accuracy: 0.9100 - val_loss: 0.4054 - val_accuracy: 0.9183\n",
      "Epoch 6/10\n",
      "38/38 [==============================] - 0s 4ms/step - loss: 0.2968 - accuracy: 0.9237 - val_loss: 0.3848 - val_accuracy: 0.9383\n",
      "Epoch 7/10\n",
      "38/38 [==============================] - 0s 4ms/step - loss: 0.2616 - accuracy: 0.9350 - val_loss: 0.3608 - val_accuracy: 0.9433\n",
      "Epoch 8/10\n",
      "38/38 [==============================] - 0s 4ms/step - loss: 0.2203 - accuracy: 0.9413 - val_loss: 0.3611 - val_accuracy: 0.9467\n",
      "Epoch 9/10\n",
      "38/38 [==============================] - 0s 4ms/step - loss: 0.1966 - accuracy: 0.9404 - val_loss: 0.3632 - val_accuracy: 0.9467\n",
      "Epoch 10/10\n",
      "38/38 [==============================] - 0s 4ms/step - loss: 0.2360 - accuracy: 0.9450 - val_loss: 0.3443 - val_accuracy: 0.9483\n",
      "19/19 [==============================] - 0s 1ms/step\n",
      "0.9483333333333334\n"
     ]
    }
   ],
   "source": [
    "# Training and testing the model\n",
    "history = model.fit(X_vec_train.toarray(), y_train,validation_data=(X_vec_test, y_test) ,epochs=10, batch_size=64)\n",
    "\n",
    "y_pred = model.predict(X_vec_test.toarray())\n",
    "print(accuracy_score(y_test, y_pred > 0.5))\n"
   ]
  },
  {
   "cell_type": "code",
   "execution_count": 49,
   "metadata": {},
   "outputs": [
    {
     "data": {
      "image/png": "[encoded data removed]",
      "text/plain": [
       "<Figure size 640x480 with 1 Axes>"
      ]
     },
     "metadata": {},
     "output_type": "display_data"
    }
   ],
   "source": [
    "# Plotting Training and Validation Loss\n",
    "import matplotlib.pyplot as plt\n",
    "\n",
    "plt.plot(history.history['loss'])\n",
    "plt.plot(history.history['accuracy'])\n",
    "plt.legend(['loss', 'accuracy'])\n",
    "plt.title('model loss')\n",
    "plt.ylabel('loss')\n",
    "plt.xlabel('epoch')\n",
    "plt.show()"
   ]
  },
  {
   "cell_type": "code",
   "execution_count": 50,
   "metadata": {},
   "outputs": [
    {
     "data": {
      "image/png": "[encoded data removed]",
      "text/plain": [
       "<Figure size 640x480 with 1 Axes>"
      ]
     },
     "metadata": {},
     "output_type": "display_data"
    }
   ],
   "source": [
    "# Plotting training and validation loss\n",
    "plt.plot(history.history['loss'], label='Training Loss')\n",
    "plt.plot(history.history['val_loss'], label='Validation Loss')\n",
    "plt.title('Model loss')\n",
    "plt.ylabel('Loss')\n",
    "plt.xlabel('Epoch')\n",
    "plt.legend()\n",
    "plt.show()"
   ]
  },
  {
   "cell_type": "code",
   "execution_count": 51,
   "metadata": {},
   "outputs": [
    {
     "name": "stdout",
     "output_type": "stream",
     "text": [
      "Epoch 1/50\n",
      "150/150 [==============================] - 1s 4ms/step - loss: 1.0448 - accuracy: 0.6208 - val_loss: 0.5965 - val_accuracy: 0.8383\n",
      "Epoch 2/50\n",
      "150/150 [==============================] - 0s 3ms/step - loss: 0.7348 - accuracy: 0.7079 - val_loss: 0.5663 - val_accuracy: 0.8433\n",
      "Epoch 3/50\n",
      "150/150 [==============================] - 0s 3ms/step - loss: 0.7531 - accuracy: 0.7421 - val_loss: 0.5414 - val_accuracy: 0.8567\n",
      "Epoch 4/50\n",
      "150/150 [==============================] - 0s 3ms/step - loss: 0.6233 - accuracy: 0.7937 - val_loss: 0.5103 - val_accuracy: 0.8650\n",
      "Epoch 5/50\n",
      "150/150 [==============================] - 0s 3ms/step - loss: 0.5920 - accuracy: 0.7967 - val_loss: 0.4848 - val_accuracy: 0.8700\n",
      "Epoch 6/50\n",
      "150/150 [==============================] - 0s 3ms/step - loss: 0.5656 - accuracy: 0.8183 - val_loss: 0.4613 - val_accuracy: 0.8783\n",
      "Epoch 7/50\n",
      "150/150 [==============================] - 0s 3ms/step - loss: 0.4777 - accuracy: 0.8413 - val_loss: 0.4333 - val_accuracy: 0.8817\n",
      "Epoch 8/50\n",
      "150/150 [==============================] - 0s 3ms/step - loss: 0.4757 - accuracy: 0.8388 - val_loss: 0.4000 - val_accuracy: 0.8900\n",
      "Epoch 9/50\n",
      "150/150 [==============================] - 0s 3ms/step - loss: 0.5111 - accuracy: 0.8617 - val_loss: 0.3739 - val_accuracy: 0.8967\n",
      "Epoch 10/50\n",
      "150/150 [==============================] - 0s 3ms/step - loss: 0.3712 - accuracy: 0.8612 - val_loss: 0.3611 - val_accuracy: 0.9000\n",
      "Epoch 11/50\n",
      "150/150 [==============================] - 0s 3ms/step - loss: 0.3786 - accuracy: 0.8662 - val_loss: 0.3483 - val_accuracy: 0.9167\n",
      "Epoch 12/50\n",
      "150/150 [==============================] - 0s 3ms/step - loss: 0.3943 - accuracy: 0.8746 - val_loss: 0.3351 - val_accuracy: 0.9217\n",
      "Epoch 13/50\n",
      "150/150 [==============================] - 0s 3ms/step - loss: 0.3349 - accuracy: 0.8825 - val_loss: 0.3508 - val_accuracy: 0.9200\n",
      "Epoch 14/50\n",
      "150/150 [==============================] - 0s 3ms/step - loss: 0.3190 - accuracy: 0.8871 - val_loss: 0.3266 - val_accuracy: 0.9367\n",
      "Epoch 15/50\n",
      "150/150 [==============================] - 0s 3ms/step - loss: 0.2744 - accuracy: 0.8917 - val_loss: 0.3346 - val_accuracy: 0.9383\n",
      "Epoch 16/50\n",
      "150/150 [==============================] - 0s 3ms/step - loss: 0.2888 - accuracy: 0.9038 - val_loss: 0.3179 - val_accuracy: 0.9483\n",
      "Epoch 17/50\n",
      "150/150 [==============================] - 0s 3ms/step - loss: 0.2399 - accuracy: 0.9108 - val_loss: 0.3305 - val_accuracy: 0.9500\n",
      "Epoch 18/50\n",
      "150/150 [==============================] - 0s 3ms/step - loss: 0.2337 - accuracy: 0.9162 - val_loss: 0.3357 - val_accuracy: 0.9500\n",
      "Epoch 19/50\n",
      "150/150 [==============================] - 0s 3ms/step - loss: 0.2115 - accuracy: 0.9171 - val_loss: 0.3467 - val_accuracy: 0.9517\n",
      "Epoch 20/50\n",
      "150/150 [==============================] - 0s 3ms/step - loss: 0.2030 - accuracy: 0.9171 - val_loss: 0.3257 - val_accuracy: 0.9533\n",
      "Epoch 21/50\n",
      "150/150 [==============================] - 0s 3ms/step - loss: 0.2013 - accuracy: 0.9250 - val_loss: 0.3443 - val_accuracy: 0.9533\n",
      "Epoch 22/50\n",
      "150/150 [==============================] - 1s 3ms/step - loss: 0.1838 - accuracy: 0.9267 - val_loss: 0.3653 - val_accuracy: 0.9550\n",
      "Epoch 23/50\n",
      "150/150 [==============================] - 0s 3ms/step - loss: 0.1895 - accuracy: 0.9354 - val_loss: 0.3769 - val_accuracy: 0.9567\n",
      "Epoch 24/50\n",
      "150/150 [==============================] - 0s 3ms/step - loss: 0.1563 - accuracy: 0.9300 - val_loss: 0.4119 - val_accuracy: 0.9583\n",
      "Epoch 25/50\n",
      "150/150 [==============================] - 0s 3ms/step - loss: 0.2068 - accuracy: 0.9333 - val_loss: 0.4305 - val_accuracy: 0.9567\n",
      "Epoch 26/50\n",
      "150/150 [==============================] - 1s 3ms/step - loss: 0.1554 - accuracy: 0.9350 - val_loss: 0.4374 - val_accuracy: 0.9567\n",
      "Epoch 27/50\n",
      "150/150 [==============================] - 0s 3ms/step - loss: 0.1612 - accuracy: 0.9450 - val_loss: 0.4450 - val_accuracy: 0.9567\n",
      "Epoch 28/50\n",
      "150/150 [==============================] - 0s 3ms/step - loss: 0.1284 - accuracy: 0.9438 - val_loss: 0.4672 - val_accuracy: 0.9567\n",
      "Epoch 29/50\n",
      "150/150 [==============================] - 0s 3ms/step - loss: 0.1354 - accuracy: 0.9433 - val_loss: 0.4452 - val_accuracy: 0.9567\n",
      "Epoch 30/50\n",
      "150/150 [==============================] - 0s 3ms/step - loss: 0.1222 - accuracy: 0.9483 - val_loss: 0.4866 - val_accuracy: 0.9567\n",
      "Epoch 31/50\n",
      "150/150 [==============================] - 0s 3ms/step - loss: 0.1174 - accuracy: 0.9467 - val_loss: 0.4959 - val_accuracy: 0.9567\n",
      "Epoch 32/50\n",
      "150/150 [==============================] - 0s 3ms/step - loss: 0.1190 - accuracy: 0.9500 - val_loss: 0.6065 - val_accuracy: 0.9567\n",
      "Epoch 33/50\n",
      "150/150 [==============================] - 0s 3ms/step - loss: 0.1109 - accuracy: 0.9467 - val_loss: 0.5872 - val_accuracy: 0.9567\n",
      "Epoch 34/50\n",
      "150/150 [==============================] - 0s 3ms/step - loss: 0.1066 - accuracy: 0.9504 - val_loss: 0.5895 - val_accuracy: 0.9583\n",
      "Epoch 35/50\n",
      "150/150 [==============================] - 1s 4ms/step - loss: 0.0993 - accuracy: 0.9538 - val_loss: 0.6298 - val_accuracy: 0.9600\n",
      "Epoch 36/50\n",
      "150/150 [==============================] - 0s 3ms/step - loss: 0.1047 - accuracy: 0.9500 - val_loss: 0.5904 - val_accuracy: 0.9600\n",
      "Epoch 37/50\n",
      "150/150 [==============================] - 0s 3ms/step - loss: 0.0954 - accuracy: 0.9567 - val_loss: 0.6697 - val_accuracy: 0.9600\n",
      "Epoch 38/50\n",
      "150/150 [==============================] - 0s 3ms/step - loss: 0.0873 - accuracy: 0.9563 - val_loss: 0.6705 - val_accuracy: 0.9617\n",
      "Epoch 39/50\n",
      "150/150 [==============================] - 0s 3ms/step - loss: 0.0973 - accuracy: 0.9588 - val_loss: 0.8016 - val_accuracy: 0.9600\n",
      "Epoch 40/50\n",
      "150/150 [==============================] - 0s 3ms/step - loss: 0.0963 - accuracy: 0.9554 - val_loss: 0.7217 - val_accuracy: 0.9600\n",
      "Epoch 41/50\n",
      "150/150 [==============================] - 0s 3ms/step - loss: 0.0839 - accuracy: 0.9538 - val_loss: 0.7086 - val_accuracy: 0.9600\n",
      "Epoch 42/50\n",
      "150/150 [==============================] - 0s 3ms/step - loss: 0.0842 - accuracy: 0.9558 - val_loss: 0.7659 - val_accuracy: 0.9617\n",
      "Epoch 43/50\n",
      "150/150 [==============================] - 0s 3ms/step - loss: 0.0856 - accuracy: 0.9550 - val_loss: 0.7994 - val_accuracy: 0.9617\n",
      "Epoch 44/50\n",
      "150/150 [==============================] - 0s 3ms/step - loss: 0.0765 - accuracy: 0.9567 - val_loss: 0.7902 - val_accuracy: 0.9617\n",
      "Epoch 45/50\n",
      "150/150 [==============================] - 0s 3ms/step - loss: 0.0778 - accuracy: 0.9583 - val_loss: 0.8163 - val_accuracy: 0.9617\n",
      "Epoch 46/50\n",
      "150/150 [==============================] - 0s 3ms/step - loss: 0.0832 - accuracy: 0.9625 - val_loss: 0.8201 - val_accuracy: 0.9617\n",
      "Epoch 47/50\n",
      "150/150 [==============================] - 0s 3ms/step - loss: 0.0707 - accuracy: 0.9642 - val_loss: 0.8578 - val_accuracy: 0.9617\n",
      "Epoch 48/50\n",
      "150/150 [==============================] - 0s 3ms/step - loss: 0.0936 - accuracy: 0.9542 - val_loss: 0.8450 - val_accuracy: 0.9717\n",
      "Epoch 49/50\n",
      "150/150 [==============================] - 0s 3ms/step - loss: 0.0770 - accuracy: 0.9642 - val_loss: 0.8509 - val_accuracy: 0.9617\n",
      "Epoch 50/50\n",
      "150/150 [==============================] - 0s 3ms/step - loss: 0.0727 - accuracy: 0.9629 - val_loss: 0.8793 - val_accuracy: 0.9717\n",
      "19/19 [==============================] - 0s 1ms/step\n",
      "0.9716666666666667\n"
     ]
    }
   ],
   "source": [
    "model = Sequential()\n",
    "model.add(Dense(100, input_dim=X_vec_train.shape[1], activation='relu'))\n",
    "model.add(Dropout(0.5))\n",
    "model.add(Dense(50, activation='relu'))\n",
    "model.add(Dropout(0.5))\n",
    "model.add(Dense(25, activation='relu'))\n",
    "model.add(Dropout(0.5))\n",
    "model.add(Dense(1, activation='sigmoid'))\n",
    "\n",
    "model.compile(loss='binary_crossentropy', optimizer=Adam(learning_rate=0.0001), metrics=['accuracy'])\n",
    "\n",
    "# Training and testing the model\n",
    "history = model.fit(X_vec_train.toarray(), y_train, validation_data=(X_vec_test, y_test) ,epochs=50, batch_size=16)\n",
    "\n",
    "y_pred = model.predict(X_vec_test.toarray())\n",
    "print(accuracy_score(y_test, y_pred > 0.5))"
   ]
  },
  {
   "cell_type": "code",
   "execution_count": 52,
   "metadata": {},
   "outputs": [
    {
     "data": {
      "image/png": "[encoded data removed]",
      "text/plain": [
       "<Figure size 640x480 with 1 Axes>"
      ]
     },
     "metadata": {},
     "output_type": "display_data"
    }
   ],
   "source": [
    "# Plotting loss and accuracy\n",
    "import matplotlib.pyplot as plt\n",
    "\n",
    "plt.plot(history.history['loss'])\n",
    "plt.plot(history.history['accuracy'])\n",
    "plt.title('model loss')\n",
    "plt.ylabel('loss')\n",
    "plt.xlabel('epoch')\n",
    "plt.legend(['loss', 'accuracy'], loc='right')\n",
    "plt.show()"
   ]
  },
  {
   "cell_type": "code",
   "execution_count": 54,
   "metadata": {},
   "outputs": [
    {
     "data": {
      "image/png": "[encoded data removed]",
      "text/plain": [
       "<Figure size 640x480 with 1 Axes>"
      ]
     },
     "metadata": {},
     "output_type": "display_data"
    }
   ],
   "source": [
    "# Plotting training and validation loss\n",
    "plt.plot(history.history['loss'], label='Training Loss')\n",
    "plt.plot(history.history['val_loss'], label='Validation Loss')\n",
    "plt.plot(history.history['accuracy'], label='Training Accuracy')\n",
    "plt.title('Model loss')\n",
    "plt.ylabel('Loss')\n",
    "plt.xlabel('Epoch')\n",
    "plt.legend()\n",
    "plt.show()\n"
   ]
  },
  {
   "cell_type": "markdown",
   "metadata": {},
   "source": [
    "In deze 2 Modellen, zie je dat in het eerste model er voor maar 10 epochs getraint is, en de accuracy rond de 94.8% is. In het tweede model, is het getraind voor 50 epochs. Je ziet hier dat de accuracy omhoog gaat naar 97.1% procent. \n",
    "\n",
    "Maar als je kijkt naar de plots, dan zie je dat er spraken is van overfitting, de loss op de validatie gaat omhoog, terwijl de training loss omlaag blijft gaan.\n",
    "\n",
    "Wel raar dat de accuracy alsnog omhoog gaat na 10 epochs, terwijl er vanaf dat punt spraken is van overfitting."
   ]
  }
 ],
 "metadata": {
  "kernelspec": {
   "display_name": "Python 3 (ipykernel)",
   "language": "python",
   "name": "python3"
  },
  "language_info": {
   "codemirror_mode": {
    "name": "ipython",
    "version": 3
   },
   "file_extension": ".py",
   "mimetype": "text/x-python",
   "name": "python",
   "nbconvert_exporter": "python",
   "pygments_lexer": "ipython3",
   "version": "3.11.7"
  }
 },
 "nbformat": 4,
 "nbformat_minor": 2
}
