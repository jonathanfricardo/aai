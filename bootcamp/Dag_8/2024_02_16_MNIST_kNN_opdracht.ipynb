{
 "cells": [
  {
   "cell_type": "markdown",
   "metadata": {
    "id": "kaODKh9fy7by"
   },
   "source": [
    "# Herkenning van handgeschreven cijfers met Machine Learning\n",
    "\n",
    "## k-Nearest Neigbours\n",
    "\n",
    "- Minor AAI Hogeschool van Amsterdam\n",
    "- Docenten: Michiel Bontenbal & Maarten Post\n",
    "- Vrijdag 16 februari 2024\n",
    "- Acknowledgments: Stijn Oomes\n",
    "\n",
    "### To do:\n",
    "- Run het notebook\n",
    "- Upload het notebook naar je Gitlab, maak aantekening in je logboek, werk bloom-tabel bij."
   ]
  },
  {
   "cell_type": "markdown",
   "metadata": {
    "id": "K044LdPKy7bz"
   },
   "source": [
    "## Importeer libraries"
   ]
  },
  {
   "cell_type": "code",
   "execution_count": 2,
   "metadata": {
    "id": "gsDgWzuay7b0"
   },
   "outputs": [],
   "source": [
    "import numpy as np\n",
    "\n",
    "from matplotlib import pyplot as plt\n",
    "import seaborn as sns; sns.set()\n",
    "\n",
    "from sklearn import neighbors\n",
    "from sklearn.metrics import accuracy_score\n",
    "from sklearn.metrics import confusion_matrix\n",
    "\n",
    "from keras import datasets"
   ]
  },
  {
   "cell_type": "markdown",
   "metadata": {
    "id": "G_gpggBey7b2"
   },
   "source": [
    "## Verover de data"
   ]
  },
  {
   "cell_type": "code",
   "execution_count": 3,
   "metadata": {
    "id": "CkkvAqGgDpIi"
   },
   "outputs": [],
   "source": [
    "#load the dataset from keras and create train and test sets\n",
    "(X_train_images, y_train_labels), (X_test_images, y_test_labels) = datasets.mnist.load_data()"
   ]
  },
  {
   "cell_type": "code",
   "execution_count": 4,
   "metadata": {
    "colab": {
     "base_uri": "https://localhost:8080/"
    },
    "id": "mfF1NYn3TlXk",
    "outputId": "5c661c71-04e9-47e6-a7c9-cfbe2c14da54"
   },
   "outputs": [
    {
     "data": {
      "text/plain": [
       "(60000, 28, 28)"
      ]
     },
     "execution_count": 4,
     "metadata": {},
     "output_type": "execute_result"
    }
   ],
   "source": [
    "X_train_images.shape"
   ]
  },
  {
   "cell_type": "code",
   "execution_count": 5,
   "metadata": {
    "colab": {
     "base_uri": "https://localhost:8080/"
    },
    "id": "A5emNzTCEA8t",
    "outputId": "aa916727-16f8-4a11-df43-b2c13aee01c4"
   },
   "outputs": [
    {
     "data": {
      "text/plain": [
       "(60000,)"
      ]
     },
     "execution_count": 5,
     "metadata": {},
     "output_type": "execute_result"
    }
   ],
   "source": [
    "y_train_labels.shape"
   ]
  },
  {
   "cell_type": "markdown",
   "metadata": {
    "id": "iQ6P2oNp_Mb_"
   },
   "source": [
    "## Controleer de data\n",
    "\n",
    "Controleer als eerste het aantal klassen"
   ]
  },
  {
   "cell_type": "code",
   "execution_count": 6,
   "metadata": {
    "colab": {
     "base_uri": "https://localhost:8080/"
    },
    "id": "V7DNsyFgE0WF",
    "outputId": "570442cb-0bcc-4ac5-8671-6469d53e50ef"
   },
   "outputs": [
    {
     "data": {
      "text/plain": [
       "array([0, 1, 2, 3, 4, 5, 6, 7, 8, 9], dtype=uint8)"
      ]
     },
     "execution_count": 6,
     "metadata": {},
     "output_type": "execute_result"
    }
   ],
   "source": [
    "#check number of unique classes\n",
    "np.unique(y_train_labels)"
   ]
  },
  {
   "cell_type": "markdown",
   "metadata": {},
   "source": [
    "Andere checks:"
   ]
  },
  {
   "cell_type": "code",
   "execution_count": 7,
   "metadata": {
    "colab": {
     "base_uri": "https://localhost:8080/"
    },
    "id": "dwzcvcfKTvt0",
    "outputId": "8870e6da-0539-4dee-e9a0-77e117513700"
   },
   "outputs": [
    {
     "data": {
      "text/plain": [
       "(10000, 28, 28)"
      ]
     },
     "execution_count": 7,
     "metadata": {},
     "output_type": "execute_result"
    }
   ],
   "source": [
    "#test shape of test set\n",
    "X_test_images.shape"
   ]
  },
  {
   "cell_type": "code",
   "execution_count": 8,
   "metadata": {
    "colab": {
     "base_uri": "https://localhost:8080/"
    },
    "id": "UGSktT18E92E",
    "outputId": "ffce6257-aea5-412c-cf41-40ad65648427"
   },
   "outputs": [
    {
     "data": {
      "text/plain": [
       "(10000,)"
      ]
     },
     "execution_count": 8,
     "metadata": {},
     "output_type": "execute_result"
    }
   ],
   "source": [
    "y_test_labels.shape"
   ]
  },
  {
   "cell_type": "code",
   "execution_count": 9,
   "metadata": {
    "colab": {
     "base_uri": "https://localhost:8080/"
    },
    "id": "K5KEbj8cT7fR",
    "outputId": "f6b7809b-c61d-4136-e538-b811b35dca7a"
   },
   "outputs": [
    {
     "name": "stdout",
     "output_type": "stream",
     "text": [
      "[5 0 4 1 9 2 1 3 1 4]\n"
     ]
    }
   ],
   "source": [
    "print(y_train_labels[:10])"
   ]
  },
  {
   "cell_type": "markdown",
   "metadata": {
    "id": "kTk8XNQTy7b8"
   },
   "source": [
    "### Toon 12 random cijfers uit de training-set"
   ]
  },
  {
   "cell_type": "code",
   "execution_count": 10,
   "metadata": {
    "colab": {
     "base_uri": "https://localhost:8080/",
     "height": 264
    },
    "id": "AqaG81Xoy7b9",
    "outputId": "936fc261-efbf-48d7-f7f8-b9f67632dd4b"
   },
   "outputs": [
    {
     "data": {
      "image/png": "[encoded data removed]",
      "text/plain": [
       "<Figure size 640x480 with 12 Axes>"
      ]
     },
     "metadata": {},
     "output_type": "display_data"
    }
   ],
   "source": [
    "for sub in range(1, 13):\n",
    "        plt.subplot(3,4, sub)\n",
    "        i = np.random.randint(60000)\n",
    "\n",
    "        plt.imshow(255 - X_train_images[i], cmap='gray')\n",
    "        plt.title(y_train_labels[i]);\n",
    "        plt.axis(\"off\")"
   ]
  },
  {
   "cell_type": "markdown",
   "metadata": {
    "id": "o-CmZBWdGvDI"
   },
   "source": [
    "## Maak de images geschikt voor ML modellen"
   ]
  },
  {
   "cell_type": "markdown",
   "metadata": {
    "id": "mG5PX38MBRRZ"
   },
   "source": [
    "We gaan in deze stap de images 'flatten' met de reshape method om ze later te kunnen bewerken."
   ]
  },
  {
   "cell_type": "code",
   "execution_count": 11,
   "metadata": {
    "id": "3U0v6y18GodR"
   },
   "outputs": [
    {
     "data": {
      "text/plain": [
       "(60000, 784)"
      ]
     },
     "execution_count": 11,
     "metadata": {},
     "output_type": "execute_result"
    }
   ],
   "source": [
    "X_train_images_flatten = X_train_images.reshape((60000,28*28))\n",
    "X_train_images_flatten.shape"
   ]
  },
  {
   "cell_type": "code",
   "execution_count": 12,
   "metadata": {
    "id": "37BjsfROHRqU"
   },
   "outputs": [
    {
     "data": {
      "text/plain": [
       "(10000, 784)"
      ]
     },
     "execution_count": 12,
     "metadata": {},
     "output_type": "execute_result"
    }
   ],
   "source": [
    "X_test_images_flatten = X_test_images.reshape((10000,28*28))\n",
    "X_test_images_flatten.shape"
   ]
  },
  {
   "cell_type": "markdown",
   "metadata": {
    "id": "NBEZvXo1I2O-"
   },
   "source": [
    "## k-Nearest Neighbours\n"
   ]
  },
  {
   "cell_type": "markdown",
   "metadata": {
    "id": "OjTA0PmEwi9M"
   },
   "source": [
    "Het is beter om in eerste instantie slechts een **deel** van de training set en de test set te gebruiken, bijvoorbeeld 10%.\n",
    "\n",
    "Het trainen duurt niet lang, maar het voorspellen kan zeer rekenintensief zijn.\n",
    "\n",
    "Gebruik %%timeit om deze bewering te controleren."
   ]
  },
  {
   "cell_type": "code",
   "execution_count": 13,
   "metadata": {
    "id": "1p4SP1PRxyeR"
   },
   "outputs": [],
   "source": [
    "knn = neighbors.KNeighborsClassifier(n_neighbors=5, weights='distance')"
   ]
  },
  {
   "cell_type": "markdown",
   "metadata": {
    "id": "bjaOM7f4BunN"
   },
   "source": [
    "Train de kNN met fit(). We kiezen eerst 10% van de train set (=6000) en test set. Je mag dat later verruimen."
   ]
  },
  {
   "cell_type": "code",
   "execution_count": 14,
   "metadata": {
    "colab": {
     "base_uri": "https://localhost:8080/"
    },
    "id": "T0WUEqlJMVWW",
    "outputId": "72adfc07-2251-4282-8040-4f27a634a743"
   },
   "outputs": [
    {
     "data": {
      "text/html": [
       "<style>#sk-container-id-1 {color: black;}#sk-container-id-1 pre{padding: 0;}#sk-container-id-1 div.sk-toggleable {background-color: white;}#sk-container-id-1 label.sk-toggleable__label {cursor: pointer;display: block;width: 100%;margin-bottom: 0;padding: 0.3em;box-sizing: border-box;text-align: center;}#sk-container-id-1 label.sk-toggleable__label-arrow:before {content: \"▸\";float: left;margin-right: 0.25em;color: #696969;}#sk-container-id-1 label.sk-toggleable__label-arrow:hover:before {color: black;}#sk-container-id-1 div.sk-estimator:hover label.sk-toggleable__label-arrow:before {color: black;}#sk-container-id-1 div.sk-toggleable__content {max-height: 0;max-width: 0;overflow: hidden;text-align: left;background-color: #f0f8ff;}#sk-container-id-1 div.sk-toggleable__content pre {margin: 0.2em;color: black;border-radius: 0.25em;background-color: #f0f8ff;}#sk-container-id-1 input.sk-toggleable__control:checked~div.sk-toggleable__content {max-height: 200px;max-width: 100%;overflow: auto;}#sk-container-id-1 input.sk-toggleable__control:checked~label.sk-toggleable__label-arrow:before {content: \"▾\";}#sk-container-id-1 div.sk-estimator input.sk-toggleable__control:checked~label.sk-toggleable__label {background-color: #d4ebff;}#sk-container-id-1 div.sk-label input.sk-toggleable__control:checked~label.sk-toggleable__label {background-color: #d4ebff;}#sk-container-id-1 input.sk-hidden--visually {border: 0;clip: rect(1px 1px 1px 1px);clip: rect(1px, 1px, 1px, 1px);height: 1px;margin: -1px;overflow: hidden;padding: 0;position: absolute;width: 1px;}#sk-container-id-1 div.sk-estimator {font-family: monospace;background-color: #f0f8ff;border: 1px dotted black;border-radius: 0.25em;box-sizing: border-box;margin-bottom: 0.5em;}#sk-container-id-1 div.sk-estimator:hover {background-color: #d4ebff;}#sk-container-id-1 div.sk-parallel-item::after {content: \"\";width: 100%;border-bottom: 1px solid gray;flex-grow: 1;}#sk-container-id-1 div.sk-label:hover label.sk-toggleable__label {background-color: #d4ebff;}#sk-container-id-1 div.sk-serial::before {content: \"\";position: absolute;border-left: 1px solid gray;box-sizing: border-box;top: 0;bottom: 0;left: 50%;z-index: 0;}#sk-container-id-1 div.sk-serial {display: flex;flex-direction: column;align-items: center;background-color: white;padding-right: 0.2em;padding-left: 0.2em;position: relative;}#sk-container-id-1 div.sk-item {position: relative;z-index: 1;}#sk-container-id-1 div.sk-parallel {display: flex;align-items: stretch;justify-content: center;background-color: white;position: relative;}#sk-container-id-1 div.sk-item::before, #sk-container-id-1 div.sk-parallel-item::before {content: \"\";position: absolute;border-left: 1px solid gray;box-sizing: border-box;top: 0;bottom: 0;left: 50%;z-index: -1;}#sk-container-id-1 div.sk-parallel-item {display: flex;flex-direction: column;z-index: 1;position: relative;background-color: white;}#sk-container-id-1 div.sk-parallel-item:first-child::after {align-self: flex-end;width: 50%;}#sk-container-id-1 div.sk-parallel-item:last-child::after {align-self: flex-start;width: 50%;}#sk-container-id-1 div.sk-parallel-item:only-child::after {width: 0;}#sk-container-id-1 div.sk-dashed-wrapped {border: 1px dashed gray;margin: 0 0.4em 0.5em 0.4em;box-sizing: border-box;padding-bottom: 0.4em;background-color: white;}#sk-container-id-1 div.sk-label label {font-family: monospace;font-weight: bold;display: inline-block;line-height: 1.2em;}#sk-container-id-1 div.sk-label-container {text-align: center;}#sk-container-id-1 div.sk-container {/* jupyter's `normalize.less` sets `[hidden] { display: none; }` but bootstrap.min.css set `[hidden] { display: none !important; }` so we also need the `!important` here to be able to override the default hidden behavior on the sphinx rendered scikit-learn.org. See: https://github.com/scikit-learn/scikit-learn/issues/21755 */display: inline-block !important;position: relative;}#sk-container-id-1 div.sk-text-repr-fallback {display: none;}</style><div id=\"sk-container-id-1\" class=\"sk-top-container\"><div class=\"sk-text-repr-fallback\"><pre>KNeighborsClassifier(weights=&#x27;distance&#x27;)</pre><b>In a Jupyter environment, please rerun this cell to show the HTML representation or trust the notebook. <br />On GitHub, the HTML representation is unable to render, please try loading this page with nbviewer.org.</b></div><div class=\"sk-container\" hidden><div class=\"sk-item\"><div class=\"sk-estimator sk-toggleable\"><input class=\"sk-toggleable__control sk-hidden--visually\" id=\"sk-estimator-id-1\" type=\"checkbox\" checked><label for=\"sk-estimator-id-1\" class=\"sk-toggleable__label sk-toggleable__label-arrow\">KNeighborsClassifier</label><div class=\"sk-toggleable__content\"><pre>KNeighborsClassifier(weights=&#x27;distance&#x27;)</pre></div></div></div></div></div>"
      ],
      "text/plain": [
       "KNeighborsClassifier(weights='distance')"
      ]
     },
     "execution_count": 14,
     "metadata": {},
     "output_type": "execute_result"
    }
   ],
   "source": [
    "#train het model met fit()\n",
    "knn.fit(X_train_images_flatten[:6000,:], y_train_labels[:6000])"
   ]
  },
  {
   "cell_type": "code",
   "execution_count": 15,
   "metadata": {
    "colab": {
     "base_uri": "https://localhost:8080/"
    },
    "id": "ZBGklPJfM6JI",
    "outputId": "89659e9f-8ad5-4756-8fb7-7fa31f082736"
   },
   "outputs": [
    {
     "name": "stdout",
     "output_type": "stream",
     "text": [
      "0.919\n"
     ]
    }
   ],
   "source": [
    "#print de accuracy van het model\n",
    "y_predicted_labels = knn.predict(X_test_images_flatten[:1000,:])\n",
    "print(accuracy_score(y_test_labels[:1000], y_predicted_labels[:1000]))"
   ]
  },
  {
   "cell_type": "markdown",
   "metadata": {},
   "source": [
    "☝️ Noteer je resultaat.\n",
    "\n",
    "- KNN: 91.9%"
   ]
  },
  {
   "cell_type": "markdown",
   "metadata": {},
   "source": [
    "Bepaal een verwarringsmatrix en plot deze matrix als heatmap."
   ]
  },
  {
   "cell_type": "code",
   "execution_count": 16,
   "metadata": {
    "colab": {
     "base_uri": "https://localhost:8080/"
    },
    "id": "ROE7FZIsyvn9",
    "outputId": "41385009-8ad4-477b-f834-91637096f9b1"
   },
   "outputs": [
    {
     "name": "stdout",
     "output_type": "stream",
     "text": [
      "[[ 83   0   0   0   0   0   2   0   0   0]\n",
      " [  0 126   0   0   0   0   0   0   0   0]\n",
      " [  2   4  98   0   1   0   2   7   2   0]\n",
      " [  0   1   0  98   0   2   2   2   0   2]\n",
      " [  0   2   0   0  98   0   1   1   0   8]\n",
      " [  1   1   0   0   1  81   0   0   2   1]\n",
      " [  2   0   0   0   1   0  84   0   0   0]\n",
      " [  0   6   0   0   1   1   0  89   0   2]\n",
      " [  2   1   0   4   1   1   2   0  74   4]\n",
      " [  0   0   0   0   2   0   0   2   2  88]]\n"
     ]
    }
   ],
   "source": [
    "#maak een confusion matrix\n",
    "cm = confusion_matrix(y_test_labels[:1000], y_predicted_labels[:1000])\n",
    "\n",
    "print(cm)"
   ]
  },
  {
   "cell_type": "code",
   "execution_count": 17,
   "metadata": {
    "colab": {
     "base_uri": "https://localhost:8080/",
     "height": 285
    },
    "id": "b2mtnV8MQz_o",
    "outputId": "fd61d03b-d426-46e9-eba2-aefea4bce500"
   },
   "outputs": [
    {
     "data": {
      "image/png": "[encoded data removed]",
      "text/plain": [
       "<Figure size 640x480 with 1 Axes>"
      ]
     },
     "metadata": {},
     "output_type": "display_data"
    }
   ],
   "source": [
    "# print the confusion matrix\n",
    "sns.heatmap(cm, square=True, annot=True, cbar=False)\n",
    "plt.xlabel('predicted value')\n",
    "plt.ylabel('true value')"
   ]
  },
  {
   "cell_type": "markdown",
   "metadata": {},
   "source": [
    "Wat valt je op?   \n",
    "\n",
    "Je ziet dat het model de meeste fouten maakt met de getallen 1 en 7, 3 en 8, 4 en 9. Dit komt omdat deze getallen ongeveer dezelfde structuur hebben. Bijvoorbeeld 1 en 7, hebben allebij een lange rechte lijn. 3 en 8 hebben allebei een 2 loops etc."
   ]
  },
  {
   "cell_type": "markdown",
   "metadata": {
    "id": "tPB4KYSzy7cM"
   },
   "source": [
    "## Toon 12 voorbeelden van fouten van het model"
   ]
  },
  {
   "cell_type": "markdown",
   "metadata": {
    "id": "2OPneYpJAH6k"
   },
   "source": [
    "Ik bepaal eerst welke cijfers fout zijn gecategoriseerd."
   ]
  },
  {
   "cell_type": "code",
   "execution_count": 18,
   "metadata": {
    "id": "u3GUt1-Ry7cM"
   },
   "outputs": [],
   "source": [
    "mistakes =  y_test_labels[:1000]!=y_predicted_labels[:1000]"
   ]
  },
  {
   "cell_type": "markdown",
   "metadata": {
    "id": "KUGh2vh4CZln"
   },
   "source": [
    "Ik bekijk een aantal voorbeelden."
   ]
  },
  {
   "cell_type": "code",
   "execution_count": 19,
   "metadata": {
    "colab": {
     "base_uri": "https://localhost:8080/"
    },
    "id": "q-whapf3CcDi",
    "outputId": "c53112a5-dd5d-4c11-b1f1-6800024f10ae"
   },
   "outputs": [
    {
     "data": {
      "text/plain": [
       "array([False, False, False, False, False, False, False, False, False,\n",
       "       False, False, False, False, False, False, False, False, False,\n",
       "       False, False, False, False, False, False,  True, False, False,\n",
       "       False, False, False, False, False, False, False, False, False,\n",
       "       False, False, False, False, False, False, False,  True, False,\n",
       "       False, False, False, False, False, False, False, False, False,\n",
       "       False, False, False, False, False, False, False, False, False,\n",
       "       False, False, False, False, False, False, False, False, False,\n",
       "       False, False, False, False, False,  True, False, False,  True,\n",
       "       False, False, False, False, False, False, False, False, False,\n",
       "       False, False,  True, False, False, False, False, False, False,\n",
       "       False])"
      ]
     },
     "execution_count": 19,
     "metadata": {},
     "output_type": "execute_result"
    }
   ],
   "source": [
    "mistakes[:100]"
   ]
  },
  {
   "cell_type": "markdown",
   "metadata": {
    "id": "-K9shsL9ATk7"
   },
   "source": [
    "En bepaal hoeveel fouten er zijn:"
   ]
  },
  {
   "cell_type": "code",
   "execution_count": 20,
   "metadata": {
    "colab": {
     "base_uri": "https://localhost:8080/"
    },
    "id": "LmIcIUjGy7cP",
    "outputId": "4e29d0dd-2ce2-4161-efef-fbf641e3243c"
   },
   "outputs": [
    {
     "data": {
      "text/plain": [
       "81"
      ]
     },
     "execution_count": 20,
     "metadata": {},
     "output_type": "execute_result"
    }
   ],
   "source": [
    "np.count_nonzero(mistakes)"
   ]
  },
  {
   "cell_type": "markdown",
   "metadata": {
    "id": "SXmPmW2LAizS"
   },
   "source": [
    "Ik wil hier alleen de fout gecategoriseerde cijfers plotten.\n",
    "\n",
    "Op dit moment worden in de code hieronder 12 willekeurige cijfers uit de *hele* test set gekozen.\n",
    "\n",
    "**OPDRACHT**: schrijf de code om naar alleen **fout** geclassificeerde cijfers."
   ]
  },
  {
   "cell_type": "code",
   "execution_count": 27,
   "metadata": {
    "colab": {
     "base_uri": "https://localhost:8080/",
     "height": 264
    },
    "id": "pfmj7pucy7cR",
    "outputId": "360bf537-0dc8-4f7e-a3c4-362cb2b2aefc"
   },
   "outputs": [
    {
     "data": {
      "image/png": "[encoded data removed]",
      "text/plain": [
       "<Figure size 640x480 with 12 Axes>"
      ]
     },
     "metadata": {},
     "output_type": "display_data"
    }
   ],
   "source": [
    "# Mistake indices\n",
    "mistake_indices = np.where(mistakes)[0]\n",
    "\n",
    "# Plotting the mistakes\n",
    "for sub in range(1,13):\n",
    "        plt.subplot(3,4, sub)\n",
    "        i = mistake_indices[np.random.randint(len(mistake_indices))]\n",
    "        plt.axis(\"off\")\n",
    "        plt.imshow(255 - X_test_images[i,:,:], cmap='gray')\n",
    "        predicted_number = y_predicted_labels[i]\n",
    "        actual_number = y_test_labels[i]\n",
    "        plt.title('{0} seen as {1}'.format(actual_number, predicted_number))"
   ]
  },
  {
   "cell_type": "markdown",
   "metadata": {},
   "source": [
    "Hier gebruiken we `np.where(mistakes)[0]` om de indeces te krijgen van de images die fout voorspelt waren. Daarna, in de loop, selecteren we een random index van de `mistake_indices` en plotten we deze."
   ]
  },
  {
   "cell_type": "markdown",
   "metadata": {},
   "source": [
    "### TO DO: Upload het notebook naar je Gitlab, maak aantekening in je logboek, werk bloom-tabel bij."
   ]
  }
 ],
 "metadata": {
  "colab": {
   "collapsed_sections": [],
   "name": "2021_02_11 MNIST kNN uitwerking.ipynb",
   "provenance": []
  },
  "kernelspec": {
   "display_name": "Python 3 (ipykernel)",
   "language": "python",
   "name": "python3"
  },
  "language_info": {
   "codemirror_mode": {
    "name": "ipython",
    "version": 3
   },
   "file_extension": ".py",
   "mimetype": "text/x-python",
   "name": "python",
   "nbconvert_exporter": "python",
   "pygments_lexer": "ipython3",
   "version": "3.11.5"
  }
 },
 "nbformat": 4,
 "nbformat_minor": 1
}
