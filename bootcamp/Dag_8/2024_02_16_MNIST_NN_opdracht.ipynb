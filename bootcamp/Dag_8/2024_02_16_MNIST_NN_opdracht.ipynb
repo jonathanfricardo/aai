{
 "cells": [
  {
   "cell_type": "markdown",
   "metadata": {
    "id": "zUWF7J_ASRv3"
   },
   "source": [
    "# Herkenning van handgeschreven cijfers met Deep Learning 1\n",
    "\n",
    "## Neurale Netwerken\n",
    "\n",
    "- Minor AAI Hogeschool van Amsterdam\n",
    "- Docenten: Michiel Bontenbal & Maarten POst\n",
    "- Vrijdag 16 februari 2024\n",
    "- Acknowledgments: Stijn Oomes\n",
    "\n",
    "### To do:\n",
    "- Run het notebook\n",
    "- Upload het notebook naar je Gitlab & maak aantekening in je logboek. Werk eventueel je bloom-tabel bij."
   ]
  },
  {
   "cell_type": "markdown",
   "metadata": {
    "id": "cRKUniK0SfRg"
   },
   "source": [
    "## Importeer libraries"
   ]
  },
  {
   "cell_type": "code",
   "execution_count": 2,
   "metadata": {
    "id": "S-aMKgrbSl6I"
   },
   "outputs": [],
   "source": [
    "# Import libraries. Ignore possible tensorflow warnings.\n",
    "import numpy as np\n",
    "import matplotlib.pyplot as plt\n",
    "\n",
    "from tensorflow.keras.utils import to_categorical\n",
    "from keras import models, layers, datasets\n",
    "from keras.layers import Dense"
   ]
  },
  {
   "cell_type": "markdown",
   "metadata": {
    "id": "oe0on0c2StYe"
   },
   "source": [
    "## Verover de data"
   ]
  },
  {
   "cell_type": "code",
   "execution_count": 3,
   "metadata": {
    "id": "gh2EoCY-Ssg7"
   },
   "outputs": [],
   "source": [
    "(train_images, train_labels), (test_images, test_labels) = datasets.mnist.load_data()"
   ]
  },
  {
   "cell_type": "code",
   "execution_count": 4,
   "metadata": {
    "colab": {
     "base_uri": "https://localhost:8080/"
    },
    "id": "7FlNpFtxSrMQ",
    "outputId": "c554efd3-3018-4e4a-ccfc-0f3b09195cba"
   },
   "outputs": [
    {
     "data": {
      "text/plain": [
       "(60000, 28, 28)"
      ]
     },
     "execution_count": 4,
     "metadata": {},
     "output_type": "execute_result"
    }
   ],
   "source": [
    "train_images.shape"
   ]
  },
  {
   "cell_type": "code",
   "execution_count": 5,
   "metadata": {
    "colab": {
     "base_uri": "https://localhost:8080/"
    },
    "id": "284h06knTBBG",
    "outputId": "a193eb4e-07ad-4249-9eca-984febd23213"
   },
   "outputs": [
    {
     "name": "stdout",
     "output_type": "stream",
     "text": [
      "[5 0 4 ... 5 6 8]\n"
     ]
    }
   ],
   "source": [
    "print(train_labels)"
   ]
  },
  {
   "cell_type": "code",
   "execution_count": 6,
   "metadata": {
    "colab": {
     "base_uri": "https://localhost:8080/"
    },
    "id": "FBfuBT6ATHyg",
    "outputId": "091b9b8a-13bb-4eb5-b056-79083591ce89"
   },
   "outputs": [
    {
     "data": {
      "text/plain": [
       "(60000,)"
      ]
     },
     "execution_count": 6,
     "metadata": {},
     "output_type": "execute_result"
    }
   ],
   "source": [
    "train_labels.shape"
   ]
  },
  {
   "cell_type": "markdown",
   "metadata": {
    "id": "MbDWz6_wTRxl"
   },
   "source": [
    "## Prepareer de images"
   ]
  },
  {
   "cell_type": "code",
   "execution_count": 7,
   "metadata": {
    "id": "2d3Ox8FETL_j"
   },
   "outputs": [],
   "source": [
    "train_data = train_images.reshape((60000,28*28))"
   ]
  },
  {
   "cell_type": "code",
   "execution_count": 8,
   "metadata": {
    "colab": {
     "base_uri": "https://localhost:8080/"
    },
    "id": "-unCb06nThB2",
    "outputId": "483fb432-f15c-4c17-ac7c-29d0da12bd4a"
   },
   "outputs": [
    {
     "data": {
      "text/plain": [
       "(60000, 784)"
      ]
     },
     "execution_count": 8,
     "metadata": {},
     "output_type": "execute_result"
    }
   ],
   "source": [
    "train_data.shape"
   ]
  },
  {
   "cell_type": "code",
   "execution_count": 9,
   "metadata": {
    "id": "3b3WuTDETjq4"
   },
   "outputs": [],
   "source": [
    "train_data_floats = train_data.astype('float32')/255"
   ]
  },
  {
   "cell_type": "code",
   "execution_count": 10,
   "metadata": {
    "colab": {
     "base_uri": "https://localhost:8080/"
    },
    "id": "9S0zs36BTy47",
    "outputId": "5df9c01b-61b2-4a70-e931-dcc9f81bca58"
   },
   "outputs": [
    {
     "data": {
      "text/plain": [
       "0.0"
      ]
     },
     "execution_count": 10,
     "metadata": {},
     "output_type": "execute_result"
    }
   ],
   "source": [
    "train_data_floats.min()"
   ]
  },
  {
   "cell_type": "code",
   "execution_count": 11,
   "metadata": {},
   "outputs": [
    {
     "data": {
      "text/plain": [
       "1.0"
      ]
     },
     "execution_count": 11,
     "metadata": {},
     "output_type": "execute_result"
    }
   ],
   "source": [
    "train_data_floats.max()"
   ]
  },
  {
   "cell_type": "code",
   "execution_count": 12,
   "metadata": {
    "id": "hxE3Jj5rT3zG"
   },
   "outputs": [],
   "source": [
    "test_data = test_images.reshape((10000,28*28))\n",
    "test_data_floats = test_data.astype('float32')/255"
   ]
  },
  {
   "cell_type": "code",
   "execution_count": 13,
   "metadata": {
    "colab": {
     "base_uri": "https://localhost:8080/"
    },
    "id": "9lo2DZv5UHFT",
    "outputId": "07630292-78f5-4e1c-f4f8-532a65c4b01b"
   },
   "outputs": [
    {
     "data": {
      "text/plain": [
       "(10000, 784)"
      ]
     },
     "execution_count": 13,
     "metadata": {},
     "output_type": "execute_result"
    }
   ],
   "source": [
    "test_data.shape"
   ]
  },
  {
   "cell_type": "code",
   "execution_count": 14,
   "metadata": {
    "colab": {
     "base_uri": "https://localhost:8080/"
    },
    "id": "4QxuwsHJUMd6",
    "outputId": "ee25e310-7704-4af9-f9c5-db41183a7aad"
   },
   "outputs": [
    {
     "data": {
      "text/plain": [
       "1.0"
      ]
     },
     "execution_count": 14,
     "metadata": {},
     "output_type": "execute_result"
    }
   ],
   "source": [
    "test_data_floats.max()"
   ]
  },
  {
   "cell_type": "markdown",
   "metadata": {
    "id": "jb2JCpgYUWlu"
   },
   "source": [
    "## Prepareer de labels"
   ]
  },
  {
   "cell_type": "code",
   "execution_count": 15,
   "metadata": {
    "id": "8_Jmmw6MUOy-"
   },
   "outputs": [],
   "source": [
    "train_labels_encoded = to_categorical(train_labels)\n",
    "test_labels_encoded = to_categorical(test_labels)"
   ]
  },
  {
   "cell_type": "code",
   "execution_count": 16,
   "metadata": {
    "colab": {
     "base_uri": "https://localhost:8080/"
    },
    "id": "GKRqlPkMU6tj",
    "outputId": "f84bb4c9-e7d0-4569-9f48-7dc996ca8771"
   },
   "outputs": [
    {
     "data": {
      "text/plain": [
       "array([5, 0, 4, 1, 9], dtype=uint8)"
      ]
     },
     "execution_count": 16,
     "metadata": {},
     "output_type": "execute_result"
    }
   ],
   "source": [
    "train_labels[:5]"
   ]
  },
  {
   "cell_type": "code",
   "execution_count": 17,
   "metadata": {
    "colab": {
     "base_uri": "https://localhost:8080/"
    },
    "id": "7V_g1CMBUb_7",
    "outputId": "1b2ea083-d481-48ec-a833-4c52ed73d1e2"
   },
   "outputs": [
    {
     "data": {
      "text/plain": [
       "array([[0., 0., 0., 0., 0., 1., 0., 0., 0., 0.],\n",
       "       [1., 0., 0., 0., 0., 0., 0., 0., 0., 0.],\n",
       "       [0., 0., 0., 0., 1., 0., 0., 0., 0., 0.],\n",
       "       [0., 1., 0., 0., 0., 0., 0., 0., 0., 0.],\n",
       "       [0., 0., 0., 0., 0., 0., 0., 0., 0., 1.]], dtype=float32)"
      ]
     },
     "execution_count": 17,
     "metadata": {},
     "output_type": "execute_result"
    }
   ],
   "source": [
    "train_labels_encoded[:5]"
   ]
  },
  {
   "cell_type": "markdown",
   "metadata": {
    "id": "h0j_aIbLVFL7"
   },
   "source": [
    "## Opdracht 1: \n",
    "\n",
    "We nemen hier het model over uit het filmpje van '3 blue 1 brown'. Bestudeer het filmpje en neem de parameters over in je het script hieronder"
   ]
  },
  {
   "cell_type": "code",
   "execution_count": 18,
   "metadata": {},
   "outputs": [
    {
     "data": {
      "image/jpeg": "[encoded data removed]",
      "text/html": [
       "\n",
       "        <iframe\n",
       "            width=\"400\"\n",
       "            height=\"300\"\n",
       "            src=\"https://www.youtube.com/embed/aircAruvnKk\"\n",
       "            frameborder=\"0\"\n",
       "            allowfullscreen\n",
       "            \n",
       "        ></iframe>\n",
       "        "
      ],
      "text/plain": [
       "<IPython.lib.display.YouTubeVideo at 0x284116a90>"
      ]
     },
     "execution_count": 18,
     "metadata": {},
     "output_type": "execute_result"
    }
   ],
   "source": [
    "#BEGIN MET KIJKEN OP t = 3.30. Je mag stoppen op 5.35.\n",
    "import IPython\n",
    "IPython.display.YouTubeVideo('aircAruvnKk')"
   ]
  },
  {
   "cell_type": "code",
   "execution_count": 19,
   "metadata": {},
   "outputs": [],
   "source": [
    "#OEFENING: VERVANG DE VRAAGTEKENS. GEBRUIK HET FILMPJE ALS INPUT.\n",
    "model = models.Sequential()\n",
    "\n",
    "#Hidden layer\n",
    "model.add(layers.Dense(16 ,activation = 'relu'))\n",
    "\n",
    "#Hidden layer 2\n",
    "model.add(layers.Dense(16,activation = 'relu'))\n",
    "\n",
    "#Output layer\n",
    "model.add(layers.Dense(10,activation = 'softmax'))"
   ]
  },
  {
   "cell_type": "markdown",
   "metadata": {},
   "source": [
    "Hier gebruiken we 16 neuronen in de hidden layers, dit getal is abitrair en kan van alles zijn. De laatste output layer heeft wel een betekenisvolle hoeveelheid neuronen, namelijk 10. Dit zijn alle mogelijk heden die uit het model kunnen komen, de cijfers 0 - 9, dus 10 neuronen."
   ]
  },
  {
   "cell_type": "code",
   "execution_count": 20,
   "metadata": {
    "colab": {
     "base_uri": "https://localhost:8080/"
    },
    "id": "Ak6hBc4WVwN4",
    "outputId": "be1f6406-276a-43ee-8473-1a12fbdabe3c"
   },
   "outputs": [
    {
     "ename": "ValueError",
     "evalue": "This model has not yet been built. Build the model first by calling `build()` or by calling the model on a batch of data.",
     "output_type": "error",
     "traceback": [
      "\u001b[0;31m---------------------------------------------------------------------------\u001b[0m",
      "\u001b[0;31mValueError\u001b[0m                                Traceback (most recent call last)",
      "Cell \u001b[0;32mIn[20], line 1\u001b[0m\n\u001b[0;32m----> 1\u001b[0m model\u001b[38;5;241m.\u001b[39msummary()\n",
      "File \u001b[0;32m~/anaconda3/lib/python3.11/site-packages/keras/src/engine/training.py:3506\u001b[0m, in \u001b[0;36mModel.summary\u001b[0;34m(self, line_length, positions, print_fn, expand_nested, show_trainable, layer_range)\u001b[0m\n\u001b[1;32m   3475\u001b[0m \u001b[38;5;250m\u001b[39m\u001b[38;5;124;03m\"\"\"Prints a string summary of the network.\u001b[39;00m\n\u001b[1;32m   3476\u001b[0m \n\u001b[1;32m   3477\u001b[0m \u001b[38;5;124;03mArgs:\u001b[39;00m\n\u001b[0;32m   (...)\u001b[0m\n\u001b[1;32m   3503\u001b[0m \u001b[38;5;124;03m    ValueError: if `summary()` is called before the model is built.\u001b[39;00m\n\u001b[1;32m   3504\u001b[0m \u001b[38;5;124;03m\"\"\"\u001b[39;00m\n\u001b[1;32m   3505\u001b[0m \u001b[38;5;28;01mif\u001b[39;00m \u001b[38;5;129;01mnot\u001b[39;00m \u001b[38;5;28mself\u001b[39m\u001b[38;5;241m.\u001b[39mbuilt:\n\u001b[0;32m-> 3506\u001b[0m     \u001b[38;5;28;01mraise\u001b[39;00m \u001b[38;5;167;01mValueError\u001b[39;00m(\n\u001b[1;32m   3507\u001b[0m         \u001b[38;5;124m\"\u001b[39m\u001b[38;5;124mThis model has not yet been built. \u001b[39m\u001b[38;5;124m\"\u001b[39m\n\u001b[1;32m   3508\u001b[0m         \u001b[38;5;124m\"\u001b[39m\u001b[38;5;124mBuild the model first by calling `build()` or by calling \u001b[39m\u001b[38;5;124m\"\u001b[39m\n\u001b[1;32m   3509\u001b[0m         \u001b[38;5;124m\"\u001b[39m\u001b[38;5;124mthe model on a batch of data.\u001b[39m\u001b[38;5;124m\"\u001b[39m\n\u001b[1;32m   3510\u001b[0m     )\n\u001b[1;32m   3511\u001b[0m layer_utils\u001b[38;5;241m.\u001b[39mprint_summary(\n\u001b[1;32m   3512\u001b[0m     \u001b[38;5;28mself\u001b[39m,\n\u001b[1;32m   3513\u001b[0m     line_length\u001b[38;5;241m=\u001b[39mline_length,\n\u001b[0;32m   (...)\u001b[0m\n\u001b[1;32m   3518\u001b[0m     layer_range\u001b[38;5;241m=\u001b[39mlayer_range,\n\u001b[1;32m   3519\u001b[0m )\n",
      "\u001b[0;31mValueError\u001b[0m: This model has not yet been built. Build the model first by calling `build()` or by calling the model on a batch of data."
     ]
    }
   ],
   "source": [
    "model.summary()"
   ]
  },
  {
   "cell_type": "code",
   "execution_count": null,
   "metadata": {},
   "outputs": [
    {
     "data": {
      "text/html": [
       "<img src=\"https://drek4537l1klr.cloudfront.net/chollet2/Figures/01-09.png\"/>"
      ],
      "text/plain": [
       "<IPython.core.display.Image object>"
      ]
     },
     "execution_count": 29,
     "metadata": {},
     "output_type": "execute_result"
    }
   ],
   "source": [
    "#Voordat je gaat compileren bestudeer onderstaand plaatje.\n",
    "import IPython\n",
    "IPython.display.Image(url='https://drek4537l1klr.cloudfront.net/chollet2/Figures/01-09.png')"
   ]
  },
  {
   "cell_type": "code",
   "execution_count": null,
   "metadata": {
    "id": "0lA5D3MUWmMu"
   },
   "outputs": [],
   "source": [
    "#compileer het model met onderstaande parameters\n",
    "model.compile(\n",
    "    optimizer = 'adam',\n",
    "    loss = 'categorical_crossentropy',\n",
    "    metrics = ['accuracy']\n",
    ")"
   ]
  },
  {
   "cell_type": "code",
   "execution_count": null,
   "metadata": {
    "colab": {
     "base_uri": "https://localhost:8080/"
    },
    "id": "070KEC9JV7hp",
    "outputId": "4fd28f8d-4297-4911-8db8-d546995c315c"
   },
   "outputs": [
    {
     "name": "stdout",
     "output_type": "stream",
     "text": [
      "Epoch 1/10\n",
      "469/469 [==============================] - 2s 2ms/step - loss: 0.6720 - accuracy: 0.8048 - val_loss: 0.3102 - val_accuracy: 0.9143\n",
      "Epoch 2/10\n",
      "469/469 [==============================] - 1s 1ms/step - loss: 0.2886 - accuracy: 0.9176 - val_loss: 0.2689 - val_accuracy: 0.9242\n",
      "Epoch 3/10\n",
      "469/469 [==============================] - 1s 1ms/step - loss: 0.2518 - accuracy: 0.9279 - val_loss: 0.2428 - val_accuracy: 0.9295\n",
      "Epoch 4/10\n",
      "469/469 [==============================] - 1s 1ms/step - loss: 0.2236 - accuracy: 0.9354 - val_loss: 0.2190 - val_accuracy: 0.9371\n",
      "Epoch 5/10\n",
      "469/469 [==============================] - 1s 1ms/step - loss: 0.2027 - accuracy: 0.9425 - val_loss: 0.2012 - val_accuracy: 0.9444\n",
      "Epoch 6/10\n",
      "469/469 [==============================] - 1s 1ms/step - loss: 0.1893 - accuracy: 0.9465 - val_loss: 0.1923 - val_accuracy: 0.9464\n",
      "Epoch 7/10\n",
      "469/469 [==============================] - 1s 1ms/step - loss: 0.1801 - accuracy: 0.9485 - val_loss: 0.1871 - val_accuracy: 0.9477\n",
      "Epoch 8/10\n",
      "469/469 [==============================] - 1s 1ms/step - loss: 0.1722 - accuracy: 0.9505 - val_loss: 0.1830 - val_accuracy: 0.9487\n",
      "Epoch 9/10\n",
      "469/469 [==============================] - 1s 1ms/step - loss: 0.1658 - accuracy: 0.9516 - val_loss: 0.1764 - val_accuracy: 0.9505\n",
      "Epoch 10/10\n",
      "469/469 [==============================] - 1s 2ms/step - loss: 0.1596 - accuracy: 0.9536 - val_loss: 0.1734 - val_accuracy: 0.9488\n"
     ]
    }
   ],
   "source": [
    "history = model.fit(\n",
    "    train_data_floats,\n",
    "    train_labels_encoded,\n",
    "    epochs = 10,\n",
    "    batch_size = 128,\n",
    "    validation_data = (test_data_floats, test_labels_encoded)\n",
    ")"
   ]
  },
  {
   "cell_type": "code",
   "execution_count": null,
   "metadata": {
    "colab": {
     "base_uri": "https://localhost:8080/"
    },
    "id": "BXaDuhDDWi20",
    "outputId": "9ddcbfa4-db1b-4325-b1e8-768400c48155"
   },
   "outputs": [
    {
     "name": "stdout",
     "output_type": "stream",
     "text": [
      "313/313 [==============================] - 0s 482us/step - loss: 0.1734 - accuracy: 0.9488\n",
      "0.9488000273704529\n"
     ]
    }
   ],
   "source": [
    "test_loss, test_acc =model.evaluate(test_data_floats, test_labels_encoded)\n",
    "\n",
    "print(test_acc)"
   ]
  },
  {
   "cell_type": "code",
   "execution_count": null,
   "metadata": {
    "colab": {
     "base_uri": "https://localhost:8080/",
     "height": 269
    },
    "id": "bkaruqzhhJG1",
    "outputId": "1709f86a-0dfc-4924-bb3d-d03b7baa8b7b"
   },
   "outputs": [
    {
     "data": {
      "image/png": "[encoded data removed]",
      "text/plain": [
       "<Figure size 640x480 with 1 Axes>"
      ]
     },
     "metadata": {},
     "output_type": "display_data"
    }
   ],
   "source": [
    "plt.plot(history.history['accuracy'])\n",
    "plt.plot(history.history['val_accuracy'],'r')\n",
    "plt.ylim(0.75,1.0)\n",
    "plt.show()"
   ]
  },
  {
   "cell_type": "markdown",
   "metadata": {},
   "source": [
    "## Oefening 2. Verander de parameters van het model van opdracht 1 en kijk of je de accuracy kunt verbeteren."
   ]
  },
  {
   "cell_type": "code",
   "execution_count": null,
   "metadata": {},
   "outputs": [
    {
     "name": "stdout",
     "output_type": "stream",
     "text": [
      "Epoch 1/20\n",
      "235/235 [==============================] - 2s 6ms/step - loss: 0.5130 - accuracy: 0.8400 - val_loss: 0.1852 - val_accuracy: 0.9469\n",
      "Epoch 2/20\n",
      "235/235 [==============================] - 2s 7ms/step - loss: 0.1507 - accuracy: 0.9566 - val_loss: 0.1273 - val_accuracy: 0.9618\n",
      "Epoch 3/20\n",
      "235/235 [==============================] - 1s 6ms/step - loss: 0.0965 - accuracy: 0.9715 - val_loss: 0.1222 - val_accuracy: 0.9653\n",
      "Epoch 4/20\n",
      "235/235 [==============================] - 2s 10ms/step - loss: 0.0784 - accuracy: 0.9765 - val_loss: 0.1148 - val_accuracy: 0.9686\n",
      "Epoch 5/20\n",
      "235/235 [==============================] - 3s 11ms/step - loss: 0.0660 - accuracy: 0.9806 - val_loss: 0.1069 - val_accuracy: 0.9719\n",
      "Epoch 6/20\n",
      "235/235 [==============================] - 3s 12ms/step - loss: 0.0508 - accuracy: 0.9845 - val_loss: 0.1220 - val_accuracy: 0.9711\n",
      "Epoch 7/20\n",
      "235/235 [==============================] - 2s 10ms/step - loss: 0.0496 - accuracy: 0.9852 - val_loss: 0.1029 - val_accuracy: 0.9735\n",
      "Epoch 8/20\n",
      "235/235 [==============================] - 2s 11ms/step - loss: 0.0423 - accuracy: 0.9874 - val_loss: 0.1101 - val_accuracy: 0.9732\n",
      "Epoch 9/20\n",
      "235/235 [==============================] - 3s 14ms/step - loss: 0.0404 - accuracy: 0.9878 - val_loss: 0.1113 - val_accuracy: 0.9743\n",
      "Epoch 10/20\n",
      "235/235 [==============================] - 3s 11ms/step - loss: 0.0393 - accuracy: 0.9881 - val_loss: 0.1180 - val_accuracy: 0.9713\n",
      "Epoch 11/20\n",
      "235/235 [==============================] - 3s 13ms/step - loss: 0.0338 - accuracy: 0.9895 - val_loss: 0.1219 - val_accuracy: 0.9748\n",
      "Epoch 12/20\n",
      "235/235 [==============================] - 3s 11ms/step - loss: 0.0309 - accuracy: 0.9907 - val_loss: 0.1292 - val_accuracy: 0.9738\n",
      "Epoch 13/20\n",
      "235/235 [==============================] - 3s 11ms/step - loss: 0.0264 - accuracy: 0.9922 - val_loss: 0.1333 - val_accuracy: 0.9727\n",
      "Epoch 14/20\n",
      "235/235 [==============================] - 3s 12ms/step - loss: 0.0246 - accuracy: 0.9921 - val_loss: 0.1269 - val_accuracy: 0.9745\n",
      "Epoch 15/20\n",
      "235/235 [==============================] - 3s 11ms/step - loss: 0.0262 - accuracy: 0.9925 - val_loss: 0.1399 - val_accuracy: 0.9736\n",
      "Epoch 16/20\n",
      "235/235 [==============================] - 3s 12ms/step - loss: 0.0253 - accuracy: 0.9921 - val_loss: 0.1273 - val_accuracy: 0.9745\n",
      "Epoch 17/20\n",
      "235/235 [==============================] - 3s 11ms/step - loss: 0.0239 - accuracy: 0.9926 - val_loss: 0.1498 - val_accuracy: 0.9686\n",
      "Epoch 18/20\n",
      "235/235 [==============================] - 3s 11ms/step - loss: 0.0227 - accuracy: 0.9928 - val_loss: 0.1459 - val_accuracy: 0.9746\n",
      "Epoch 19/20\n",
      "235/235 [==============================] - 3s 12ms/step - loss: 0.0240 - accuracy: 0.9926 - val_loss: 0.1419 - val_accuracy: 0.9730\n",
      "Epoch 20/20\n",
      "235/235 [==============================] - 3s 11ms/step - loss: 0.0169 - accuracy: 0.9950 - val_loss: 0.1308 - val_accuracy: 0.9780\n",
      "313/313 [==============================] - 0s 1ms/step - loss: 0.1308 - accuracy: 0.9780\n",
      "Accuracy of NN: 0.9779999852180481\n"
     ]
    }
   ],
   "source": [
    "from keras.optimizers.legacy import Adam\n",
    "\n",
    "# New model\n",
    "model = models.Sequential()\n",
    "model.add(layers.Dense(28*28,activation='relu', input_shape=(28*28,)))\n",
    "model.add(layers.Dense(16,activation='relu'))\n",
    "model.add(layers.Dense(16,activation='relu'))\n",
    "model.add(layers.Dense(10,activation='softmax'))\n",
    "\n",
    "# Compile the model\n",
    "model.compile(\n",
    "    Adam(learning_rate=0.01),\n",
    "    loss = 'categorical_crossentropy',\n",
    "    metrics = ['accuracy']\n",
    ")\n",
    "\n",
    "# Train the model\n",
    "history = model.fit(\n",
    "    train_data_floats,\n",
    "    train_labels_encoded,\n",
    "    epochs = 20,\n",
    "    batch_size = 256,\n",
    "    validation_data = (test_data_floats, test_labels_encoded)\n",
    ")\n",
    "\n",
    "# Evaluate the model\n",
    "test_loss, test_acc = model.evaluate(test_data_floats, test_labels_encoded)\n",
    "print(\"Accuracy of NN:\", test_acc)"
   ]
  },
  {
   "cell_type": "code",
   "execution_count": null,
   "metadata": {},
   "outputs": [
    {
     "data": {
      "image/png": "[encoded data removed]",
      "text/plain": [
       "<Figure size 640x480 with 1 Axes>"
      ]
     },
     "metadata": {},
     "output_type": "display_data"
    }
   ],
   "source": [
    "# Plot the accuracy\n",
    "plt.plot(history.history['accuracy'])\n",
    "plt.plot(history.history['val_accuracy'],'r')\n",
    "plt.ylim(0.75,1.0)\n",
    "plt.show()"
   ]
  },
  {
   "cell_type": "markdown",
   "metadata": {},
   "source": [
    "Ik heb het aantal epochs en batch size omhoog gedaan van 10 naar 20 epochs en van 128 naar 256 batchsize. Ook heb ik een input layer toegevoegd met 28*28 neuronen, dit is gelijk aan de input pixels. \n",
    "Dit heeft de accuracy met zo'n ±3% omhoog gebracht."
   ]
  },
  {
   "cell_type": "markdown",
   "metadata": {},
   "source": [
    "### To do: Upload je notebook naar Gitlab en werk je logbook / bloom tabel bij."
   ]
  },
  {
   "cell_type": "code",
   "execution_count": null,
   "metadata": {},
   "outputs": [],
   "source": []
  }
 ],
 "metadata": {
  "accelerator": "GPU",
  "colab": {
   "name": "2021_02_11 MNIST NN uitwerking.ipynb",
   "provenance": []
  },
  "kernelspec": {
   "display_name": "Python 3 (ipykernel)",
   "language": "python",
   "name": "python3"
  },
  "language_info": {
   "codemirror_mode": {
    "name": "ipython",
    "version": 3
   },
   "file_extension": ".py",
   "mimetype": "text/x-python",
   "name": "python",
   "nbconvert_exporter": "python",
   "pygments_lexer": "ipython3",
   "version": "3.11.5"
  }
 },
 "nbformat": 4,
 "nbformat_minor": 1
}
