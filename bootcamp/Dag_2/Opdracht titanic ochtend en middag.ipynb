{
 "cells": [
  {
   "cell_type": "markdown",
   "metadata": {},
   "source": [
    "## Theorie"
   ]
  },
  {
   "cell_type": "markdown",
   "metadata": {},
   "source": [
    "### Data\n",
    "- **Kwalitatief/Categorisch**\n",
    "    - Nominaal\n",
    "        - Categorieën\n",
    "        - Geen volgorde/ranking\n",
    "    - Ordinaal    \n",
    "        - Geordende categorieën\n",
    "        - Wel volgorde/ranking\n",
    "    - Binear\n",
    "        - Ja/nee    \n",
    "- **Kwantitatief/Numeriek**\n",
    "    - Interval\n",
    "        - Waarden\n",
    "        - *Geen* betekenisvol nulpunt -> nulpunt is arbitrair\n",
    "    - Ratio\n",
    "        - Waarden\n",
    "        - *Wel* betekenisvol nulpunt -> nulpunt staat gelijk aan absolute afwezigheid van de gemeten variable\n",
    "    \n",
    "-  **Overig**\n",
    "    - Spatieel\n",
    "        - Gerelateerd aan plaats\n",
    "        - Waarden in meer dimensies\n",
    "    - Temporeel\n",
    "        - Gerelateerd aan tijd\n",
    "        - Waarden over de tijd\n",
    "\n",
    "\n",
    "### Welk sort data?\n",
    "\n",
    "1. Temperatuur in Celsius - Interval\n",
    "2. Groepsgrootte - Ratio\n",
    "3. Gender - Binair / Nominaal\n",
    "4. Spraak - Temporeel\n",
    "5. Tentamenresultaat als gezakt/geslaagd - Binair\n",
    "6. 3D-beelden - Spatieel\n",
    "7. Tentamenresultaat als onv/vold/goed - Ordinaal\n",
    "8. Automerk - Nominaal\n",
    "9. IQ - Interval \n",
    "10. Snelheid - Ratio (combinatie van Spatieel & Temporeel)\n",
    "11. Video’s - Temporeel\n",
    "12. Aantal sterren bij review - Ordiinaal / Interval\n",
    "13. Tentamenresultaat als 1-10 - Ordinaal / Interval\n",
    "\n",
    "#### Data omzetten naar getallen\n",
    "**Ordinaal:**\n",
    "'Small', 'Medium', 'Large' -> Indices: 0, 1, 2\n",
    "\n",
    "` LabelEncoder, OrdinalEncoder `\n",
    "\n",
    "**Nominaal:**   \n",
    "'Rood', 'Blauw', 'Groen' -> One-hot-encoding: 001, 010, 100\n",
    "Rood = 100, Blauw = 010, Groen = 001\n",
    "\n",
    "` OneHotEncoder, BinaryEncoder`\n",
    "\n",
    "\n",
    "#### Ontbrekende waarden\n",
    "Nooit verwijderen!\n",
    "\n",
    "- Als het een *interval* of *ratio* waarden is, vervang het door het *gemiddelde* (mean).\n",
    "- Als het een *ordinale* waarden is, dan vervan je het door de *mediaan*.\n",
    "- En als het een *nominale* waarden is, dan door de *modus*."
   ]
  },
  {
   "cell_type": "markdown",
   "metadata": {},
   "source": [
    "##### Supervised vs. Unsupervised\n",
    "| Supervised    | Unsupervised |\n",
    "| :--------: | :-------: |\n",
    "|  Labels en Target | Geen labels   |\n",
    "| Gebruik van trainingset en testset| Alle data als input gebruiken     |\n",
    "| Label of target voorspellen | Patroongerkenning/cullusteren    |\n",
    "\n",
    "##### Feature matrix (X)\n",
    "De feature matrix bevat alle inputvariabelen of features die worden gebruikt om voorspellingen te doen. Elke rij in de feature matrix vertegenwoordigt één datapunt, en elke kolom vertegenwoordigt een individuele feature. Elke cel in de matrix bevat de waarde van een specifieke feature voor een specifiek datapunt.\n",
    "\n",
    "##### Target vector (y)\n",
    "De target vector bevat de uitvoer of het doel dat we proberen te voorspellen met behulp van de machine learning-model. Het is een enkele kolomvector waar elke waarde overeenkomt met het doel voor het overeenkomstige datapunt in de feature matrix.\n",
    "\n",
    "##### Supervised: Classificatie\n",
    "Classificatie is een vorm van supervised learning waarbij het doel is om een input aan een van de categorieën of klassen toe te wijzen. Met andere woorden, het model probeert een classificatie te maken of een voorspelling te doen over welke klasse of categorie een bepaalde input behoort tot. De outputvariabele in een classificatieprobleem is discreet en bestaat uit een set van discrete klassen of categorieën.\n",
    "\n",
    "- K-Nearest Neighbors (KNN)\n",
    "    - Vergelijkt datapunt met andere datapunten\n",
    "    - Selecteer `k` datapunten dichtst bij nieuwe datapunt\n",
    "    - Label nieuwe punt is *gemiddelde* hiervan\n",
    "\n",
    "##### Supervised: Regressie\n",
    "Regressie is ook een vorm van supervised learning, maar in plaats van het voorspellen van de klasse of categorie van een input, probeert het model een continu getal te voorspellen. Met andere woorden, regressieproblemen gaan over het voorspellen van een numerieke waarde op basis van de inputvariabelen. De outputvariabele in een regressieprobleem is continu en kan elke numerieke waarde aannemen binnen een bepaald bereik.\n",
    "\n",
    "##### Lineari regressie\n",
    "Lineaire regressie wordt gebruikt voor regressieproblemen, waarbij het doel is om een continue outputvariabele te voorspellen op basis van één of meerdere inputvariabelen.\n",
    "Het model probeert een lineaire relatie te modelleren tussen de inputvariabelen en de outputvariabele, waarbij het probeert de beste lijn te vinden die de geobserveerde data punten het beste past.\n",
    "\n",
    "##### Logistische regressie\n",
    "Logistische regressie wordt gebruikt voor classificatieproblemen, waarbij het doel is om een input toe te wijzen aan een van de twee of meer discrete klassen of categorieën.\n",
    "Het model maakt gebruik van de logistische functie (sigmoid-functie) om de kans te schatten dat een bepaalde input behoort tot een bepaalde klasse."
   ]
  },
  {
   "cell_type": "markdown",
   "metadata": {},
   "source": [
    "## Ochtend"
   ]
  },
  {
   "cell_type": "markdown",
   "metadata": {},
   "source": [
    "Load libraries"
   ]
  },
  {
   "cell_type": "code",
   "execution_count": 1,
   "metadata": {},
   "outputs": [],
   "source": [
    "import numpy as np\n",
    "import pandas as pd\n",
    "from sklearn.model_selection import train_test_split\n",
    "from sklearn.linear_model import LogisticRegression\n",
    "from sklearn.linear_model import LinearRegression\n",
    "from sklearn.neighbors import KNeighborsClassifier\n",
    "from sklearn.metrics import accuracy_score"
   ]
  },
  {
   "cell_type": "markdown",
   "metadata": {},
   "source": [
    "Load en bekijk data\n",
    "\n",
    "Met de `head()` functie kan je het *hoofd* van de data laten zien. Automatisch is dit 5 rows, maar je kan zelf de hoeveelheid meegeven als parameter"
   ]
  },
  {
   "cell_type": "code",
   "execution_count": 2,
   "metadata": {},
   "outputs": [
    {
     "data": {
      "text/html": [
       "<div>\n",
       "<style scoped>\n",
       "    .dataframe tbody tr th:only-of-type {\n",
       "        vertical-align: middle;\n",
       "    }\n",
       "\n",
       "    .dataframe tbody tr th {\n",
       "        vertical-align: top;\n",
       "    }\n",
       "\n",
       "    .dataframe thead th {\n",
       "        text-align: right;\n",
       "    }\n",
       "</style>\n",
       "<table border=\"1\" class=\"dataframe\">\n",
       "  <thead>\n",
       "    <tr style=\"text-align: right;\">\n",
       "      <th></th>\n",
       "      <th>PassengerId</th>\n",
       "      <th>Survived</th>\n",
       "      <th>Pclass</th>\n",
       "      <th>Name</th>\n",
       "      <th>Sex</th>\n",
       "      <th>Age</th>\n",
       "      <th>SibSp</th>\n",
       "      <th>Parch</th>\n",
       "      <th>Ticket</th>\n",
       "      <th>Fare</th>\n",
       "      <th>Cabin</th>\n",
       "      <th>Embarked</th>\n",
       "    </tr>\n",
       "  </thead>\n",
       "  <tbody>\n",
       "    <tr>\n",
       "      <th>0</th>\n",
       "      <td>1</td>\n",
       "      <td>0</td>\n",
       "      <td>3</td>\n",
       "      <td>Braund, Mr. Owen Harris</td>\n",
       "      <td>male</td>\n",
       "      <td>22.0</td>\n",
       "      <td>1</td>\n",
       "      <td>0</td>\n",
       "      <td>A/5 21171</td>\n",
       "      <td>7.2500</td>\n",
       "      <td>NaN</td>\n",
       "      <td>S</td>\n",
       "    </tr>\n",
       "    <tr>\n",
       "      <th>1</th>\n",
       "      <td>2</td>\n",
       "      <td>1</td>\n",
       "      <td>1</td>\n",
       "      <td>Cumings, Mrs. John Bradley (Florence Briggs Th...</td>\n",
       "      <td>female</td>\n",
       "      <td>38.0</td>\n",
       "      <td>1</td>\n",
       "      <td>0</td>\n",
       "      <td>PC 17599</td>\n",
       "      <td>71.2833</td>\n",
       "      <td>C85</td>\n",
       "      <td>C</td>\n",
       "    </tr>\n",
       "    <tr>\n",
       "      <th>2</th>\n",
       "      <td>3</td>\n",
       "      <td>1</td>\n",
       "      <td>3</td>\n",
       "      <td>Heikkinen, Miss. Laina</td>\n",
       "      <td>female</td>\n",
       "      <td>26.0</td>\n",
       "      <td>0</td>\n",
       "      <td>0</td>\n",
       "      <td>STON/O2. 3101282</td>\n",
       "      <td>7.9250</td>\n",
       "      <td>NaN</td>\n",
       "      <td>S</td>\n",
       "    </tr>\n",
       "    <tr>\n",
       "      <th>3</th>\n",
       "      <td>4</td>\n",
       "      <td>1</td>\n",
       "      <td>1</td>\n",
       "      <td>Futrelle, Mrs. Jacques Heath (Lily May Peel)</td>\n",
       "      <td>female</td>\n",
       "      <td>35.0</td>\n",
       "      <td>1</td>\n",
       "      <td>0</td>\n",
       "      <td>113803</td>\n",
       "      <td>53.1000</td>\n",
       "      <td>C123</td>\n",
       "      <td>S</td>\n",
       "    </tr>\n",
       "    <tr>\n",
       "      <th>4</th>\n",
       "      <td>5</td>\n",
       "      <td>0</td>\n",
       "      <td>3</td>\n",
       "      <td>Allen, Mr. William Henry</td>\n",
       "      <td>male</td>\n",
       "      <td>35.0</td>\n",
       "      <td>0</td>\n",
       "      <td>0</td>\n",
       "      <td>373450</td>\n",
       "      <td>8.0500</td>\n",
       "      <td>NaN</td>\n",
       "      <td>S</td>\n",
       "    </tr>\n",
       "  </tbody>\n",
       "</table>\n",
       "</div>"
      ],
      "text/plain": [
       "   PassengerId  Survived  Pclass  \\\n",
       "0            1         0       3   \n",
       "1            2         1       1   \n",
       "2            3         1       3   \n",
       "3            4         1       1   \n",
       "4            5         0       3   \n",
       "\n",
       "                                                Name     Sex   Age  SibSp  \\\n",
       "0                            Braund, Mr. Owen Harris    male  22.0      1   \n",
       "1  Cumings, Mrs. John Bradley (Florence Briggs Th...  female  38.0      1   \n",
       "2                             Heikkinen, Miss. Laina  female  26.0      0   \n",
       "3       Futrelle, Mrs. Jacques Heath (Lily May Peel)  female  35.0      1   \n",
       "4                           Allen, Mr. William Henry    male  35.0      0   \n",
       "\n",
       "   Parch            Ticket     Fare Cabin Embarked  \n",
       "0      0         A/5 21171   7.2500   NaN        S  \n",
       "1      0          PC 17599  71.2833   C85        C  \n",
       "2      0  STON/O2. 3101282   7.9250   NaN        S  \n",
       "3      0            113803  53.1000  C123        S  \n",
       "4      0            373450   8.0500   NaN        S  "
      ]
     },
     "execution_count": 2,
     "metadata": {},
     "output_type": "execute_result"
    }
   ],
   "source": [
    "# Load the CSV file\n",
    "titanic = pd.read_csv('titanic_data.csv')\n",
    "titanic.head()"
   ]
  },
  {
   "cell_type": "markdown",
   "metadata": {},
   "source": [
    "Bekijk de datatypes\n",
    "\n",
    "`Object` data typen zijn meestal strings."
   ]
  },
  {
   "cell_type": "code",
   "execution_count": 3,
   "metadata": {},
   "outputs": [
    {
     "name": "stdout",
     "output_type": "stream",
     "text": [
      "PassengerId      int64\n",
      "Survived         int64\n",
      "Pclass           int64\n",
      "Name            object\n",
      "Sex             object\n",
      "Age            float64\n",
      "SibSp            int64\n",
      "Parch            int64\n",
      "Ticket          object\n",
      "Fare           float64\n",
      "Cabin           object\n",
      "Embarked        object\n",
      "dtype: object\n"
     ]
    }
   ],
   "source": [
    "# Print the datatypes\n",
    "print(titanic.dtypes)"
   ]
  },
  {
   "cell_type": "markdown",
   "metadata": {},
   "source": [
    "Wat is de minimum, maximum en gemiddelde leeftijd van de passagiers?\n",
    "\n",
    "Hier pakken we van de dataframe `titanic` de row `Age` om vervolgens met `min()`, `max()` en `mean()` de gewilde waarden uit te rekenen"
   ]
  },
  {
   "cell_type": "code",
   "execution_count": 4,
   "metadata": {},
   "outputs": [
    {
     "name": "stdout",
     "output_type": "stream",
     "text": [
      "Minimum age:  0.42\n",
      "Maximum age:  80.0\n",
      "Avarage age:  29.69911764705882\n"
     ]
    }
   ],
   "source": [
    "# Calculate the minimum age\n",
    "min_age = titanic['Age'].min()\n",
    "\n",
    "# Calculate maximum age\n",
    "max_age = titanic['Age'].max()\n",
    "\n",
    "# Calculate avarage age\n",
    "avg_age = titanic['Age'].mean()\n",
    "\n",
    "# Print results\n",
    "print(\"Minimum age: \", min_age)\n",
    "print(\"Maximum age: \", max_age)\n",
    "print(\"Avarage age: \", avg_age)"
   ]
  },
  {
   "cell_type": "markdown",
   "metadata": {},
   "source": [
    "Wat is het percentage van mensen die de ramp niet hebben overleefd?\n",
    "\n",
    "Met de `mean()` methode op de `Survived` kolom krijgen we het percentage van de mensen die het overleefd hebben."
   ]
  },
  {
   "cell_type": "code",
   "execution_count": 5,
   "metadata": {},
   "outputs": [
    {
     "name": "stdout",
     "output_type": "stream",
     "text": [
      "Percentage of poeple who survived: 38.38383838383838 %\n"
     ]
    }
   ],
   "source": [
    "# Calculate percentage of people who survived\n",
    "percentage_survived = titanic['Survived'].mean() * 100\n",
    "\n",
    "# Print results\n",
    "print(\"Percentage of poeple who survived:\", percentage_survived, \"%\")\n"
   ]
  },
  {
   "cell_type": "markdown",
   "metadata": {},
   "source": [
    "Wat is de minimum, gemiddelde, en maximum prijs (Fare) in de verschillende klassen (Pclass)?\n",
    "\n",
    "Eerst bereken ik per prijs klasse de minimun, gemiddelde en maximum prijs. Dit doe ik doormiddel van `groupby` te gebruiken op `Pclass`. Daarna pak ik de `Fare` kolom en bereken ik daar alle waarden van. Uiteindelijk stop ik alles in een nieuwe DataFrame `df_summary` en print ik die."
   ]
  },
  {
   "cell_type": "code",
   "execution_count": 6,
   "metadata": {},
   "outputs": [
    {
     "name": "stdout",
     "output_type": "stream",
     "text": [
      "        Min Fare   Avg Fare  Max Fare\n",
      "Pclass                               \n",
      "1            0.0  84.154687  512.3292\n",
      "2            0.0  20.662183   73.5000\n",
      "3            0.0  13.675550   69.5500\n"
     ]
    }
   ],
   "source": [
    "# Calculate the minimum Fare grouped by Pclass\n",
    "min_price_pclass = titanic.groupby(by=['Pclass'])['Fare'].min()\n",
    "\n",
    "# Calculate the avarage Fare grouped by Pclass\n",
    "avg_price_pclass = titanic.groupby(by=['Pclass'])['Fare'].mean()\n",
    "\n",
    "# Calculate the maximum Fare grouped by Pclass\n",
    "max_price_pclass = titanic.groupby(by=['Pclass'])['Fare'].max()\n",
    "\n",
    "## Create DataFram with the results\n",
    "df_summary = pd.DataFrame({'Min Fare': min_price_pclass,\n",
    "                           'Avg Fare': avg_price_pclass,\n",
    "                           'Max Fare': max_price_pclass})\n",
    "\n",
    "# Print results\n",
    "print(df_summary)"
   ]
  },
  {
   "cell_type": "markdown",
   "metadata": {},
   "source": [
    "Welke data is categorisch?\n",
    "\n",
    "Alle data die categorisch is, is data met het datatype `Object` en `int64`. In dit geval zijn alle strings nominaal en dus catergorisch. de `int64` datatype zijn booleans(Survived), nomiaal(Id) of ordinaal(Pclass). \n",
    "\n",
    "Deze dataypen selecteren we doormiddel van de `select_dtypes` te gebruiken op de dataypen `object` en `int64`"
   ]
  },
  {
   "cell_type": "code",
   "execution_count": 7,
   "metadata": {},
   "outputs": [
    {
     "name": "stdout",
     "output_type": "stream",
     "text": [
      "Index(['PassengerId', 'Survived', 'Pclass', 'Name', 'Sex', 'SibSp', 'Parch',\n",
      "       'Ticket', 'Cabin', 'Embarked'],\n",
      "      dtype='object')\n"
     ]
    }
   ],
   "source": [
    "# Select the data with categorical datatype\n",
    "categorical_data = titanic.select_dtypes(include=['object', 'int64']).columns\n",
    "\n",
    "# Print result\n",
    "print(categorical_data)"
   ]
  },
  {
   "cell_type": "markdown",
   "metadata": {},
   "source": [
    "Verijder de kolommen 'Name', 'Cabin' en 'Ticket'\n",
    "\n",
    "Ik verwijder hier de kolommen met de `drop` methode en daarin selecteer ik `Name`, `Cabin` en `Ticket`. Ik heb hier gebruik gemaakt van `inplace=True` omdat ik de huide DataFrame wilde bijwerken zonder een nieuwe instantie te maken. Aan gezien er normaal en niew DataFrame gemaakt word."
   ]
  },
  {
   "cell_type": "code",
   "execution_count": 8,
   "metadata": {},
   "outputs": [
    {
     "data": {
      "text/html": [
       "<div>\n",
       "<style scoped>\n",
       "    .dataframe tbody tr th:only-of-type {\n",
       "        vertical-align: middle;\n",
       "    }\n",
       "\n",
       "    .dataframe tbody tr th {\n",
       "        vertical-align: top;\n",
       "    }\n",
       "\n",
       "    .dataframe thead th {\n",
       "        text-align: right;\n",
       "    }\n",
       "</style>\n",
       "<table border=\"1\" class=\"dataframe\">\n",
       "  <thead>\n",
       "    <tr style=\"text-align: right;\">\n",
       "      <th></th>\n",
       "      <th>PassengerId</th>\n",
       "      <th>Survived</th>\n",
       "      <th>Pclass</th>\n",
       "      <th>Sex</th>\n",
       "      <th>Age</th>\n",
       "      <th>SibSp</th>\n",
       "      <th>Parch</th>\n",
       "      <th>Fare</th>\n",
       "      <th>Embarked</th>\n",
       "    </tr>\n",
       "  </thead>\n",
       "  <tbody>\n",
       "    <tr>\n",
       "      <th>0</th>\n",
       "      <td>1</td>\n",
       "      <td>0</td>\n",
       "      <td>3</td>\n",
       "      <td>male</td>\n",
       "      <td>22.0</td>\n",
       "      <td>1</td>\n",
       "      <td>0</td>\n",
       "      <td>7.2500</td>\n",
       "      <td>S</td>\n",
       "    </tr>\n",
       "    <tr>\n",
       "      <th>1</th>\n",
       "      <td>2</td>\n",
       "      <td>1</td>\n",
       "      <td>1</td>\n",
       "      <td>female</td>\n",
       "      <td>38.0</td>\n",
       "      <td>1</td>\n",
       "      <td>0</td>\n",
       "      <td>71.2833</td>\n",
       "      <td>C</td>\n",
       "    </tr>\n",
       "    <tr>\n",
       "      <th>2</th>\n",
       "      <td>3</td>\n",
       "      <td>1</td>\n",
       "      <td>3</td>\n",
       "      <td>female</td>\n",
       "      <td>26.0</td>\n",
       "      <td>0</td>\n",
       "      <td>0</td>\n",
       "      <td>7.9250</td>\n",
       "      <td>S</td>\n",
       "    </tr>\n",
       "    <tr>\n",
       "      <th>3</th>\n",
       "      <td>4</td>\n",
       "      <td>1</td>\n",
       "      <td>1</td>\n",
       "      <td>female</td>\n",
       "      <td>35.0</td>\n",
       "      <td>1</td>\n",
       "      <td>0</td>\n",
       "      <td>53.1000</td>\n",
       "      <td>S</td>\n",
       "    </tr>\n",
       "    <tr>\n",
       "      <th>4</th>\n",
       "      <td>5</td>\n",
       "      <td>0</td>\n",
       "      <td>3</td>\n",
       "      <td>male</td>\n",
       "      <td>35.0</td>\n",
       "      <td>0</td>\n",
       "      <td>0</td>\n",
       "      <td>8.0500</td>\n",
       "      <td>S</td>\n",
       "    </tr>\n",
       "  </tbody>\n",
       "</table>\n",
       "</div>"
      ],
      "text/plain": [
       "   PassengerId  Survived  Pclass     Sex   Age  SibSp  Parch     Fare Embarked\n",
       "0            1         0       3    male  22.0      1      0   7.2500        S\n",
       "1            2         1       1  female  38.0      1      0  71.2833        C\n",
       "2            3         1       3  female  26.0      0      0   7.9250        S\n",
       "3            4         1       1  female  35.0      1      0  53.1000        S\n",
       "4            5         0       3    male  35.0      0      0   8.0500        S"
      ]
     },
     "execution_count": 8,
     "metadata": {},
     "output_type": "execute_result"
    }
   ],
   "source": [
    "# Delete collumns\n",
    "titanic.drop(columns=['Name', 'Cabin', 'Ticket'], inplace=True)\n",
    "\n",
    "# Print new data\n",
    "titanic.head()"
   ]
  },
  {
   "cell_type": "markdown",
   "metadata": {},
   "source": [
    "Codeer categorische features met indices (getallen)\n",
    "\n",
    "Om alle categorische featuers om te zetten in getallen heb ik gebruik gemaakt van de `OrdinalEncoder()`. Eerst maak ik een selectie van features die categorisch zijn in `categorical_features` en daarna pas ik de `OrdinalEncoder()` toe op de `titanic` DataFrame.\n",
    "\n",
    "Toch zaten er wat NaN's tussen dus die moest ik er ook uit halen. Dit heb ik gedaan door de `fillna()` methode te gebruiken, en dat heb ik gevuld met de `mean()` van `Embarked`. Ik gebruik de mean om te vullen omdat ik de oorspronkelijke verdeling van de gegevens wilde behouden."
   ]
  },
  {
   "cell_type": "code",
   "execution_count": 9,
   "metadata": {},
   "outputs": [
    {
     "data": {
      "text/html": [
       "<div>\n",
       "<style scoped>\n",
       "    .dataframe tbody tr th:only-of-type {\n",
       "        vertical-align: middle;\n",
       "    }\n",
       "\n",
       "    .dataframe tbody tr th {\n",
       "        vertical-align: top;\n",
       "    }\n",
       "\n",
       "    .dataframe thead th {\n",
       "        text-align: right;\n",
       "    }\n",
       "</style>\n",
       "<table border=\"1\" class=\"dataframe\">\n",
       "  <thead>\n",
       "    <tr style=\"text-align: right;\">\n",
       "      <th></th>\n",
       "      <th>PassengerId</th>\n",
       "      <th>Survived</th>\n",
       "      <th>Pclass</th>\n",
       "      <th>Sex</th>\n",
       "      <th>Age</th>\n",
       "      <th>SibSp</th>\n",
       "      <th>Parch</th>\n",
       "      <th>Fare</th>\n",
       "      <th>Embarked</th>\n",
       "    </tr>\n",
       "  </thead>\n",
       "  <tbody>\n",
       "    <tr>\n",
       "      <th>0</th>\n",
       "      <td>1</td>\n",
       "      <td>0</td>\n",
       "      <td>3</td>\n",
       "      <td>1.0</td>\n",
       "      <td>22.0</td>\n",
       "      <td>1</td>\n",
       "      <td>0</td>\n",
       "      <td>7.2500</td>\n",
       "      <td>2.0</td>\n",
       "    </tr>\n",
       "    <tr>\n",
       "      <th>1</th>\n",
       "      <td>2</td>\n",
       "      <td>1</td>\n",
       "      <td>1</td>\n",
       "      <td>0.0</td>\n",
       "      <td>38.0</td>\n",
       "      <td>1</td>\n",
       "      <td>0</td>\n",
       "      <td>71.2833</td>\n",
       "      <td>0.0</td>\n",
       "    </tr>\n",
       "    <tr>\n",
       "      <th>2</th>\n",
       "      <td>3</td>\n",
       "      <td>1</td>\n",
       "      <td>3</td>\n",
       "      <td>0.0</td>\n",
       "      <td>26.0</td>\n",
       "      <td>0</td>\n",
       "      <td>0</td>\n",
       "      <td>7.9250</td>\n",
       "      <td>2.0</td>\n",
       "    </tr>\n",
       "    <tr>\n",
       "      <th>3</th>\n",
       "      <td>4</td>\n",
       "      <td>1</td>\n",
       "      <td>1</td>\n",
       "      <td>0.0</td>\n",
       "      <td>35.0</td>\n",
       "      <td>1</td>\n",
       "      <td>0</td>\n",
       "      <td>53.1000</td>\n",
       "      <td>2.0</td>\n",
       "    </tr>\n",
       "    <tr>\n",
       "      <th>4</th>\n",
       "      <td>5</td>\n",
       "      <td>0</td>\n",
       "      <td>3</td>\n",
       "      <td>1.0</td>\n",
       "      <td>35.0</td>\n",
       "      <td>0</td>\n",
       "      <td>0</td>\n",
       "      <td>8.0500</td>\n",
       "      <td>2.0</td>\n",
       "    </tr>\n",
       "  </tbody>\n",
       "</table>\n",
       "</div>"
      ],
      "text/plain": [
       "   PassengerId  Survived  Pclass  Sex   Age  SibSp  Parch     Fare  Embarked\n",
       "0            1         0       3  1.0  22.0      1      0   7.2500       2.0\n",
       "1            2         1       1  0.0  38.0      1      0  71.2833       0.0\n",
       "2            3         1       3  0.0  26.0      0      0   7.9250       2.0\n",
       "3            4         1       1  0.0  35.0      1      0  53.1000       2.0\n",
       "4            5         0       3  1.0  35.0      0      0   8.0500       2.0"
      ]
     },
     "execution_count": 9,
     "metadata": {},
     "output_type": "execute_result"
    }
   ],
   "source": [
    "from sklearn.preprocessing import OrdinalEncoder\n",
    "\n",
    "# Initialize ordinal encoder\n",
    "ordinal_encoder = OrdinalEncoder()\n",
    "\n",
    "#Categorical features\n",
    "categorical_features = ['Sex', 'Embarked']\n",
    "\n",
    "# Apply the OrdinalEncoder on selected categorical features\n",
    "titanic[categorical_features] = ordinal_encoder.fit_transform(titanic[categorical_features])\n",
    "\n",
    "# Fill NaN's in Embarked\n",
    "median_embarked = titanic['Embarked'].mean()\n",
    "titanic['Embarked'].fillna(value=median_embarked, inplace=True)\n",
    "\n",
    "# Print results\n",
    "titanic.head()"
   ]
  },
  {
   "cell_type": "markdown",
   "metadata": {},
   "source": [
    "Vervang NaN in \"Ages\". Bepaal zelf of mediaan of gemiddelde hiervoor het best is.\n",
    "\n",
    " Zelf heb ik hier gekozen voor de mediaan, omdat de mediaan niet wordt beinvloed door extreme waarden. De mediaan vertegenwoordigt het middeslte punt van de data ongeacht de aanwezigheid van outliers.\n",
    "\n",
    " Als er de dataset weinig tot geen outliers bevast, dan is het misschien beter om het gemiddelde te gebruiken \n"
   ]
  },
  {
   "cell_type": "code",
   "execution_count": 10,
   "metadata": {},
   "outputs": [],
   "source": [
    "# Calculate mediaan age\n",
    "median_age = titanic['Age'].median()\n",
    "\n",
    "# replace NaN with avarage age\n",
    "titanic['Age'].fillna(median_age, inplace=True)"
   ]
  },
  {
   "cell_type": "markdown",
   "metadata": {},
   "source": [
    "## Middag"
   ]
  },
  {
   "cell_type": "markdown",
   "metadata": {},
   "source": [
    "Voorspel of passagiers de ramp hebben overleefd of niet. Bereid de data voor om je model te trainen. Wat wordt je target vector en hoe ziet je feature matrix er uit?\n",
    "\n",
    "Om mee te beginnen heb ik alles features gekozen naast de target, om een zo'n groot mogelijke dataset te geven. Achteraf gezien is het misschien handig om onrelevanten featues weg te laten.\n",
    "\n",
    "Daarna initialiseer ik de `X` feature matrix en `y` target vector om daar vervolgens mijn train en test data mee te maken.\n",
    "- `X` is de feature matrix, dat wil zeggen de inputvariabelen waarop het model zal worden getraind.\n",
    "- `y` is de target vector, dat wil zeggen de outputvariabele die het model probeert te voorspellen.\n",
    "\n",
    "Dit doe ik door de `train_test_split` methode.\n",
    "- `test_size=0.2` geeft aan dat 20% van de gegevens worden toegewezen aan de testset en 80% aan de trainingsset. Dit betekent dat de testset 20% van de totale gegevens zal bevatten.\n",
    "- `random_state=0` is een willekeurige zaadwaarde die wordt gebruikt om ervoor te zorgen dat de gegevens op dezelfde manier worden gesplitst elke keer dat de code wordt uitgevoerd. Dit zorgt voor reproduceerbare resultaten.\n",
    "\n",
    "- `X_train` en `y_train` bevatten de feature matrix en de target vector van de trainingsset, respectievelijk.\n",
    "\n",
    "- `X_test` en `y_test` bevatten de feature matrix en de target vector van de testset, respectievelijk."
   ]
  },
  {
   "cell_type": "code",
   "execution_count": 11,
   "metadata": {},
   "outputs": [],
   "source": [
    "# Select the features and target\n",
    "features = ['Pclass', 'Sex', 'Age', 'SibSp', 'Parch', 'Fare', 'Embarked']\n",
    "target = 'Survived'\n",
    "\n",
    "# Initialize feature matix and target vector\n",
    "X = titanic[features].values\n",
    "y = titanic[target].values\n",
    "\n",
    "# Split data for training and testing purposes\n",
    "X_train, X_test, y_train, y_test = train_test_split(X, y,test_size=0.2 ,random_state=0)"
   ]
  },
  {
   "cell_type": "markdown",
   "metadata": {},
   "source": [
    "Train en test KNN classifier\n",
    "\n",
    "Eerst initialiseer ik `knn` met `KNeighborsClassifier()` met `n_neighbors=6`. Dit creëert een KNN-classificatie model waarbij het aantal buren is ingesteld op 6. dit getekend dat bij het maken van een voorspelling, het model rekening houdt met de labels van de 6 dichtsbijzijnde buren.\n",
    "\n",
    "Daarna train ik het model met `fit()` methode met de gemaakte training sets.\n",
    "\n",
    "Om een voorspelling te maken gebruik ik `predict()` op de testset `X_tests`\n",
    "\n",
    "Daarna bereken ik de nauwkeurigheid van de voorspellingen door het te vergelijken met `y_tests`. En vervolgens print ik dat uit."
   ]
  },
  {
   "cell_type": "code",
   "execution_count": 12,
   "metadata": {},
   "outputs": [
    {
     "name": "stdout",
     "output_type": "stream",
     "text": [
      "KNN Model predictions: 74.30167597765363\n"
     ]
    }
   ],
   "source": [
    "# Initialize KNN model\n",
    "knn = KNeighborsClassifier(n_neighbors=6)\n",
    "\n",
    "# Train the model\n",
    "knn.fit(X_train, y_train)\n",
    "\n",
    "# Predict on testset\n",
    "y_pred = knn.predict(X_test)\n",
    "knn_score = accuracy_score(y_test, y_pred)\n",
    "\n",
    "# Print results\n",
    "print(\"KNN Model predictions:\", knn_score * 100)"
   ]
  },
  {
   "cell_type": "markdown",
   "metadata": {},
   "source": [
    "Train en test regressie classifier. Kies je lineair of logistisch?\n",
    "\n",
    "Ik heb hier gekozen voor een Logistische regressie omdat het vooral wordt gebruikt voor classificatieproblemen waarbij het doel is om een input toe te wijzen aan een van de discrete klassen of categorieën. Logistische regressie is geschikt voor binair classificatieproblemen waarbij de uitvoer twee klassen heeft.\n",
    "\n",
    "Dit werk hetzelfde als hierboven"
   ]
  },
  {
   "cell_type": "markdown",
   "metadata": {},
   "source": [
    "Welk model geeft het beste resultaat?\n",
    "\n",
    "- KNN: 74.301%\n",
    "- LR:  79.888%\n",
    "\n",
    "In mijn geval werkt het Logistische regressie model beter dan het KNN model. LR is zo'n ±5% meer accuraat dan KNN"
   ]
  },
  {
   "cell_type": "markdown",
   "metadata": {},
   "source": [
    "Extra: Kan je het resultaat verbeteren?\n",
    "\n",
    "Je kan het resultaat verbeteren door bij KNN bijvoorbeeld de neighbors aan te passen. Met meer of minder neightbors kan je een betere of slechtere voorspelling maken. `\n",
    "\n",
    "Ook zou je minder features mee kunnen geven zoals eerder verteld. \n",
    "\n",
    "Een andere seed kan ook effect hebben, hoewel je dan meer data aan het manipuleren bent dan accuraat voorspellingen aan het maken bent."
   ]
  },
  {
   "cell_type": "code",
   "execution_count": 13,
   "metadata": {},
   "outputs": [],
   "source": [
    "# Select the features and target\n",
    "features = ['Pclass', 'Sex', 'Age', 'SibSp', 'Fare']\n",
    "target = 'Survived'\n",
    "\n",
    "# Initialize feature matix and target vector\n",
    "X = titanic[features].values\n",
    "y = titanic[target].values\n",
    "\n",
    "# Split data for training and testing purposes\n",
    "X_train, X_test, y_train, y_test = train_test_split(X, y,test_size=0.2 ,random_state=0)"
   ]
  },
  {
   "cell_type": "code",
   "execution_count": 14,
   "metadata": {},
   "outputs": [
    {
     "name": "stdout",
     "output_type": "stream",
     "text": [
      "KNN Model predictions: 77.09497206703911\n"
     ]
    }
   ],
   "source": [
    "# Initialize KNN model\n",
    "knn = KNeighborsClassifier(n_neighbors=7)\n",
    "\n",
    "# Train the model\n",
    "knn.fit(X_train, y_train)\n",
    "\n",
    "# Predict on testset\n",
    "y_pred = knn.predict(X_test)\n",
    "knn_score = accuracy_score(y_test, y_pred)\n",
    "\n",
    "# Print results\n",
    "print(\"KNN Model predictions:\", knn_score * 100)"
   ]
  },
  {
   "cell_type": "code",
   "execution_count": 15,
   "metadata": {},
   "outputs": [
    {
     "name": "stdout",
     "output_type": "stream",
     "text": [
      "LR Model predictions: 80.44692737430168\n"
     ]
    }
   ],
   "source": [
    "# Initialize linear regression model\n",
    "lr = LogisticRegression(max_iter=3000)\n",
    "\n",
    "# Train the model\n",
    "lr.fit(X, y)\n",
    "\n",
    "# Predict on testset\n",
    "y_pred = lr.predict(X_test)\n",
    "lr_score = accuracy_score(y_test, y_pred)\n",
    "\n",
    "# Print results\n",
    "print(\"LR Model predictions:\", lr_score * 100)"
   ]
  },
  {
   "cell_type": "markdown",
   "metadata": {},
   "source": [
    "In de nieuwe iteraties van het KNN en LR model heb ik een paar procent accuratie erbij gekregen. \n",
    "\n",
    "Door Feature Engineering heb ik een paar feutures weg gelaten, waardoor de modellen meer accuraat hun voorspellingen kunnen doen. Bijde modellen zijn hierme zo'n ±1% mee omhoog gegaan.\n",
    "- KNN: 75.418%\n",
    "- LR: 80.446%\n",
    "\n",
    "Voor het KNN model heb ik ook nog naar de neighbors gekeken, hierbij was `n_neighbors=7` de beste parameter. Hiermee is de accuratie met nog ±2% omhoog gegeaan!\n",
    "- KNN: 77.094%\n",
    "\n",
    "Helaas ben ik niet verder gekomen dat dit. Als je aan de verdeling zit van training en test data, dan wordt de accuratie alleen maar slechter. Ook heeft `max_iter` ook geen impact op de accuratie.\n"
   ]
  },
  {
   "cell_type": "markdown",
   "metadata": {},
   "source": []
  }
 ],
 "metadata": {
  "kernelspec": {
   "display_name": "Python 3",
   "language": "python",
   "name": "python3"
  },
  "language_info": {
   "codemirror_mode": {
    "name": "ipython",
    "version": 3
   },
   "file_extension": ".py",
   "mimetype": "text/x-python",
   "name": "python",
   "nbconvert_exporter": "python",
   "pygments_lexer": "ipython3",
   "version": "3.11.5"
  }
 },
 "nbformat": 4,
 "nbformat_minor": 2
}
