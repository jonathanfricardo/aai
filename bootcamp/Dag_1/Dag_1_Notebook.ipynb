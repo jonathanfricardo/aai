{
 "cells": [
  {
   "cell_type": "markdown",
   "metadata": {},
   "source": [
    "## Dag 1 "
   ]
  },
  {
   "cell_type": "markdown",
   "metadata": {},
   "source": [
    "## Hello World"
   ]
  },
  {
   "cell_type": "code",
   "execution_count": 21,
   "metadata": {},
   "outputs": [
    {
     "name": "stdout",
     "output_type": "stream",
     "text": [
      "Hello world!\n",
      "Hello world!\n",
      "l\n",
      "!\n",
      "Hello world!\n",
      "Hello world!\n",
      "text\n",
      "variable\n"
     ]
    }
   ],
   "source": [
    "## Hello world\n",
    "print(\"Hello world!\")\n",
    "\n",
    "## Variable\n",
    "hw = \"Hello world!\"\n",
    "print(hw)\n",
    "\n",
    "## 3rd letter\n",
    "print(hw[2])\n",
    "\n",
    "## Last letter\n",
    "print(hw[11])\n",
    "\n",
    "## Function\n",
    "def printHw():\n",
    "    print(hw)\n",
    "\n",
    "printHw() \n",
    "\n",
    "## Function with return\n",
    "def returnHw():\n",
    "    return hw\n",
    "\n",
    "print(returnHw())\n",
    "\n",
    "## Print input\n",
    "\n",
    "def printInput(input):\n",
    "    print(input)\n",
    "\n",
    "printInput(\"text\")\n",
    "\n",
    "## Print variable\n",
    "test = \"variable\"\n",
    "def printVar(variable):\n",
    "    print(variable)\n",
    "\n",
    "printVar(test)"
   ]
  },
  {
   "cell_type": "markdown",
   "metadata": {},
   "source": [
    "## Sommetjes en lijstjes"
   ]
  },
  {
   "cell_type": "code",
   "execution_count": 5,
   "metadata": {},
   "outputs": [
    {
     "name": "stdout",
     "output_type": "stream",
     "text": [
      "2\n",
      "[1, 2, 3, 4, 5, 6, 7, 8, 9, 10]\n",
      "[1, 2, 3, 4, 5, 6, 7, 8, 9, 10, 11, 12, 13, 14, 15]\n",
      "[6, 7, 8, 9, 10, 11, 12, 13, 14, 15, 16, 17, 18, 19, 20]\n",
      "195\n",
      "5050\n"
     ]
    }
   ],
   "source": [
    "\n",
    "## 1 + 1\n",
    "count = 1 + 1\n",
    "print(count)\n",
    "\n",
    "## List\n",
    "a = list(range(1,11))\n",
    "print(a)\n",
    "\n",
    "## Extend the list\n",
    "b = list(range(11,16))\n",
    "a.extend(b)\n",
    "print(a)\n",
    "\n",
    "## List comprehension\n",
    "c = []\n",
    "for num in a:\n",
    "    c.append(num+5)\n",
    "print(c)\n",
    "\n",
    "## totalSum of list\n",
    "print(sum(c))\n",
    "\n",
    "## ∑𝑖=100\n",
    "i = 0\n",
    "totalSum = 0\n",
    "while i <= 100:\n",
    "    totalSum += i\n",
    "    i += 1\n",
    "print(totalSum)"
   ]
  },
  {
   "cell_type": "markdown",
   "metadata": {},
   "source": [
    "## Conditionals"
   ]
  },
  {
   "cell_type": "code",
   "execution_count": 27,
   "metadata": {},
   "outputs": [
    {
     "name": "stdout",
     "output_type": "stream",
     "text": [
      "False\n",
      "True\n",
      "True\n",
      "False\n",
      "False\n",
      "True\n",
      "\n",
      "True\n",
      "True\n",
      "False\n",
      "\n",
      "Hello World\n",
      "None\n",
      "\n",
      "10\n",
      "None\n",
      "14\n",
      "\n",
      "Current numbers: 3 & 7\n",
      "Current numbers: 4 & 7\n",
      "Current numbers: 5 & 7\n",
      "Current numbers: 6 & 7\n",
      "14\n",
      "\n",
      "9.42477796076938\n",
      "10\n"
     ]
    }
   ],
   "source": [
    "import math\n",
    "## Operators\n",
    "print(5 == 6)\n",
    "print(5 != 6)\n",
    "print(5 < 6)\n",
    "print(5 > 6)\n",
    "print(5 >= 6)\n",
    "print(5 <= 6)\n",
    "print('')\n",
    "\n",
    "## 'in' operator\n",
    "print('s' in 'Mississippi') # single chars\n",
    "print('sip' in 'Mississippi') # substrings\n",
    "print('mis' in 'Mississippi') # case sensitive\n",
    "print('')\n",
    "\n",
    "## String function\n",
    "a = \"Hello \"\n",
    "b = \"World\"\n",
    "num = 5\n",
    "def connectString(a, b):\n",
    "    if isinstance(a, str) and isinstance(b, str):\n",
    "        return(a+b)\n",
    "\n",
    "print(connectString(a, b))\n",
    "print(connectString(a, num))\n",
    "print('')\n",
    "\n",
    "## Count intergers\n",
    "num1 = 3\n",
    "num2 = 7\n",
    "num3 = 7\n",
    "\n",
    "def countInterger(a, b):\n",
    "    if b >= a:\n",
    "        return a + b\n",
    "\n",
    "print(countInterger(num1, num2))\n",
    "print(countInterger(num2, num1))\n",
    "print(countInterger(num2, num3))\n",
    "print('')\n",
    "\n",
    "## Count when equal\n",
    "def countEqual(a, b):\n",
    "    minNumber = min(a, b)\n",
    "    maxNumber = max(a, b)\n",
    "    while minNumber < maxNumber:\n",
    "        print(\"Current numbers: \" + str(minNumber) + \" & \" + str(maxNumber))\n",
    "        minNumber += 1\n",
    "    return minNumber + maxNumber\n",
    "\n",
    "print(countEqual(num1, num2))\n",
    "print('')\n",
    "\n",
    "## Pi biggest number\n",
    "def biggestNumber(a, b):\n",
    "    c = a * math.pi\n",
    "    print(max(c,b))\n",
    "\n",
    "biggestNumber(num1, num2)\n",
    "biggestNumber(num1, 10)"
   ]
  },
  {
   "cell_type": "markdown",
   "metadata": {},
   "source": [
    "## Dictionary"
   ]
  },
  {
   "cell_type": "code",
   "execution_count": 35,
   "metadata": {},
   "outputs": [
    {
     "name": "stdout",
     "output_type": "stream",
     "text": [
      "{'a': 1, 'b': 20}\n",
      "{'a': 1, 'b': 20, 'c': 5}\n",
      "\n",
      "1\n",
      "20\n",
      "5\n",
      "\n",
      "a\n",
      "b\n",
      "c\n",
      "\n",
      "1\n",
      "5\n",
      "20\n",
      "{'Hello world': 11}\n"
     ]
    }
   ],
   "source": [
    "## Simple dictionary\n",
    "new_dict = { 'a': 1,   'b': 20}\n",
    "print(new_dict)\n",
    "\n",
    "new_dict.update({'c': 5})\n",
    "print(new_dict)\n",
    "print('')\n",
    "\n",
    "## Loop over values\n",
    "for value in new_dict.values():\n",
    "    print(value)\n",
    "print('')\n",
    "\n",
    "## Loop over sorted keys\n",
    "for sorted_key in sorted(new_dict.keys()):\n",
    "    print(sorted_key)\n",
    "print('')\n",
    "\n",
    "## Loop over sorted values\n",
    "for sorted_value in sorted(new_dict.values()):\n",
    "    print(sorted_value)\n",
    "print('')    \n",
    "\n",
    "## Count chars in String\n",
    "test = \"Hello world\"\n",
    "\n",
    "def count_chars(a):\n",
    "    chars = len(a)\n",
    "    count_chars_dict = {a: chars}\n",
    "    return count_chars_dict\n",
    "\n",
    "print(count_chars(test))\n",
    "print('')"
   ]
  },
  {
   "cell_type": "markdown",
   "metadata": {},
   "source": []
  }
 ],
 "metadata": {
  "kernelspec": {
   "display_name": "Python 3",
   "language": "python",
   "name": "python3"
  },
  "language_info": {
   "codemirror_mode": {
    "name": "ipython",
    "version": 3
   },
   "file_extension": ".py",
   "mimetype": "text/x-python",
   "name": "python",
   "nbconvert_exporter": "python",
   "pygments_lexer": "ipython3",
   "version": "3.10.10"
  }
 },
 "nbformat": 4,
 "nbformat_minor": 2
}
