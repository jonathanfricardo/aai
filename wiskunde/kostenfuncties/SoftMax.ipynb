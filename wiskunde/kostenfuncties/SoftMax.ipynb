{
 "cells": [
  {
   "cell_type": "markdown",
   "metadata": {},
   "source": [
    "# SoftMax\n",
    "\n",
    "![Softmax](SoftMax.png)\n",
    "\n",
    "De Softmax-functie wordt vaak gebruikt in machine learning, vooral in logistieke regressie modellen en neurale netwerken. Het wordt gebruikt om de uitvoer van een model te converteren naar waarschijnlijkheidsverdelingen van voorspelde klassen.\n",
    "\n",
    "De formule voor de Softmax-functie in LaTeX is:\n",
    "\n",
    "$$ \\sigma(z)_j = \\frac{e^{z_j}}{\\sum_{k=1}^{K} e^{z_k}} $$\n",
    "\n",
    "Waarbij:\n",
    "\n",
    "- $z$ is een vector van de uitvoer van het model voor elke klasse\n",
    "- $j$ is de specifieke klasse waarvoor we de Softmax-waarde berekenen\n",
    "- $K$ is het totale aantal klassen\n",
    "\n",
    "De Softmax-functie werkt door de exponentiële functie toe te passen op elke uitvoerwaarde van het model en deze te normaliseren door te delen door de som van alle exponentiële waarden. Dit zorgt ervoor dat de som van alle uitvoerwaarden (waarschijnlijkheden) gelijk is aan 1, wat een vereiste is voor een waarschijnlijkheidsverdeling.\n",
    "\n",
    "Het gebruik van de Softmax-functie is handig omdat het een manier biedt om de uitvoer van een model te interpreteren als waarschijnlijkheden. Dit is vooral nuttig bij classificatieproblemen waarbij we geïnteresseerd zijn in de waarschijnlijkheid van elke klasse.\n",
    "\n",
    "Ook kan je nun gebruik maken van backpropegation\n"
   ]
  },
  {
   "cell_type": "markdown",
   "metadata": {},
   "source": [
    "# ArgMax\n",
    "\n",
    "![ArgMax](ArgMax.png)\n",
    "\n",
    "De ArgMax-functie is een wiskundige functie die de index van het maximale element in een vector retourneert. Het wordt vaak gebruikt in machine learning om de klasse met de hoogste voorspelde waarschijnlijkheid te selecteren.\n",
    "\n",
    "Meestel gebruik je eerst SoftMax om een model te trainen, omdat je dan wel gebruik kan maken van back propegation. Aangezien je geen back propegation hebt met ArgMax.\n",
    "\n",
    "Als het model getraint is, kan je ArgMax gebruiken om een duidelijk antwoord te krijgen."
   ]
  }
 ],
 "metadata": {
  "language_info": {
   "name": "python"
  }
 },
 "nbformat": 4,
 "nbformat_minor": 2
}
