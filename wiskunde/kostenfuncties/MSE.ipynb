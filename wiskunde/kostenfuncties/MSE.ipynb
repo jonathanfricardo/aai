{
 "cells": [
  {
   "cell_type": "markdown",
   "metadata": {},
   "source": [
    "# Mean Squared Error"
   ]
  },
  {
   "cell_type": "markdown",
   "metadata": {},
   "source": [
    "$$ MSE = \\frac{1}{n} \\sum_{i=1}^{n} (y_i - \\hat{y}_i)^2 $$\n",
    "\n",
    "\n",
    "![MSE](MSE.avif)"
   ]
  },
  {
   "cell_type": "markdown",
   "metadata": {},
   "source": [
    "Mean Squared Error (MSE) is een veelgebruikte kostenfunctie in machine learning en AI. Het is een maat voor de gemiddelde kwadratische afwijking tussen de werkelijke en de voorspelde waarden. De formule voor MSE is:\n",
    "\n",
    "$$ MSE = \\frac{1}{n} \\sum_{i=1}^{n} (y_i - \\hat{y}_i)^2 $$"
   ]
  },
  {
   "cell_type": "markdown",
   "metadata": {},
   "source": [
    "Waarbij:\n",
    "\n",
    "- $n$ is het aantal observaties\n",
    "- $y_u$ is de werkelijke waarde\n",
    "- $\\hat{y}_i$ is de voorspelde waarde\n",
    "\n",
    "MSE is belangrijk in AI omdat het een kwantitatieve maatstaf biedt voor hoe goed een model presteert. Een lager MSE betekent dat de voorspellingen van het model dichter bij de werkelijke waarden liggen, wat duidt op een beter presterend model. Het minimaliseren van de MSE tijdens het trainen van een model is een veelgebruikte strategie om de nauwkeurigheid van het model te verbeteren.\n"
   ]
  }
 ],
 "metadata": {
  "language_info": {
   "name": "python"
  }
 },
 "nbformat": 4,
 "nbformat_minor": 2
}
